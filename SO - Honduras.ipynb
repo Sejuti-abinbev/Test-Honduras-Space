{
 "cells": [
  {
   "cell_type": "code",
   "execution_count": 1,
   "id": "c0d6d32b",
   "metadata": {
    "ExecuteTime": {
     "end_time": "2023-10-23T14:19:22.974736Z",
     "start_time": "2023-10-23T14:19:22.955338Z"
    }
   },
   "outputs": [
    {
     "data": {
      "text/plain": [
       "<module 'space_opt_util' from 'C:\\\\Users\\\\40103735\\\\OneDrive - Anheuser-Busch InBev\\\\Sejuti\\\\MAZ\\\\Space Optimization\\\\Honduras\\\\Modeling\\\\space_opt_util.py'>"
      ]
     },
     "execution_count": 1,
     "metadata": {},
     "output_type": "execute_result"
    }
   ],
   "source": [
    "import pandas as pd \n",
    "import numpy as np\n",
    "import datetime\n",
    "import importlib\n",
    "from datetime import datetime,timedelta,date\n",
    "pd.set_option('display.max_columns', None)\n",
    "import warnings\n",
    "warnings.filterwarnings('ignore')\n",
    "from pulp import LpVariable, LpProblem, LpMinimize, lpSum, LpStatus ,LpMaximize\n",
    "\n",
    "import space_opt_util as space_util\n",
    "importlib.reload(space_util)"
   ]
  },
  {
   "cell_type": "code",
   "execution_count": 2,
   "id": "2cdbab6f",
   "metadata": {
    "ExecuteTime": {
     "end_time": "2023-10-23T14:19:23.218802Z",
     "start_time": "2023-10-23T14:19:23.201816Z"
    }
   },
   "outputs": [],
   "source": [
    "fecha = '14-09-2023'\n",
    "fecha_dt = datetime.strptime(fecha, '%d-%m-%Y')\n",
    "##############\n",
    "#fecha_dt = date.today()\n",
    "####################\n",
    "\n",
    "fecha_str=datetime.strftime(fecha_dt, '%d-%m-%Y')\n",
    "fecha_new_str= datetime.strftime(fecha_dt, \"%d.%m.%Y\")\n",
    "day = fecha_dt.strftime(\"%A\") \n",
    "\n",
    "#### what is this block saying?? what if the day is saturday? - Sejuti\n",
    "### each day is named here\n",
    "if day=='Sunday':\n",
    "    day_of_week=day    \n",
    "elif day!='Saturday':\n",
    "    day_of_week=\"Weekday\"\n",
    "else:\n",
    "    day_of_week=day"
   ]
  },
  {
   "cell_type": "code",
   "execution_count": 3,
   "id": "de5fa7c9",
   "metadata": {
    "ExecuteTime": {
     "end_time": "2023-10-23T14:19:23.436608Z",
     "start_time": "2023-10-23T14:19:23.423368Z"
    }
   },
   "outputs": [],
   "source": [
    "default_start_time ='00:00:01'"
   ]
  },
  {
   "cell_type": "code",
   "execution_count": 4,
   "id": "53cc9eaa",
   "metadata": {
    "ExecuteTime": {
     "end_time": "2023-10-23T14:19:23.617394Z",
     "start_time": "2023-10-23T14:19:23.605627Z"
    }
   },
   "outputs": [
    {
     "data": {
      "text/plain": [
       "'14-09-2023'"
      ]
     },
     "execution_count": 4,
     "metadata": {},
     "output_type": "execute_result"
    }
   ],
   "source": [
    "fecha_str"
   ]
  },
  {
   "cell_type": "code",
   "execution_count": 5,
   "id": "ea11398e",
   "metadata": {
    "ExecuteTime": {
     "end_time": "2023-10-23T14:19:23.829557Z",
     "start_time": "2023-10-23T14:19:23.820220Z"
    }
   },
   "outputs": [
    {
     "data": {
      "text/plain": [
       "'Thursday'"
      ]
     },
     "execution_count": 5,
     "metadata": {},
     "output_type": "execute_result"
    }
   ],
   "source": [
    "day"
   ]
  },
  {
   "cell_type": "markdown",
   "id": "210ecf5e",
   "metadata": {},
   "source": [
    "### SKU Attribute file"
   ]
  },
  {
   "cell_type": "code",
   "execution_count": 6,
   "id": "0b4fffe6",
   "metadata": {
    "ExecuteTime": {
     "end_time": "2023-10-23T14:19:24.417271Z",
     "start_time": "2023-10-23T14:19:24.256215Z"
    }
   },
   "outputs": [],
   "source": [
    "sku_description=pd.read_excel('Data/HO Master Data Materials FG 2023.xlsx')"
   ]
  },
  {
   "cell_type": "code",
   "execution_count": 7,
   "id": "380f5d04",
   "metadata": {
    "ExecuteTime": {
     "end_time": "2023-10-23T14:19:24.522787Z",
     "start_time": "2023-10-23T14:19:24.493861Z"
    }
   },
   "outputs": [
    {
     "data": {
      "text/html": [
       "<div>\n",
       "<style scoped>\n",
       "    .dataframe tbody tr th:only-of-type {\n",
       "        vertical-align: middle;\n",
       "    }\n",
       "\n",
       "    .dataframe tbody tr th {\n",
       "        vertical-align: top;\n",
       "    }\n",
       "\n",
       "    .dataframe thead th {\n",
       "        text-align: right;\n",
       "    }\n",
       "</style>\n",
       "<table border=\"1\" class=\"dataframe\">\n",
       "  <thead>\n",
       "    <tr style=\"text-align: right;\">\n",
       "      <th></th>\n",
       "      <th>Sap Code</th>\n",
       "      <th>Description</th>\n",
       "      <th>Size</th>\n",
       "      <th>Pack</th>\n",
       "      <th>Category</th>\n",
       "      <th>Brand</th>\n",
       "      <th>Box x Hls</th>\n",
       "      <th>Box x Pallet</th>\n",
       "      <th>Weight x Box</th>\n",
       "      <th>Units x Box</th>\n",
       "      <th>Active Code</th>\n",
       "      <th>Weight x Pallet</th>\n",
       "      <th>HLS x Box</th>\n",
       "    </tr>\n",
       "  </thead>\n",
       "  <tbody>\n",
       "    <tr>\n",
       "      <th>0</th>\n",
       "      <td>H1004</td>\n",
       "      <td>BARENA EXPORTACION 12OZ 24UD</td>\n",
       "      <td>12 ONZ</td>\n",
       "      <td>VIDRIO NR</td>\n",
       "      <td>CERVEZA</td>\n",
       "      <td>BARENA</td>\n",
       "      <td>11.741</td>\n",
       "      <td>49.0</td>\n",
       "      <td>39.06</td>\n",
       "      <td>24</td>\n",
       "      <td>No</td>\n",
       "      <td>1981.94</td>\n",
       "      <td>0.085172</td>\n",
       "    </tr>\n",
       "    <tr>\n",
       "      <th>1</th>\n",
       "      <td>H1005</td>\n",
       "      <td>PORT ROYAL EXPORTACION 12OZ</td>\n",
       "      <td>12 ONZ</td>\n",
       "      <td>VIDRIO NR</td>\n",
       "      <td>CERVEZA</td>\n",
       "      <td>PORT ROYAL</td>\n",
       "      <td>11.741</td>\n",
       "      <td>49.0</td>\n",
       "      <td>39.06</td>\n",
       "      <td>24</td>\n",
       "      <td>No</td>\n",
       "      <td>1981.94</td>\n",
       "      <td>0.085172</td>\n",
       "    </tr>\n",
       "  </tbody>\n",
       "</table>\n",
       "</div>"
      ],
      "text/plain": [
       "  Sap Code                   Description    Size       Pack Category  \\\n",
       "0    H1004  BARENA EXPORTACION 12OZ 24UD  12 ONZ  VIDRIO NR  CERVEZA   \n",
       "1    H1005   PORT ROYAL EXPORTACION 12OZ  12 ONZ  VIDRIO NR  CERVEZA   \n",
       "\n",
       "        Brand  Box x Hls  Box x Pallet  Weight x Box  Units x Box Active Code  \\\n",
       "0      BARENA     11.741          49.0         39.06           24          No   \n",
       "1  PORT ROYAL     11.741          49.0         39.06           24          No   \n",
       "\n",
       "   Weight x Pallet  HLS x Box  \n",
       "0          1981.94   0.085172  \n",
       "1          1981.94   0.085172  "
      ]
     },
     "execution_count": 7,
     "metadata": {},
     "output_type": "execute_result"
    }
   ],
   "source": [
    "sku_description.head(n=2)"
   ]
  },
  {
   "cell_type": "code",
   "execution_count": 8,
   "id": "9ae73840",
   "metadata": {
    "ExecuteTime": {
     "end_time": "2023-10-23T14:19:24.752561Z",
     "start_time": "2023-10-23T14:19:24.735572Z"
    }
   },
   "outputs": [],
   "source": [
    "def read_sku_description(sku_description):\n",
    "    #reads sku description \n",
    "    sku_description.columns = sku_description.columns.str.strip()\n",
    "    #print(sku_description.columns)\n",
    "    #remove rows where code is null and hl per pallet is null\n",
    "    sku_description=sku_description[~sku_description['Sap Code'].isnull()]\n",
    "    sku_description=sku_description[~sku_description['Weight x Pallet'].isnull()]\n",
    "    sku_description=sku_description[~sku_description['Box x Pallet'].isnull()]\n",
    "    sku_description=sku_description.drop_duplicates(subset=['Sap Code'],keep='first')\n",
    "    sku_description=sku_description.rename(columns={'Sap Code': 'codigo','Weight x Pallet':'pound_weight_per_pallet','Box x Pallet':'package_per_pallet'})\n",
    "    sku_description['kg_weight_per_pallet']=sku_description['pound_weight_per_pallet']*0.453592\n",
    "    return sku_description"
   ]
  },
  {
   "cell_type": "code",
   "execution_count": 9,
   "id": "37a1ceee",
   "metadata": {
    "ExecuteTime": {
     "end_time": "2023-10-23T14:19:24.961145Z",
     "start_time": "2023-10-23T14:19:24.941390Z"
    }
   },
   "outputs": [],
   "source": [
    "sku_description=read_sku_description(sku_description)"
   ]
  },
  {
   "cell_type": "code",
   "execution_count": 10,
   "id": "58469752",
   "metadata": {
    "ExecuteTime": {
     "end_time": "2023-10-23T14:19:25.195941Z",
     "start_time": "2023-10-23T14:19:25.172753Z"
    }
   },
   "outputs": [
    {
     "data": {
      "text/html": [
       "<div>\n",
       "<style scoped>\n",
       "    .dataframe tbody tr th:only-of-type {\n",
       "        vertical-align: middle;\n",
       "    }\n",
       "\n",
       "    .dataframe tbody tr th {\n",
       "        vertical-align: top;\n",
       "    }\n",
       "\n",
       "    .dataframe thead th {\n",
       "        text-align: right;\n",
       "    }\n",
       "</style>\n",
       "<table border=\"1\" class=\"dataframe\">\n",
       "  <thead>\n",
       "    <tr style=\"text-align: right;\">\n",
       "      <th></th>\n",
       "      <th>codigo</th>\n",
       "      <th>Description</th>\n",
       "      <th>Size</th>\n",
       "      <th>Pack</th>\n",
       "      <th>Category</th>\n",
       "      <th>Brand</th>\n",
       "      <th>Box x Hls</th>\n",
       "      <th>package_per_pallet</th>\n",
       "      <th>Weight x Box</th>\n",
       "      <th>Units x Box</th>\n",
       "      <th>Active Code</th>\n",
       "      <th>pound_weight_per_pallet</th>\n",
       "      <th>HLS x Box</th>\n",
       "      <th>kg_weight_per_pallet</th>\n",
       "    </tr>\n",
       "  </thead>\n",
       "  <tbody>\n",
       "    <tr>\n",
       "      <th>0</th>\n",
       "      <td>H1004</td>\n",
       "      <td>BARENA EXPORTACION 12OZ 24UD</td>\n",
       "      <td>12 ONZ</td>\n",
       "      <td>VIDRIO NR</td>\n",
       "      <td>CERVEZA</td>\n",
       "      <td>BARENA</td>\n",
       "      <td>11.741</td>\n",
       "      <td>49.0</td>\n",
       "      <td>39.06</td>\n",
       "      <td>24</td>\n",
       "      <td>No</td>\n",
       "      <td>1981.94</td>\n",
       "      <td>0.085172</td>\n",
       "      <td>898.992128</td>\n",
       "    </tr>\n",
       "    <tr>\n",
       "      <th>1</th>\n",
       "      <td>H1005</td>\n",
       "      <td>PORT ROYAL EXPORTACION 12OZ</td>\n",
       "      <td>12 ONZ</td>\n",
       "      <td>VIDRIO NR</td>\n",
       "      <td>CERVEZA</td>\n",
       "      <td>PORT ROYAL</td>\n",
       "      <td>11.741</td>\n",
       "      <td>49.0</td>\n",
       "      <td>39.06</td>\n",
       "      <td>24</td>\n",
       "      <td>No</td>\n",
       "      <td>1981.94</td>\n",
       "      <td>0.085172</td>\n",
       "      <td>898.992128</td>\n",
       "    </tr>\n",
       "  </tbody>\n",
       "</table>\n",
       "</div>"
      ],
      "text/plain": [
       "  codigo                   Description    Size       Pack Category  \\\n",
       "0  H1004  BARENA EXPORTACION 12OZ 24UD  12 ONZ  VIDRIO NR  CERVEZA   \n",
       "1  H1005   PORT ROYAL EXPORTACION 12OZ  12 ONZ  VIDRIO NR  CERVEZA   \n",
       "\n",
       "        Brand  Box x Hls  package_per_pallet  Weight x Box  Units x Box  \\\n",
       "0      BARENA     11.741                49.0         39.06           24   \n",
       "1  PORT ROYAL     11.741                49.0         39.06           24   \n",
       "\n",
       "  Active Code  pound_weight_per_pallet  HLS x Box  kg_weight_per_pallet  \n",
       "0          No                  1981.94   0.085172            898.992128  \n",
       "1          No                  1981.94   0.085172            898.992128  "
      ]
     },
     "execution_count": 10,
     "metadata": {},
     "output_type": "execute_result"
    }
   ],
   "source": [
    "sku_description.head(n=2)"
   ]
  },
  {
   "cell_type": "markdown",
   "id": "07d00afb",
   "metadata": {},
   "source": [
    "### Fleet data- Attribute and Currently availability and Ficha level Restriction"
   ]
  },
  {
   "cell_type": "markdown",
   "id": "f14fca17",
   "metadata": {},
   "source": [
    "Fleet Attribute"
   ]
  },
  {
   "cell_type": "code",
   "execution_count": 11,
   "id": "c8d01742",
   "metadata": {
    "ExecuteTime": {
     "end_time": "2023-10-23T14:19:26.125253Z",
     "start_time": "2023-10-23T14:19:26.114772Z"
    }
   },
   "outputs": [],
   "source": [
    "def get_static_fleet_attribute_data(df_fleet):\n",
    "    #Read and preprocess static fleet attribute data \n",
    "    df_fleet.columns = df_fleet.columns.str.strip()\n",
    "    df_fleet=df_fleet.rename(columns={'Transporte2': 'Tipo de Vehículo','Empresa':'Modelo','Remolque2':'Ficha','Pallets':'Capacidad Pallets'})\n",
    "    df_fleet['Capacidad Ton']=np.where(df_fleet['Tipo de Vehículo']=='Terceros',37,41)\n",
    "    df_fleet['Capacidad KG'] =df_fleet['Capacidad Ton']*907.185\n",
    "    #df_fleet['Capacidad Ton'] =df_fleet['Peso Lbs']*0.00110231\n",
    "    df_fleet_list=df_fleet[~df_fleet['Tipo de Vehículo'].isnull()]\n",
    "    df_fleet_list['BREWERY']='all'\n",
    "    #df_fleet_list['Capacidad Ton']= np.where(df_fleet_list['Capacidad Pallets']==24.0, 40.0, df_fleet_list['Capacidad Ton'])\n",
    "    df_fleet_list['Horas de utilidad'] = '24 Hr'\n",
    "    df_fleet_list=df_fleet_list[['Ficha', 'Tipo de Vehículo', 'Modelo','Capacidad KG','Capacidad Ton', 'Capacidad Pallets','Horas de utilidad','BREWERY']]\n",
    "    #df_fleet_list=df_fleet_list[~(df_fleet_list.Ficha.isin(ficha_do_not_use_list)) ]\n",
    "    return df_fleet_list"
   ]
  },
  {
   "cell_type": "code",
   "execution_count": 12,
   "id": "2e1ea170",
   "metadata": {
    "ExecuteTime": {
     "end_time": "2023-10-23T14:19:26.536111Z",
     "start_time": "2023-10-23T14:19:26.420237Z"
    }
   },
   "outputs": [],
   "source": [
    "df_fleet=pd.read_excel(r'Data/Fleet.xlsx',sheet_name='Remolque')"
   ]
  },
  {
   "cell_type": "code",
   "execution_count": 13,
   "id": "7cebf4e0",
   "metadata": {
    "ExecuteTime": {
     "end_time": "2023-10-23T14:19:26.727486Z",
     "start_time": "2023-10-23T14:19:26.707003Z"
    }
   },
   "outputs": [],
   "source": [
    "df_fleet_list=get_static_fleet_attribute_data(df_fleet)"
   ]
  },
  {
   "cell_type": "code",
   "execution_count": 14,
   "id": "07ed93f4",
   "metadata": {
    "ExecuteTime": {
     "end_time": "2023-10-23T14:19:27.017044Z",
     "start_time": "2023-10-23T14:19:26.989889Z"
    }
   },
   "outputs": [
    {
     "data": {
      "text/html": [
       "<div>\n",
       "<style scoped>\n",
       "    .dataframe tbody tr th:only-of-type {\n",
       "        vertical-align: middle;\n",
       "    }\n",
       "\n",
       "    .dataframe tbody tr th {\n",
       "        vertical-align: top;\n",
       "    }\n",
       "\n",
       "    .dataframe thead th {\n",
       "        text-align: right;\n",
       "    }\n",
       "</style>\n",
       "<table border=\"1\" class=\"dataframe\">\n",
       "  <thead>\n",
       "    <tr style=\"text-align: right;\">\n",
       "      <th></th>\n",
       "      <th>Ficha</th>\n",
       "      <th>Tipo de Vehículo</th>\n",
       "      <th>Modelo</th>\n",
       "      <th>Capacidad KG</th>\n",
       "      <th>Capacidad Ton</th>\n",
       "      <th>Capacidad Pallets</th>\n",
       "      <th>Horas de utilidad</th>\n",
       "      <th>BREWERY</th>\n",
       "    </tr>\n",
       "  </thead>\n",
       "  <tbody>\n",
       "    <tr>\n",
       "      <th>0</th>\n",
       "      <td>HN-MR88</td>\n",
       "      <td>Hibrida</td>\n",
       "      <td>NUÑEZ</td>\n",
       "      <td>37194.585</td>\n",
       "      <td>41</td>\n",
       "      <td>28</td>\n",
       "      <td>24 Hr</td>\n",
       "      <td>all</td>\n",
       "    </tr>\n",
       "    <tr>\n",
       "      <th>1</th>\n",
       "      <td>HN-MR93</td>\n",
       "      <td>Hibrida</td>\n",
       "      <td>EMTRATECA</td>\n",
       "      <td>37194.585</td>\n",
       "      <td>41</td>\n",
       "      <td>28</td>\n",
       "      <td>24 Hr</td>\n",
       "      <td>all</td>\n",
       "    </tr>\n",
       "  </tbody>\n",
       "</table>\n",
       "</div>"
      ],
      "text/plain": [
       "     Ficha Tipo de Vehículo     Modelo  Capacidad KG  Capacidad Ton  \\\n",
       "0  HN-MR88          Hibrida      NUÑEZ     37194.585             41   \n",
       "1  HN-MR93          Hibrida  EMTRATECA     37194.585             41   \n",
       "\n",
       "  Capacidad Pallets Horas de utilidad BREWERY  \n",
       "0                28             24 Hr     all  \n",
       "1                28             24 Hr     all  "
      ]
     },
     "execution_count": 14,
     "metadata": {},
     "output_type": "execute_result"
    }
   ],
   "source": [
    "df_fleet_list.head(n=2)"
   ]
  },
  {
   "cell_type": "code",
   "execution_count": 15,
   "id": "9c3fb7da",
   "metadata": {
    "ExecuteTime": {
     "end_time": "2023-10-23T14:19:27.280361Z",
     "start_time": "2023-10-23T14:19:27.263891Z"
    }
   },
   "outputs": [
    {
     "data": {
      "text/plain": [
       "(258, 8)"
      ]
     },
     "execution_count": 15,
     "metadata": {},
     "output_type": "execute_result"
    }
   ],
   "source": [
    "df_fleet_list.shape"
   ]
  },
  {
   "cell_type": "markdown",
   "id": "07de6a2c",
   "metadata": {},
   "source": [
    "Current Fleet data"
   ]
  },
  {
   "cell_type": "code",
   "execution_count": 16,
   "id": "5ebe39f6",
   "metadata": {
    "ExecuteTime": {
     "end_time": "2023-10-23T14:19:27.785193Z",
     "start_time": "2023-10-23T14:19:27.765172Z"
    }
   },
   "outputs": [],
   "source": [
    "def format2(str1):\n",
    "    ##convert time from 1900-01-01 02:00:00\t to 02:00:00\n",
    "    result=str1\n",
    "    if len(str1.split())==2:\n",
    "        result=str1.split()[1]\n",
    "    return result "
   ]
  },
  {
   "cell_type": "code",
   "execution_count": 17,
   "id": "f3303992",
   "metadata": {
    "ExecuteTime": {
     "end_time": "2023-10-23T14:19:28.150748Z",
     "start_time": "2023-10-23T14:19:28.138419Z"
    }
   },
   "outputs": [],
   "source": [
    "def assign_initial_time(current_day_fleet_siders,fecha_next_str,default_start_time,day):\n",
    "    import datetime\n",
    "    from datetime import timedelta\n",
    "    Fleet_start_date_time_org=pd.to_datetime(fecha_next_str+\" \"+default_start_time, format='%d-%m-%Y %H:%M:%S')\n",
    "    if day=='Monday':\n",
    "        Max_reach_time_at_destiny=Fleet_start_date_time_org+datetime.timedelta(hours=17)\n",
    "    else:\n",
    "        Max_reach_time_at_destiny=Fleet_start_date_time_org+datetime.timedelta(hours=23)\n",
    "    current_day_fleet_siders['Fleet_start_time']=default_start_time\n",
    "    current_day_fleet_siders['Fleet_start_date_time']=pd.to_datetime(fecha_next_str+\" \"+default_start_time, format='%d-%m-%Y %H:%M:%S')\n",
    "    current_day_fleet_siders['Fleet_start_date_time_org']=Fleet_start_date_time_org\n",
    "    current_day_fleet_siders['Max_reach_time_at_destiny']=Max_reach_time_at_destiny\n",
    "    #print(type(Fleet_start_date_time_org))\n",
    "    #print(type(Max_reach_time_at_destiny))\n",
    "    current_day_fleet_siders['Fleet_start_time']=pd.to_datetime(current_day_fleet_siders['Fleet_start_time'], format='%H:%M:%S').dt.time\n",
    "    return current_day_fleet_siders"
   ]
  },
  {
   "cell_type": "code",
   "execution_count": 18,
   "id": "4c35552a",
   "metadata": {
    "ExecuteTime": {
     "end_time": "2023-10-23T14:19:28.516386Z",
     "start_time": "2023-10-23T14:19:28.503869Z"
    }
   },
   "outputs": [],
   "source": [
    "def get_current_date_available_sider(df_fleet_list,Current_fleet_list,default_start_time,fecha_next_str,day): \n",
    "    #current_day_fleet=current_day_fleet[~(current_day_fleet.Ficha.isin(ficha_do_not_use_list)) ]\n",
    "    current_day_fleet=df_fleet_list[df_fleet_list['Ficha'].isin(Current_fleet_list)]\n",
    "    #lets add code to the brewery name \n",
    "#     dict1={'CND':'DO31','HN':'HN01'}\n",
    "#     current_day_fleet['BREWERY_CODE']=current_day_fleet['BREWERY'].map(dict1)\n",
    "    current_day_fleet_siders=current_day_fleet.copy(deep=True)\n",
    "    current_day_fleet_siders['Tipo'] =current_day_fleet_siders['Tipo de Vehículo']\n",
    "    #current_day_fleet_siders=current_day_fleet[current_day_fleet['Tipo de Vehículo']=='COLA P.']\n",
    "    #print(default_start_time)\n",
    "    current_day_fleet_siders=assign_initial_time(current_day_fleet_siders,fecha_next_str,default_start_time,day)\n",
    "    #current_day_fleet_siders_CND=current_day_fleet_siders[current_day_fleet_siders.BREWERY=='CND']\n",
    "    #current_day_fleet_siders_HN=current_day_fleet_siders[current_day_fleet_siders.BREWERY=='HN']\n",
    "    return current_day_fleet_siders\n"
   ]
  },
  {
   "cell_type": "code",
   "execution_count": 19,
   "id": "01000b6d",
   "metadata": {
    "ExecuteTime": {
     "end_time": "2023-10-23T14:19:29.235399Z",
     "start_time": "2023-10-23T14:19:28.821300Z"
    }
   },
   "outputs": [],
   "source": [
    "Fleet_availability =pd.read_excel(r'Data/Combinations Trucks.xlsx',skiprows=1)\n",
    "Current_fleet_list = Fleet_availability['Combinations Final'].astype(str).apply(format2).unique().tolist()"
   ]
  },
  {
   "cell_type": "code",
   "execution_count": 20,
   "id": "cd4ec2b8",
   "metadata": {
    "ExecuteTime": {
     "end_time": "2023-10-23T14:19:29.276891Z",
     "start_time": "2023-10-23T14:19:29.238568Z"
    }
   },
   "outputs": [],
   "source": [
    "current_day_fleet_siders= get_current_date_available_sider(df_fleet_list,Current_fleet_list,default_start_time,fecha_str,day).reset_index().drop(['index'],axis=1)"
   ]
  },
  {
   "cell_type": "code",
   "execution_count": 23,
   "id": "98f19425",
   "metadata": {},
   "outputs": [
    {
     "data": {
      "text/html": [
       "<div>\n",
       "<style scoped>\n",
       "    .dataframe tbody tr th:only-of-type {\n",
       "        vertical-align: middle;\n",
       "    }\n",
       "\n",
       "    .dataframe tbody tr th {\n",
       "        vertical-align: top;\n",
       "    }\n",
       "\n",
       "    .dataframe thead th {\n",
       "        text-align: right;\n",
       "    }\n",
       "</style>\n",
       "<table border=\"1\" class=\"dataframe\">\n",
       "  <thead>\n",
       "    <tr style=\"text-align: right;\">\n",
       "      <th></th>\n",
       "      <th>Ficha</th>\n",
       "      <th>Tipo de Vehículo</th>\n",
       "      <th>Modelo</th>\n",
       "      <th>Capacidad KG</th>\n",
       "      <th>Capacidad Ton</th>\n",
       "      <th>Capacidad Pallets</th>\n",
       "      <th>Horas de utilidad</th>\n",
       "      <th>BREWERY</th>\n",
       "      <th>Tipo</th>\n",
       "      <th>Fleet_start_time</th>\n",
       "      <th>Fleet_start_date_time</th>\n",
       "      <th>Fleet_start_date_time_org</th>\n",
       "      <th>Max_reach_time_at_destiny</th>\n",
       "    </tr>\n",
       "  </thead>\n",
       "  <tbody>\n",
       "    <tr>\n",
       "      <th>0</th>\n",
       "      <td>HN-MR88</td>\n",
       "      <td>Hibrida</td>\n",
       "      <td>NUÑEZ</td>\n",
       "      <td>37194.585</td>\n",
       "      <td>41</td>\n",
       "      <td>28</td>\n",
       "      <td>24 Hr</td>\n",
       "      <td>all</td>\n",
       "      <td>Hibrida</td>\n",
       "      <td>00:00:01</td>\n",
       "      <td>2023-09-14 00:00:01</td>\n",
       "      <td>2023-09-14 00:00:01</td>\n",
       "      <td>2023-09-14 23:00:01</td>\n",
       "    </tr>\n",
       "    <tr>\n",
       "      <th>1</th>\n",
       "      <td>HN-MR93</td>\n",
       "      <td>Hibrida</td>\n",
       "      <td>EMTRATECA</td>\n",
       "      <td>37194.585</td>\n",
       "      <td>41</td>\n",
       "      <td>28</td>\n",
       "      <td>24 Hr</td>\n",
       "      <td>all</td>\n",
       "      <td>Hibrida</td>\n",
       "      <td>00:00:01</td>\n",
       "      <td>2023-09-14 00:00:01</td>\n",
       "      <td>2023-09-14 00:00:01</td>\n",
       "      <td>2023-09-14 23:00:01</td>\n",
       "    </tr>\n",
       "    <tr>\n",
       "      <th>2</th>\n",
       "      <td>HN-ML35</td>\n",
       "      <td>Propia</td>\n",
       "      <td>Loginhsa</td>\n",
       "      <td>37194.585</td>\n",
       "      <td>41</td>\n",
       "      <td>30</td>\n",
       "      <td>24 Hr</td>\n",
       "      <td>all</td>\n",
       "      <td>Propia</td>\n",
       "      <td>00:00:01</td>\n",
       "      <td>2023-09-14 00:00:01</td>\n",
       "      <td>2023-09-14 00:00:01</td>\n",
       "      <td>2023-09-14 23:00:01</td>\n",
       "    </tr>\n",
       "    <tr>\n",
       "      <th>3</th>\n",
       "      <td>HN-MR42</td>\n",
       "      <td>Hibrida</td>\n",
       "      <td>FONSECA</td>\n",
       "      <td>37194.585</td>\n",
       "      <td>41</td>\n",
       "      <td>28</td>\n",
       "      <td>24 Hr</td>\n",
       "      <td>all</td>\n",
       "      <td>Hibrida</td>\n",
       "      <td>00:00:01</td>\n",
       "      <td>2023-09-14 00:00:01</td>\n",
       "      <td>2023-09-14 00:00:01</td>\n",
       "      <td>2023-09-14 23:00:01</td>\n",
       "    </tr>\n",
       "    <tr>\n",
       "      <th>4</th>\n",
       "      <td>HN-MR64</td>\n",
       "      <td>Hibrida</td>\n",
       "      <td>EMTRATECA</td>\n",
       "      <td>37194.585</td>\n",
       "      <td>41</td>\n",
       "      <td>28</td>\n",
       "      <td>24 Hr</td>\n",
       "      <td>all</td>\n",
       "      <td>Hibrida</td>\n",
       "      <td>00:00:01</td>\n",
       "      <td>2023-09-14 00:00:01</td>\n",
       "      <td>2023-09-14 00:00:01</td>\n",
       "      <td>2023-09-14 23:00:01</td>\n",
       "    </tr>\n",
       "    <tr>\n",
       "      <th>...</th>\n",
       "      <td>...</td>\n",
       "      <td>...</td>\n",
       "      <td>...</td>\n",
       "      <td>...</td>\n",
       "      <td>...</td>\n",
       "      <td>...</td>\n",
       "      <td>...</td>\n",
       "      <td>...</td>\n",
       "      <td>...</td>\n",
       "      <td>...</td>\n",
       "      <td>...</td>\n",
       "      <td>...</td>\n",
       "      <td>...</td>\n",
       "    </tr>\n",
       "    <tr>\n",
       "      <th>200</th>\n",
       "      <td>HN-MR70</td>\n",
       "      <td>Hibrida</td>\n",
       "      <td>EMTRATECA</td>\n",
       "      <td>37194.585</td>\n",
       "      <td>41</td>\n",
       "      <td>28</td>\n",
       "      <td>24 Hr</td>\n",
       "      <td>all</td>\n",
       "      <td>Hibrida</td>\n",
       "      <td>00:00:01</td>\n",
       "      <td>2023-09-14 00:00:01</td>\n",
       "      <td>2023-09-14 00:00:01</td>\n",
       "      <td>2023-09-14 23:00:01</td>\n",
       "    </tr>\n",
       "    <tr>\n",
       "      <th>201</th>\n",
       "      <td>HN-VR20</td>\n",
       "      <td>Propia</td>\n",
       "      <td>Loginhsa</td>\n",
       "      <td>37194.585</td>\n",
       "      <td>41</td>\n",
       "      <td>28</td>\n",
       "      <td>24 Hr</td>\n",
       "      <td>all</td>\n",
       "      <td>Propia</td>\n",
       "      <td>00:00:01</td>\n",
       "      <td>2023-09-14 00:00:01</td>\n",
       "      <td>2023-09-14 00:00:01</td>\n",
       "      <td>2023-09-14 23:00:01</td>\n",
       "    </tr>\n",
       "    <tr>\n",
       "      <th>202</th>\n",
       "      <td>HN-VR21</td>\n",
       "      <td>Propia</td>\n",
       "      <td>Loginhsa</td>\n",
       "      <td>37194.585</td>\n",
       "      <td>41</td>\n",
       "      <td>28</td>\n",
       "      <td>24 Hr</td>\n",
       "      <td>all</td>\n",
       "      <td>Propia</td>\n",
       "      <td>00:00:01</td>\n",
       "      <td>2023-09-14 00:00:01</td>\n",
       "      <td>2023-09-14 00:00:01</td>\n",
       "      <td>2023-09-14 23:00:01</td>\n",
       "    </tr>\n",
       "    <tr>\n",
       "      <th>203</th>\n",
       "      <td>HN-VR16</td>\n",
       "      <td>Hibrida</td>\n",
       "      <td>EMTRATECA</td>\n",
       "      <td>37194.585</td>\n",
       "      <td>41</td>\n",
       "      <td>28</td>\n",
       "      <td>24 Hr</td>\n",
       "      <td>all</td>\n",
       "      <td>Hibrida</td>\n",
       "      <td>00:00:01</td>\n",
       "      <td>2023-09-14 00:00:01</td>\n",
       "      <td>2023-09-14 00:00:01</td>\n",
       "      <td>2023-09-14 23:00:01</td>\n",
       "    </tr>\n",
       "    <tr>\n",
       "      <th>204</th>\n",
       "      <td>HN-MR37</td>\n",
       "      <td>Hibrida</td>\n",
       "      <td>TOM</td>\n",
       "      <td>37194.585</td>\n",
       "      <td>41</td>\n",
       "      <td>28</td>\n",
       "      <td>24 Hr</td>\n",
       "      <td>all</td>\n",
       "      <td>Hibrida</td>\n",
       "      <td>00:00:01</td>\n",
       "      <td>2023-09-14 00:00:01</td>\n",
       "      <td>2023-09-14 00:00:01</td>\n",
       "      <td>2023-09-14 23:00:01</td>\n",
       "    </tr>\n",
       "  </tbody>\n",
       "</table>\n",
       "<p>205 rows × 13 columns</p>\n",
       "</div>"
      ],
      "text/plain": [
       "       Ficha Tipo de Vehículo     Modelo  Capacidad KG  Capacidad Ton  \\\n",
       "0    HN-MR88          Hibrida      NUÑEZ     37194.585             41   \n",
       "1    HN-MR93          Hibrida  EMTRATECA     37194.585             41   \n",
       "2    HN-ML35           Propia   Loginhsa     37194.585             41   \n",
       "3    HN-MR42          Hibrida    FONSECA     37194.585             41   \n",
       "4    HN-MR64          Hibrida  EMTRATECA     37194.585             41   \n",
       "..       ...              ...        ...           ...            ...   \n",
       "200  HN-MR70          Hibrida  EMTRATECA     37194.585             41   \n",
       "201  HN-VR20           Propia   Loginhsa     37194.585             41   \n",
       "202  HN-VR21           Propia   Loginhsa     37194.585             41   \n",
       "203  HN-VR16          Hibrida  EMTRATECA     37194.585             41   \n",
       "204  HN-MR37          Hibrida        TOM     37194.585             41   \n",
       "\n",
       "    Capacidad Pallets Horas de utilidad BREWERY     Tipo Fleet_start_time  \\\n",
       "0                  28             24 Hr     all  Hibrida         00:00:01   \n",
       "1                  28             24 Hr     all  Hibrida         00:00:01   \n",
       "2                  30             24 Hr     all   Propia         00:00:01   \n",
       "3                  28             24 Hr     all  Hibrida         00:00:01   \n",
       "4                  28             24 Hr     all  Hibrida         00:00:01   \n",
       "..                ...               ...     ...      ...              ...   \n",
       "200                28             24 Hr     all  Hibrida         00:00:01   \n",
       "201                28             24 Hr     all   Propia         00:00:01   \n",
       "202                28             24 Hr     all   Propia         00:00:01   \n",
       "203                28             24 Hr     all  Hibrida         00:00:01   \n",
       "204                28             24 Hr     all  Hibrida         00:00:01   \n",
       "\n",
       "    Fleet_start_date_time Fleet_start_date_time_org Max_reach_time_at_destiny  \n",
       "0     2023-09-14 00:00:01       2023-09-14 00:00:01       2023-09-14 23:00:01  \n",
       "1     2023-09-14 00:00:01       2023-09-14 00:00:01       2023-09-14 23:00:01  \n",
       "2     2023-09-14 00:00:01       2023-09-14 00:00:01       2023-09-14 23:00:01  \n",
       "3     2023-09-14 00:00:01       2023-09-14 00:00:01       2023-09-14 23:00:01  \n",
       "4     2023-09-14 00:00:01       2023-09-14 00:00:01       2023-09-14 23:00:01  \n",
       "..                    ...                       ...                       ...  \n",
       "200   2023-09-14 00:00:01       2023-09-14 00:00:01       2023-09-14 23:00:01  \n",
       "201   2023-09-14 00:00:01       2023-09-14 00:00:01       2023-09-14 23:00:01  \n",
       "202   2023-09-14 00:00:01       2023-09-14 00:00:01       2023-09-14 23:00:01  \n",
       "203   2023-09-14 00:00:01       2023-09-14 00:00:01       2023-09-14 23:00:01  \n",
       "204   2023-09-14 00:00:01       2023-09-14 00:00:01       2023-09-14 23:00:01  \n",
       "\n",
       "[205 rows x 13 columns]"
      ]
     },
     "execution_count": 23,
     "metadata": {},
     "output_type": "execute_result"
    }
   ],
   "source": [
    "current_day_fleet_siders"
   ]
  },
  {
   "cell_type": "markdown",
   "id": "59f58229",
   "metadata": {},
   "source": [
    "Restrictions"
   ]
  },
  {
   "cell_type": "code",
   "execution_count": 61,
   "id": "d5a75696",
   "metadata": {
    "ExecuteTime": {
     "end_time": "2023-10-23T14:19:29.759718Z",
     "start_time": "2023-10-23T14:19:29.738415Z"
    }
   },
   "outputs": [],
   "source": [
    "def Restrictions_input(current_day_fleet_siders,Restrictions):\n",
    "    Restrictions=Restrictions1[['Remolque','Restriccion.1','Origen','SKU']]\n",
    "    Restrictions=Restrictions.dropna(subset=['Remolque'])\n",
    "    Restrictions['Remolque']='HN-'+Restrictions['Remolque'].astype(str)\n",
    "    ficha_do_not_use_list=list(Restrictions[Restrictions['Restriccion.1'].isin(['Accidentado','Decomisado'])]['Remolque'].unique())\n",
    "    current_day_fleet_siders=current_day_fleet_siders[~(current_day_fleet_siders.Ficha.isin(ficha_do_not_use_list))]\n",
    "    ##### Merge with Fleet data to get final restrictions\n",
    "    current_day_fleet_siders_Rest=current_day_fleet_siders.merge(Restrictions, left_on='Ficha',right_on='Remolque',how='left').drop(['Remolque'],axis=1).rename(columns={'Restriccion.1':'Ficha_Restriction_destiny','Origen':'Ficha_Restriction_origin','SKU':'Ficha_Restriction_sku'})\n",
    "    current_day_fleet_siders_Rest['Ficha_Restriction_destiny']=np.where(current_day_fleet_siders_Rest['Ficha_Restriction_destiny'].isin(['Monitor','Ninguna']),'No restriction',np.where(current_day_fleet_siders_Rest['Ficha_Restriction_destiny']=='Dollie','DH00',np.where(current_day_fleet_siders_Rest['Ficha_Restriction_destiny']=='saba','DH11',\n",
    "    np.where(current_day_fleet_siders_Rest['Ficha_Restriction_destiny']=='Talanga individual','DH10-I',np.where(current_day_fleet_siders_Rest['Ficha_Restriction_destiny']=='Choluteca individual','DH03-I',\n",
    "    np.where(current_day_fleet_siders_Rest['Ficha_Restriction_destiny']=='Juticalpa individual','DH15-I',np.where(current_day_fleet_siders_Rest['Ficha_Restriction_destiny']=='La Ceiba individual','DH02',\n",
    "    np.where(current_day_fleet_siders_Rest['Ficha_Restriction_destiny']=='La Granja','DH01',np.where(current_day_fleet_siders_Rest['Ficha_Restriction_destiny']=='Choluteca','DH03',current_day_fleet_siders_Rest['Ficha_Restriction_destiny'])))))))))\n",
    "                                                                        \n",
    "    current_day_fleet_siders_Rest['Ficha_Restriction_destiny']=current_day_fleet_siders_Rest['Ficha_Restriction_destiny'].fillna('No restriction')\n",
    "    #dict_d={'Talanga individual':'DH10-I','Choluteca individual':'DH03-I','Juticalpa individual':'DH15-I','La Ceiba individual':'DH02','La Granja':'DH01','Saba':'DH11','San Pedro Sula':'DH00','Choluteca':'DH03'}\n",
    "    #current_day_fleet_siders_Rest['Ficha_Restriction_destiny_code']=current_day_fleet_siders_Rest['Ficha_Restriction_destiny'].map(dict_d)\n",
    "    current_day_fleet_siders_Rest['Ficha_Restriction_origin']=current_day_fleet_siders_Rest['Ficha_Restriction_origin'].fillna('No restriction')\n",
    "    current_day_fleet_siders_Rest['Ficha_Restriction_sku']=current_day_fleet_siders_Rest['Ficha_Restriction_sku'].fillna('No restriction')\n",
    "    return current_day_fleet_siders_Rest"
   ]
  },
  {
   "cell_type": "code",
   "execution_count": 62,
   "id": "5a20e450",
   "metadata": {
    "ExecuteTime": {
     "end_time": "2023-10-23T14:19:30.377643Z",
     "start_time": "2023-10-23T14:19:30.088969Z"
    }
   },
   "outputs": [
    {
     "name": "stdout",
     "output_type": "stream",
     "text": [
      "(223, 16)\n"
     ]
    },
    {
     "data": {
      "text/html": [
       "<div>\n",
       "<style scoped>\n",
       "    .dataframe tbody tr th:only-of-type {\n",
       "        vertical-align: middle;\n",
       "    }\n",
       "\n",
       "    .dataframe tbody tr th {\n",
       "        vertical-align: top;\n",
       "    }\n",
       "\n",
       "    .dataframe thead th {\n",
       "        text-align: right;\n",
       "    }\n",
       "</style>\n",
       "<table border=\"1\" class=\"dataframe\">\n",
       "  <thead>\n",
       "    <tr style=\"text-align: right;\">\n",
       "      <th></th>\n",
       "      <th>Ficha</th>\n",
       "      <th>Tipo de Vehículo</th>\n",
       "      <th>Modelo</th>\n",
       "      <th>Capacidad KG</th>\n",
       "      <th>Capacidad Ton</th>\n",
       "      <th>Capacidad Pallets</th>\n",
       "      <th>Horas de utilidad</th>\n",
       "      <th>BREWERY</th>\n",
       "      <th>Tipo</th>\n",
       "      <th>Fleet_start_time</th>\n",
       "      <th>Fleet_start_date_time</th>\n",
       "      <th>Fleet_start_date_time_org</th>\n",
       "      <th>Max_reach_time_at_destiny</th>\n",
       "      <th>Ficha_Restriction_destiny</th>\n",
       "      <th>Ficha_Restriction_origin</th>\n",
       "      <th>Ficha_Restriction_sku</th>\n",
       "    </tr>\n",
       "  </thead>\n",
       "  <tbody>\n",
       "    <tr>\n",
       "      <th>0</th>\n",
       "      <td>HN-MR88</td>\n",
       "      <td>Hibrida</td>\n",
       "      <td>NUÑEZ</td>\n",
       "      <td>37194.585</td>\n",
       "      <td>41</td>\n",
       "      <td>28</td>\n",
       "      <td>24 Hr</td>\n",
       "      <td>all</td>\n",
       "      <td>Hibrida</td>\n",
       "      <td>00:00:01</td>\n",
       "      <td>2023-09-14 00:00:01</td>\n",
       "      <td>2023-09-14 00:00:01</td>\n",
       "      <td>2023-09-14 23:00:01</td>\n",
       "      <td>No restriction</td>\n",
       "      <td>No restriction</td>\n",
       "      <td>No restriction</td>\n",
       "    </tr>\n",
       "    <tr>\n",
       "      <th>1</th>\n",
       "      <td>HN-MR93</td>\n",
       "      <td>Hibrida</td>\n",
       "      <td>EMTRATECA</td>\n",
       "      <td>37194.585</td>\n",
       "      <td>41</td>\n",
       "      <td>28</td>\n",
       "      <td>24 Hr</td>\n",
       "      <td>all</td>\n",
       "      <td>Hibrida</td>\n",
       "      <td>00:00:01</td>\n",
       "      <td>2023-09-14 00:00:01</td>\n",
       "      <td>2023-09-14 00:00:01</td>\n",
       "      <td>2023-09-14 23:00:01</td>\n",
       "      <td>No restriction</td>\n",
       "      <td>No restriction</td>\n",
       "      <td>No restriction</td>\n",
       "    </tr>\n",
       "    <tr>\n",
       "      <th>2</th>\n",
       "      <td>HN-MR46</td>\n",
       "      <td>Hibrida</td>\n",
       "      <td>Transportes Ramirez Gallegos</td>\n",
       "      <td>37194.585</td>\n",
       "      <td>41</td>\n",
       "      <td>28</td>\n",
       "      <td>24 Hr</td>\n",
       "      <td>all</td>\n",
       "      <td>Hibrida</td>\n",
       "      <td>00:00:01</td>\n",
       "      <td>2023-09-14 00:00:01</td>\n",
       "      <td>2023-09-14 00:00:01</td>\n",
       "      <td>2023-09-14 23:00:01</td>\n",
       "      <td>No restriction</td>\n",
       "      <td>No restriction</td>\n",
       "      <td>No restriction</td>\n",
       "    </tr>\n",
       "    <tr>\n",
       "      <th>3</th>\n",
       "      <td>HN-ML35</td>\n",
       "      <td>Propia</td>\n",
       "      <td>Loginhsa</td>\n",
       "      <td>37194.585</td>\n",
       "      <td>41</td>\n",
       "      <td>30</td>\n",
       "      <td>24 Hr</td>\n",
       "      <td>all</td>\n",
       "      <td>Propia</td>\n",
       "      <td>00:00:01</td>\n",
       "      <td>2023-09-14 00:00:01</td>\n",
       "      <td>2023-09-14 00:00:01</td>\n",
       "      <td>2023-09-14 23:00:01</td>\n",
       "      <td>DH10-I</td>\n",
       "      <td>No restriction</td>\n",
       "      <td>No restriction</td>\n",
       "    </tr>\n",
       "    <tr>\n",
       "      <th>4</th>\n",
       "      <td>HN-VR60</td>\n",
       "      <td>Hibrida</td>\n",
       "      <td>EXA</td>\n",
       "      <td>37194.585</td>\n",
       "      <td>41</td>\n",
       "      <td>28</td>\n",
       "      <td>24 Hr</td>\n",
       "      <td>all</td>\n",
       "      <td>Hibrida</td>\n",
       "      <td>00:00:01</td>\n",
       "      <td>2023-09-14 00:00:01</td>\n",
       "      <td>2023-09-14 00:00:01</td>\n",
       "      <td>2023-09-14 23:00:01</td>\n",
       "      <td>No restriction</td>\n",
       "      <td>No restriction</td>\n",
       "      <td>No restriction</td>\n",
       "    </tr>\n",
       "  </tbody>\n",
       "</table>\n",
       "</div>"
      ],
      "text/plain": [
       "     Ficha Tipo de Vehículo                        Modelo  Capacidad KG  \\\n",
       "0  HN-MR88          Hibrida                         NUÑEZ     37194.585   \n",
       "1  HN-MR93          Hibrida                     EMTRATECA     37194.585   \n",
       "2  HN-MR46          Hibrida  Transportes Ramirez Gallegos     37194.585   \n",
       "3  HN-ML35           Propia                      Loginhsa     37194.585   \n",
       "4  HN-VR60          Hibrida                           EXA     37194.585   \n",
       "\n",
       "   Capacidad Ton Capacidad Pallets Horas de utilidad BREWERY     Tipo  \\\n",
       "0             41                28             24 Hr     all  Hibrida   \n",
       "1             41                28             24 Hr     all  Hibrida   \n",
       "2             41                28             24 Hr     all  Hibrida   \n",
       "3             41                30             24 Hr     all   Propia   \n",
       "4             41                28             24 Hr     all  Hibrida   \n",
       "\n",
       "  Fleet_start_time Fleet_start_date_time Fleet_start_date_time_org  \\\n",
       "0         00:00:01   2023-09-14 00:00:01       2023-09-14 00:00:01   \n",
       "1         00:00:01   2023-09-14 00:00:01       2023-09-14 00:00:01   \n",
       "2         00:00:01   2023-09-14 00:00:01       2023-09-14 00:00:01   \n",
       "3         00:00:01   2023-09-14 00:00:01       2023-09-14 00:00:01   \n",
       "4         00:00:01   2023-09-14 00:00:01       2023-09-14 00:00:01   \n",
       "\n",
       "  Max_reach_time_at_destiny Ficha_Restriction_destiny  \\\n",
       "0       2023-09-14 23:00:01            No restriction   \n",
       "1       2023-09-14 23:00:01            No restriction   \n",
       "2       2023-09-14 23:00:01            No restriction   \n",
       "3       2023-09-14 23:00:01                    DH10-I   \n",
       "4       2023-09-14 23:00:01            No restriction   \n",
       "\n",
       "  Ficha_Restriction_origin Ficha_Restriction_sku  \n",
       "0           No restriction        No restriction  \n",
       "1           No restriction        No restriction  \n",
       "2           No restriction        No restriction  \n",
       "3           No restriction        No restriction  \n",
       "4           No restriction        No restriction  "
      ]
     },
     "execution_count": 62,
     "metadata": {},
     "output_type": "execute_result"
    }
   ],
   "source": [
    "Restrictions1 =pd.read_excel('Data/Restricciones de Flota.xlsx',sheet_name='Restricciones',skiprows=2)\n",
    "current_day_fleet_siders=Restrictions_input(current_day_fleet_siders,Restrictions1)\n",
    "print(current_day_fleet_siders.shape)\n",
    "current_day_fleet_siders.head()"
   ]
  },
  {
   "cell_type": "code",
   "execution_count": 63,
   "id": "ec83e26e",
   "metadata": {
    "ExecuteTime": {
     "end_time": "2023-10-23T14:19:30.476942Z",
     "start_time": "2023-10-23T14:19:30.461361Z"
    }
   },
   "outputs": [
    {
     "data": {
      "text/plain": [
       "79"
      ]
     },
     "execution_count": 63,
     "metadata": {},
     "output_type": "execute_result"
    }
   ],
   "source": [
    "current_day_fleet_siders[current_day_fleet_siders['Ficha_Restriction_destiny']!='No restriction']['Ficha'].shape[0]"
   ]
  },
  {
   "cell_type": "markdown",
   "id": "9a2b42e3",
   "metadata": {},
   "source": [
    "### ATTENTION AND DISTANCE DETAILS "
   ]
  },
  {
   "cell_type": "code",
   "execution_count": 64,
   "id": "10e3f47f",
   "metadata": {
    "ExecuteTime": {
     "end_time": "2023-10-23T14:19:31.198426Z",
     "start_time": "2023-10-23T14:19:31.187893Z"
    }
   },
   "outputs": [],
   "source": [
    "def format1(str1):\n",
    "    ##convert time from 1900-01-01 02:00:00\t to 02:00:00\n",
    "    result=str1\n",
    "    if len(str1.split(\" \"))==2:\n",
    "        result=str1.split(\" \")[1]\n",
    "    return result "
   ]
  },
  {
   "cell_type": "markdown",
   "id": "d870c734",
   "metadata": {},
   "source": [
    "#### Origin"
   ]
  },
  {
   "cell_type": "code",
   "execution_count": 65,
   "id": "7909ef7f",
   "metadata": {
    "ExecuteTime": {
     "end_time": "2023-10-23T14:19:31.984025Z",
     "start_time": "2023-10-23T14:19:31.937186Z"
    }
   },
   "outputs": [],
   "source": [
    "origin_attention_df1 =pd.read_excel('Data/MASTER DATA VENTANA DE ATENCION T2.xlsx',sheet_name='Origen',skiprows=1)"
   ]
  },
  {
   "cell_type": "code",
   "execution_count": 66,
   "id": "d9ef76bd",
   "metadata": {
    "ExecuteTime": {
     "end_time": "2023-10-23T14:19:32.266153Z",
     "start_time": "2023-10-23T14:19:32.252780Z"
    }
   },
   "outputs": [
    {
     "data": {
      "text/plain": [
       "Index(['Turno', 'Inicio', 'Fin', 'T1', 'Unnamed: 4', 'Turno.1', 'Inicio.1',\n",
       "       'Fin.1', 'T1.1', 'Unnamed: 9', 'Turno.2', 'Inicio.2', 'Fin.2', 'T1.2',\n",
       "       'Unnamed: 14', 'Turno.3', 'Inicio.3', 'Fin.3', 'T1.3', 'Unnamed: 19',\n",
       "       'Turno.4', 'Inicio.4', 'Fin.4', 'T1.4'],\n",
       "      dtype='object')"
      ]
     },
     "execution_count": 66,
     "metadata": {},
     "output_type": "execute_result"
    }
   ],
   "source": [
    "origin_attention_df1.columns"
   ]
  },
  {
   "cell_type": "code",
   "execution_count": 67,
   "id": "3e959bf5",
   "metadata": {
    "ExecuteTime": {
     "end_time": "2023-10-23T14:19:32.663592Z",
     "start_time": "2023-10-23T14:19:32.620206Z"
    }
   },
   "outputs": [],
   "source": [
    "origin_attention_df1=origin_attention_df1.drop(['Unnamed: 4','Unnamed: 9','Unnamed: 14','Unnamed: 19'],axis=1)\n",
    "origin_attention_df1['COD']='SH01'\n",
    "origin_attention_df1['COD.1']='DH22'\n",
    "origin_attention_df1['COD.2']='DH20'\n",
    "origin_attention_df1['COD.3']='BH01'\n",
    "origin_attention_df1['COD.4']='DH19'\n",
    "\n",
    "origin_dict={'SH01':'CSD','DH22':'KEYMART','DH20':'POLVORIN','BH01':'BEER','DH19':'ALDESA'}\n",
    "origin_dict\n",
    "\n",
    "origin_attention_df=origin_attention_df1[['Inicio','Fin','T1','COD']].append(origin_attention_df1[['Inicio.1','Fin.1','T1.1','COD.1']].rename(columns={'Inicio.1':'Inicio','Fin.1':'Fin','T1.1':'T1','COD.1':'COD'})).append(origin_attention_df1[['Inicio.2','Fin.2','T1.2','COD.2']].rename(columns={'Inicio.2':'Inicio','Fin.2':'Fin','T1.2':'T1','COD.2':'COD'})).append(origin_attention_df1[['Inicio.3','Fin.3','T1.3','COD.3']].rename(columns={'Inicio.3':'Inicio','Fin.3':'Fin','T1.3':'T1','COD.3':'COD'})).append(origin_attention_df1[['Inicio.4','Fin.4','T1.4','COD.4']].rename(columns={'Inicio.4':'Inicio','Fin.4':'Fin','T1.4':'T1','COD.4':'COD'}))\n",
    "origin_attention_df['CDD']=origin_attention_df['COD'].map(origin_dict)"
   ]
  },
  {
   "cell_type": "code",
   "execution_count": 68,
   "id": "f7039751",
   "metadata": {
    "ExecuteTime": {
     "end_time": "2023-10-23T14:19:32.943329Z",
     "start_time": "2023-10-23T14:19:32.920106Z"
    }
   },
   "outputs": [],
   "source": [
    "origin_attention_df=origin_attention_df.rename(columns={'Inicio':'Attention_Start','Fin':'Attention_End','T1':'Weekday_attention'})\n",
    "origin_attention_df=origin_attention_df.dropna(subset=['Attention_Start'])\n",
    "origin_attention_df=origin_attention_df.fillna(0)\n",
    "origin_attention_df=origin_attention_df.reset_index()"
   ]
  },
  {
   "cell_type": "code",
   "execution_count": 69,
   "id": "f71284c6",
   "metadata": {
    "ExecuteTime": {
     "end_time": "2023-10-23T14:19:33.214921Z",
     "start_time": "2023-10-23T14:19:33.184686Z"
    }
   },
   "outputs": [],
   "source": [
    "origin_attention_df['Attention_Start']=origin_attention_df['Attention_Start'].astype(str).apply(format1)\n",
    "origin_attention_df['Attention_End']=origin_attention_df['Attention_End'].astype(str).apply(format1)  \n",
    "\n",
    "origin_attention_df['Attention_Start'] = pd.to_datetime(origin_attention_df['Attention_Start'], format='%H:%M:%S').dt.time\n",
    "origin_attention_df['Attention_End'] = pd.to_datetime(origin_attention_df['Attention_End'], format='%H:%M:%S').dt.time\n",
    "\n",
    "origin_attention_df['Saturday_attention']=0\n",
    "origin_attention_df['Sunday_attention']=0\n",
    "\n",
    "origin_attention_df1=origin_attention_df[['COD','CDD','Attention_Start','Attention_End','Weekday_attention','Saturday_attention','Sunday_attention']]"
   ]
  },
  {
   "cell_type": "code",
   "execution_count": 70,
   "id": "530c1606",
   "metadata": {
    "ExecuteTime": {
     "end_time": "2023-10-23T14:19:33.511685Z",
     "start_time": "2023-10-23T14:19:33.470923Z"
    }
   },
   "outputs": [
    {
     "data": {
      "text/html": [
       "<div>\n",
       "<style scoped>\n",
       "    .dataframe tbody tr th:only-of-type {\n",
       "        vertical-align: middle;\n",
       "    }\n",
       "\n",
       "    .dataframe tbody tr th {\n",
       "        vertical-align: top;\n",
       "    }\n",
       "\n",
       "    .dataframe thead th {\n",
       "        text-align: right;\n",
       "    }\n",
       "</style>\n",
       "<table border=\"1\" class=\"dataframe\">\n",
       "  <thead>\n",
       "    <tr style=\"text-align: right;\">\n",
       "      <th></th>\n",
       "      <th>index</th>\n",
       "      <th>Attention_Start</th>\n",
       "      <th>Attention_End</th>\n",
       "      <th>Weekday_attention</th>\n",
       "      <th>COD</th>\n",
       "      <th>CDD</th>\n",
       "      <th>Saturday_attention</th>\n",
       "      <th>Sunday_attention</th>\n",
       "    </tr>\n",
       "  </thead>\n",
       "  <tbody>\n",
       "    <tr>\n",
       "      <th>0</th>\n",
       "      <td>0</td>\n",
       "      <td>06:00:00</td>\n",
       "      <td>07:00:00</td>\n",
       "      <td>0.0</td>\n",
       "      <td>SH01</td>\n",
       "      <td>CSD</td>\n",
       "      <td>0</td>\n",
       "      <td>0</td>\n",
       "    </tr>\n",
       "    <tr>\n",
       "      <th>1</th>\n",
       "      <td>1</td>\n",
       "      <td>07:00:00</td>\n",
       "      <td>08:00:00</td>\n",
       "      <td>0.0</td>\n",
       "      <td>SH01</td>\n",
       "      <td>CSD</td>\n",
       "      <td>0</td>\n",
       "      <td>0</td>\n",
       "    </tr>\n",
       "    <tr>\n",
       "      <th>2</th>\n",
       "      <td>2</td>\n",
       "      <td>08:00:00</td>\n",
       "      <td>09:00:00</td>\n",
       "      <td>6.0</td>\n",
       "      <td>SH01</td>\n",
       "      <td>CSD</td>\n",
       "      <td>0</td>\n",
       "      <td>0</td>\n",
       "    </tr>\n",
       "    <tr>\n",
       "      <th>3</th>\n",
       "      <td>3</td>\n",
       "      <td>09:00:00</td>\n",
       "      <td>10:00:00</td>\n",
       "      <td>6.0</td>\n",
       "      <td>SH01</td>\n",
       "      <td>CSD</td>\n",
       "      <td>0</td>\n",
       "      <td>0</td>\n",
       "    </tr>\n",
       "    <tr>\n",
       "      <th>4</th>\n",
       "      <td>4</td>\n",
       "      <td>10:00:00</td>\n",
       "      <td>11:00:00</td>\n",
       "      <td>6.0</td>\n",
       "      <td>SH01</td>\n",
       "      <td>CSD</td>\n",
       "      <td>0</td>\n",
       "      <td>0</td>\n",
       "    </tr>\n",
       "  </tbody>\n",
       "</table>\n",
       "</div>"
      ],
      "text/plain": [
       "   index Attention_Start Attention_End  Weekday_attention   COD  CDD  \\\n",
       "0      0        06:00:00      07:00:00                0.0  SH01  CSD   \n",
       "1      1        07:00:00      08:00:00                0.0  SH01  CSD   \n",
       "2      2        08:00:00      09:00:00                6.0  SH01  CSD   \n",
       "3      3        09:00:00      10:00:00                6.0  SH01  CSD   \n",
       "4      4        10:00:00      11:00:00                6.0  SH01  CSD   \n",
       "\n",
       "   Saturday_attention  Sunday_attention  \n",
       "0                   0                 0  \n",
       "1                   0                 0  \n",
       "2                   0                 0  \n",
       "3                   0                 0  \n",
       "4                   0                 0  "
      ]
     },
     "execution_count": 70,
     "metadata": {},
     "output_type": "execute_result"
    }
   ],
   "source": [
    "origin_attention_df.head(n=5)"
   ]
  },
  {
   "cell_type": "markdown",
   "id": "5534fcbe",
   "metadata": {},
   "source": [
    "Defining a few variable, which will be in loop later"
   ]
  },
  {
   "cell_type": "code",
   "execution_count": 71,
   "id": "68e9983c",
   "metadata": {
    "ExecuteTime": {
     "end_time": "2023-10-23T14:19:34.065594Z",
     "start_time": "2023-10-23T14:19:34.047212Z"
    }
   },
   "outputs": [],
   "source": [
    "# origin = 'BH01'\n",
    "# destiny = 'DH15'\n",
    "# #Fleet_start_date_time ='2023-09-14 06:00:01'\n",
    "## return - whether trip can start or not\n",
    "## if trip can start when can it start - it can start at 8"
   ]
  },
  {
   "cell_type": "markdown",
   "id": "b5212a40",
   "metadata": {},
   "source": [
    "#### Destination"
   ]
  },
  {
   "cell_type": "code",
   "execution_count": 72,
   "id": "31d361b8",
   "metadata": {
    "ExecuteTime": {
     "end_time": "2023-10-23T14:19:35.022280Z",
     "start_time": "2023-10-23T14:19:34.609973Z"
    }
   },
   "outputs": [],
   "source": [
    "destiny_attention_df1_weekday =pd.read_excel('Data/MASTER DATA VENTANA DE ATENCION T2.xlsx',sheet_name='Ventanas T1',skiprows=3)\n",
    "destiny_attention_df1_weekday=destiny_attention_df1_weekday.head(n=24)\n",
    "\n",
    "destiny_attention_df1_Sat =pd.read_excel('Data/MASTER DATA VENTANA DE ATENCION T2.xlsx',sheet_name='Ventanas T1',skiprows=33)\n",
    "destiny_attention_df1_Sat=destiny_attention_df1_Sat.head(n=24)\n",
    "\n",
    "destiny_attention_df1_Sun =pd.read_excel('Data/MASTER DATA VENTANA DE ATENCION T2.xlsx',sheet_name='Ventanas T1',skiprows=63)\n",
    "destiny_attention_df1_Sun=destiny_attention_df1_Sun.head(n=24)"
   ]
  },
  {
   "cell_type": "code",
   "execution_count": 73,
   "id": "0fae8179",
   "metadata": {
    "ExecuteTime": {
     "end_time": "2023-10-23T14:19:35.132226Z",
     "start_time": "2023-10-23T14:19:35.044297Z"
    }
   },
   "outputs": [
    {
     "name": "stdout",
     "output_type": "stream",
     "text": [
      "{'DH01': 'La Granja', 'DH09': 'Comayagua', 'DH03': 'Choluteca', 'DH15': 'Juticalpa', 'DH10': 'Talanga', 'DH08': 'Danli', 'DH13': 'La Entrada', 'DH05': 'Santa Rosa', 'DH12': 'Santa Barbara', 'DH02': 'La Ceiba', 'DH11': 'Saba', 'DH04': 'Puerto Cortes', 'DH06': 'Progreso', 'DH07': 'Tela', 'DH00': 'San Pedro Sula'}\n"
     ]
    }
   ],
   "source": [
    "destiny_attention_df1_weekday=destiny_attention_df1_weekday.drop(['Unnamed: 4','Unnamed: 9','Unnamed: 14','Unnamed: 19','Unnamed: 24',\n",
    "                        'Unnamed: 29','Unnamed: 34','Unnamed: 39','Unnamed: 44','Unnamed: 49','Unnamed: 54','Unnamed: 59','Unnamed: 64','Unnamed: 69'],axis=1)\n",
    "destiny_attention_df1_weekday['COD']='DH01'\n",
    "destiny_attention_df1_weekday['COD.1']='DH09'\n",
    "destiny_attention_df1_weekday['COD.2']='DH03'\n",
    "destiny_attention_df1_weekday['COD.3']='DH15'\n",
    "destiny_attention_df1_weekday['COD.4']='DH10'\n",
    "destiny_attention_df1_weekday['COD.5']='DH08'\n",
    "destiny_attention_df1_weekday['COD.6']='DH13'\n",
    "destiny_attention_df1_weekday['COD.7']='DH05'\n",
    "destiny_attention_df1_weekday['COD.8']='DH12'\n",
    "destiny_attention_df1_weekday['COD.9']='DH02'\n",
    "destiny_attention_df1_weekday['COD.10']='DH11'\n",
    "destiny_attention_df1_weekday['COD.11']='DH04'\n",
    "destiny_attention_df1_weekday['COD.12']='DH06'\n",
    "destiny_attention_df1_weekday['COD.13']='DH07'\n",
    "destiny_attention_df1_weekday['COD.14']='DH00'\n",
    "\n",
    "Dest_dict={'DH01':'La Granja','DH09':'Comayagua','DH03':'Choluteca','DH15':'Juticalpa','DH10':'Talanga','DH08':'Danli',\n",
    "          'DH13':'La Entrada','DH05':'Santa Rosa','DH12':'Santa Barbara','DH02':'La Ceiba','DH11':'Saba','DH04':'Puerto Cortes','DH06':'Progreso',\n",
    "          'DH07':'Tela','DH00':'San Pedro Sula'}\n",
    "print(Dest_dict)\n",
    "\n",
    "destiny_attention_df_weekday=destiny_attention_df1_weekday[['Inicio','Fin','T1','COD']].append(destiny_attention_df1_weekday[['Inicio.1','Fin.1','T1.1','COD.1']].rename(columns={'Inicio.1':'Inicio','Fin.1':'Fin','T1.1':'T1','COD.1':'COD'})).append(destiny_attention_df1_weekday[['Inicio.2','Fin.2','T1.2','COD.2']].rename(columns={'Inicio.2':'Inicio','Fin.2':'Fin','T1.2':'T1','COD.2':'COD'})).append(destiny_attention_df1_weekday[['Inicio.3','Fin.3','T1.3','COD.3']].rename(columns={'Inicio.3':'Inicio','Fin.3':'Fin','T1.3':'T1','COD.3':'COD'})).append(destiny_attention_df1_weekday[['Inicio.4','Fin.4','T1.4','COD.4']].rename(columns={'Inicio.4':'Inicio','Fin.4':'Fin','T1.4':'T1','COD.4':'COD'})).append(destiny_attention_df1_weekday[['Inicio.5','Fin.5','T1.5','COD.5']].rename(columns={'Inicio.5':'Inicio','Fin.5':'Fin','T1.5':'T1','COD.5':'COD'})).append(destiny_attention_df1_weekday[['Inicio.6','Fin.6','T1.6','COD.6']].rename(columns={'Inicio.6':'Inicio','Fin.6':'Fin','T1.6':'T1','COD.6':'COD'})).append(destiny_attention_df1_weekday[['Inicio.7','Fin.7','T1.7','COD.7']].rename(columns={'Inicio.7':'Inicio','Fin.7':'Fin','T1.7':'T1','COD.7':'COD'})).append(destiny_attention_df1_weekday[['Inicio.8','Fin.8','T1.8','COD.8']].rename(columns={'Inicio.8':'Inicio','Fin.8':'Fin','T1.8':'T1','COD.8':'COD'})).append(destiny_attention_df1_weekday[['Inicio.9','Fin.9','T1.9','COD.9']].rename(columns={'Inicio.9':'Inicio','Fin.9':'Fin','T1.9':'T1','COD.9':'COD'})).append(destiny_attention_df1_weekday[['Inicio.10','Fin.10','T1.10','COD.10']].rename(columns={'Inicio.10':'Inicio','Fin.10':'Fin','T1.10':'T1','COD.10':'COD'})).append(destiny_attention_df1_weekday[['Inicio.11','Fin.11','T1.11','COD.11']].rename(columns={'Inicio.11':'Inicio','Fin.11':'Fin','T1.11':'T1','COD.11':'COD'})).append(destiny_attention_df1_weekday[['Inicio.12','Fin.12','T1.12','COD.12']].rename(columns={'Inicio.12':'Inicio','Fin.12':'Fin','T1.12':'T1','COD.12':'COD'})).append(destiny_attention_df1_weekday[['Inicio.13','Fin.13','T1.13','COD.13']].rename(columns={'Inicio.13':'Inicio','Fin.13':'Fin','T1.13':'T1','COD.13':'COD'})).append(destiny_attention_df1_weekday[['Inicio.14','Fin.14','T1.14','COD.14']].rename(columns={'Inicio.14':'Inicio','Fin.14':'Fin','T1.14':'T1','COD.14':'COD'}))\n",
    "destiny_attention_df_weekday['CDD']=destiny_attention_df_weekday['COD'].map(Dest_dict)\n",
    "\n",
    "destiny_attention_df_weekday=destiny_attention_df_weekday.rename(columns={'Inicio':'Attention_Start','Fin':'Attention_End','T1':'Weekday_attention'})\n",
    "destiny_attention_df_weekday=destiny_attention_df_weekday.dropna(subset=['Attention_Start'])\n",
    "destiny_attention_df_weekday=destiny_attention_df_weekday.fillna(0)\n",
    "destiny_attention_df_weekday=destiny_attention_df_weekday.reset_index()\n",
    "\n",
    "destiny_attention_df_weekday['Attention_Start']=destiny_attention_df_weekday['Attention_Start'].astype(str).apply(format1)\n",
    "destiny_attention_df_weekday['Attention_End']=destiny_attention_df_weekday['Attention_End'].astype(str).apply(format1)  \n",
    "destiny_attention_df_weekday['Attention_Start'] = pd.to_datetime(destiny_attention_df_weekday['Attention_Start'], format='%H:%M:%S').dt.time\n",
    "destiny_attention_df_weekday['Attention_End'] = pd.to_datetime(destiny_attention_df_weekday['Attention_End'], format='%H:%M:%S').dt.time\n",
    "destiny_attention_df_weekday=destiny_attention_df_weekday[['COD','CDD','Attention_Start','Attention_End','Weekday_attention']]"
   ]
  },
  {
   "cell_type": "code",
   "execution_count": 74,
   "id": "aad2933e",
   "metadata": {
    "ExecuteTime": {
     "end_time": "2023-10-23T14:19:35.297814Z",
     "start_time": "2023-10-23T14:19:35.228195Z"
    }
   },
   "outputs": [
    {
     "name": "stdout",
     "output_type": "stream",
     "text": [
      "{'DH01': 'La Granja', 'DH09': 'Comayagua', 'DH03': 'Choluteca', 'DH15': 'Juticalpa', 'DH10': 'Talanga', 'DH08': 'Danli', 'DH13': 'La Entrada', 'DH05': 'Santa Rosa', 'DH12': 'Santa Barbara', 'DH02': 'La Ceiba', 'DH11': 'Saba', 'DH04': 'Puerto Cortes', 'DH06': 'Progreso', 'DH07': 'Tela', 'DH00': 'San Pedro Sula'}\n"
     ]
    }
   ],
   "source": [
    "destiny_attention_df1_Sat=destiny_attention_df1_Sat.drop(['Unnamed: 4','Unnamed: 9','Unnamed: 14','Unnamed: 19','Unnamed: 24',\n",
    "                        'Unnamed: 29','Unnamed: 34','Unnamed: 39','Unnamed: 44','Unnamed: 49','Unnamed: 54','Unnamed: 59','Unnamed: 64','Unnamed: 69'],axis=1)\n",
    "destiny_attention_df1_Sat['COD']='DH01'\n",
    "destiny_attention_df1_Sat['COD.1']='DH09'\n",
    "destiny_attention_df1_Sat['COD.2']='DH03'\n",
    "destiny_attention_df1_Sat['COD.3']='DH15'\n",
    "destiny_attention_df1_Sat['COD.4']='DH10'\n",
    "destiny_attention_df1_Sat['COD.5']='DH08'\n",
    "destiny_attention_df1_Sat['COD.6']='DH13'\n",
    "destiny_attention_df1_Sat['COD.7']='DH05'\n",
    "destiny_attention_df1_Sat['COD.8']='DH12'\n",
    "destiny_attention_df1_Sat['COD.9']='DH02'\n",
    "destiny_attention_df1_Sat['COD.10']='DH11'\n",
    "destiny_attention_df1_Sat['COD.11']='DH04'\n",
    "destiny_attention_df1_Sat['COD.12']='DH06'\n",
    "destiny_attention_df1_Sat['COD.13']='DH07'\n",
    "destiny_attention_df1_Sat['COD.14']='DH00'\n",
    "\n",
    "Dest_dict={'DH01':'La Granja','DH09':'Comayagua','DH03':'Choluteca','DH15':'Juticalpa','DH10':'Talanga','DH08':'Danli',\n",
    "          'DH13':'La Entrada','DH05':'Santa Rosa','DH12':'Santa Barbara','DH02':'La Ceiba','DH11':'Saba','DH04':'Puerto Cortes','DH06':'Progreso',\n",
    "          'DH07':'Tela','DH00':'San Pedro Sula'}\n",
    "print(Dest_dict)\n",
    "\n",
    "destiny_attention_df_Sat=destiny_attention_df1_Sat[['Inicio','Fin','T1','COD']].append(destiny_attention_df1_Sat[['Inicio.1','Fin.1','T1.1','COD.1']].rename(columns={'Inicio.1':'Inicio','Fin.1':'Fin','T1.1':'T1','COD.1':'COD'})).append(destiny_attention_df1_Sat[['Inicio.2','Fin.2','T1.2','COD.2']].rename(columns={'Inicio.2':'Inicio','Fin.2':'Fin','T1.2':'T1','COD.2':'COD'})).append(destiny_attention_df1_Sat[['Inicio.3','Fin.3','T1.3','COD.3']].rename(columns={'Inicio.3':'Inicio','Fin.3':'Fin','T1.3':'T1','COD.3':'COD'})).append(destiny_attention_df1_Sat[['Inicio.4','Fin.4','T1.4','COD.4']].rename(columns={'Inicio.4':'Inicio','Fin.4':'Fin','T1.4':'T1','COD.4':'COD'})).append(destiny_attention_df1_Sat[['Inicio.5','Fin.5','T1.5','COD.5']].rename(columns={'Inicio.5':'Inicio','Fin.5':'Fin','T1.5':'T1','COD.5':'COD'})).append(destiny_attention_df1_Sat[['Inicio.6','Fin.6','T1.6','COD.6']].rename(columns={'Inicio.6':'Inicio','Fin.6':'Fin','T1.6':'T1','COD.6':'COD'})).append(destiny_attention_df1_Sat[['Inicio.7','Fin.7','T1.7','COD.7']].rename(columns={'Inicio.7':'Inicio','Fin.7':'Fin','T1.7':'T1','COD.7':'COD'})).append(destiny_attention_df1_Sat[['Inicio.8','Fin.8','T1.8','COD.8']].rename(columns={'Inicio.8':'Inicio','Fin.8':'Fin','T1.8':'T1','COD.8':'COD'})).append(destiny_attention_df1_Sat[['Inicio.9','Fin.9','T1.9','COD.9']].rename(columns={'Inicio.9':'Inicio','Fin.9':'Fin','T1.9':'T1','COD.9':'COD'})).append(destiny_attention_df1_Sat[['Inicio.10','Fin.10','T1.10','COD.10']].rename(columns={'Inicio.10':'Inicio','Fin.10':'Fin','T1.10':'T1','COD.10':'COD'})).append(destiny_attention_df1_Sat[['Inicio.11','Fin.11','T1.11','COD.11']].rename(columns={'Inicio.11':'Inicio','Fin.11':'Fin','T1.11':'T1','COD.11':'COD'})).append(destiny_attention_df1_Sat[['Inicio.12','Fin.12','T1.12','COD.12']].rename(columns={'Inicio.12':'Inicio','Fin.12':'Fin','T1.12':'T1','COD.12':'COD'})).append(destiny_attention_df1_Sat[['Inicio.13','Fin.13','T1.13','COD.13']].rename(columns={'Inicio.13':'Inicio','Fin.13':'Fin','T1.13':'T1','COD.13':'COD'})).append(destiny_attention_df1_Sat[['Inicio.14','Fin.14','T1.14','COD.14']].rename(columns={'Inicio.14':'Inicio','Fin.14':'Fin','T1.14':'T1','COD.14':'COD'}))\n",
    "destiny_attention_df_Sat['CDD']=destiny_attention_df_Sat['COD'].map(Dest_dict)\n",
    "\n",
    "destiny_attention_df_Sat=destiny_attention_df_Sat.rename(columns={'Inicio':'Attention_Start','Fin':'Attention_End','T1':'Sat_attention'})\n",
    "destiny_attention_df_Sat=destiny_attention_df_Sat.dropna(subset=['Attention_Start'])\n",
    "destiny_attention_df_Sat=destiny_attention_df_Sat.fillna(0)\n",
    "destiny_attention_df_Sat=destiny_attention_df_Sat.reset_index()\n",
    "\n",
    "destiny_attention_df_Sat['Attention_Start']=destiny_attention_df_Sat['Attention_Start'].astype(str).apply(format1)\n",
    "destiny_attention_df_Sat['Attention_End']=destiny_attention_df_Sat['Attention_End'].astype(str).apply(format1)  \n",
    "destiny_attention_df_Sat['Attention_Start'] = pd.to_datetime(destiny_attention_df_Sat['Attention_Start'], format='%H:%M:%S').dt.time\n",
    "destiny_attention_df_Sat['Attention_End'] = pd.to_datetime(destiny_attention_df_Sat['Attention_End'], format='%H:%M:%S').dt.time\n",
    "destiny_attention_df_Sat=destiny_attention_df_Sat[['COD','CDD','Attention_Start','Attention_End','Sat_attention']]"
   ]
  },
  {
   "cell_type": "code",
   "execution_count": 75,
   "id": "e19356d5",
   "metadata": {
    "ExecuteTime": {
     "end_time": "2023-10-23T14:19:35.781158Z",
     "start_time": "2023-10-23T14:19:35.769252Z"
    }
   },
   "outputs": [
    {
     "data": {
      "text/plain": [
       "Index(['Turno', 'Inicio', 'Fin', 'T1', 'Unnamed: 4', 'Turno.1', 'Inicio.1',\n",
       "       'Fin.1', 'T1.1', 'Unnamed: 9', 'Turno.2', 'Inicio.2', 'Fin.2', 'T1.2',\n",
       "       'Unnamed: 14', 'Turno.3', 'Inicio.3', 'Fin.3', 'T1.3', 'Unnamed: 19',\n",
       "       'Turno.4', 'Inicio.4', 'Fin.4', 'T1.4', 'Unnamed: 24', 'Turno.5',\n",
       "       'Inicio.5', 'Fin.5', 'T1.5', 'Unnamed: 29', 'Turno.6', 'Inicio.6',\n",
       "       'Fin.6', 'T1.6', 'Unnamed: 34', 'Turno.7', 'Inicio.7', 'Fin.7', 'T1.7',\n",
       "       'Unnamed: 39', 'Turno.8', 'Inicio.8', 'Fin.8', 'T1.8', 'Unnamed: 44',\n",
       "       'Turno.9', 'Inicio.9', 'Fin.9', 'T1.9', 'Unnamed: 49', 'Turno.10',\n",
       "       'Inicio.10', 'Fin.10', 'T1.10', 'Unnamed: 54', 'Turno.11', 'Inicio.11',\n",
       "       'Fin.11', 'T1.11', 'Unnamed: 59', 'Turno.12', 'Inicio.12', 'Fin.12',\n",
       "       'T1.12', 'Unnamed: 64', 'Turno.13', 'Inicio.13', 'Fin.13', 'T1.13',\n",
       "       'Unnamed: 69', 'Unnamed: 70', 'Unnamed: 71', 'Unnamed: 72',\n",
       "       'Unnamed: 73'],\n",
       "      dtype='object')"
      ]
     },
     "execution_count": 75,
     "metadata": {},
     "output_type": "execute_result"
    }
   ],
   "source": [
    "destiny_attention_df1_Sun.columns"
   ]
  },
  {
   "cell_type": "code",
   "execution_count": 76,
   "id": "8ccbabd0",
   "metadata": {
    "ExecuteTime": {
     "end_time": "2023-10-23T14:19:36.080468Z",
     "start_time": "2023-10-23T14:19:36.003566Z"
    }
   },
   "outputs": [
    {
     "name": "stdout",
     "output_type": "stream",
     "text": [
      "{'DH01': 'La Granja', 'DH09': 'Comayagua', 'DH03': 'Choluteca', 'DH15': 'Juticalpa', 'DH10': 'Talanga', 'DH08': 'Danli', 'DH13': 'La Entrada', 'DH05': 'Santa Rosa', 'DH12': 'Santa Barbara', 'DH02': 'La Ceiba', 'DH11': 'Saba', 'DH04': 'Puerto Cortes', 'DH06': 'Progreso', 'DH00': 'San Pedro Sula'}\n"
     ]
    }
   ],
   "source": [
    "destiny_attention_df1_Sun=destiny_attention_df1_Sun.drop(['Unnamed: 4','Unnamed: 9','Unnamed: 14','Unnamed: 19','Unnamed: 24',\n",
    "                        'Unnamed: 29','Unnamed: 34','Unnamed: 39','Unnamed: 44','Unnamed: 49','Unnamed: 54','Unnamed: 59','Unnamed: 64','Unnamed: 69','Unnamed: 70', 'Unnamed: 71', 'Unnamed: 72',\n",
    "       'Unnamed: 73'],axis=1)\n",
    "destiny_attention_df1_Sun['COD']='DH01'\n",
    "destiny_attention_df1_Sun['COD.1']='DH09'\n",
    "destiny_attention_df1_Sun['COD.2']='DH03'\n",
    "destiny_attention_df1_Sun['COD.3']='DH15'\n",
    "destiny_attention_df1_Sun['COD.4']='DH10'\n",
    "destiny_attention_df1_Sun['COD.5']='DH08'\n",
    "destiny_attention_df1_Sun['COD.6']='DH13'\n",
    "destiny_attention_df1_Sun['COD.7']='DH05'\n",
    "destiny_attention_df1_Sun['COD.8']='DH12'\n",
    "destiny_attention_df1_Sun['COD.9']='DH02'\n",
    "destiny_attention_df1_Sun['COD.10']='DH11'\n",
    "destiny_attention_df1_Sun['COD.11']='DH04'\n",
    "destiny_attention_df1_Sun['COD.12']='DH06'\n",
    "destiny_attention_df1_Sun['COD.13']='DH00'\n",
    "\n",
    "Dest_dict={'DH01':'La Granja','DH09':'Comayagua','DH03':'Choluteca','DH15':'Juticalpa','DH10':'Talanga','DH08':'Danli',\n",
    "          'DH13':'La Entrada','DH05':'Santa Rosa','DH12':'Santa Barbara','DH02':'La Ceiba','DH11':'Saba','DH04':'Puerto Cortes','DH06':'Progreso',\n",
    "          'DH00':'San Pedro Sula'}\n",
    "print(Dest_dict)\n",
    "\n",
    "destiny_attention_df_Sun=destiny_attention_df1_Sun[['Inicio','Fin','T1','COD']].append(destiny_attention_df1_Sun[['Inicio.1','Fin.1','T1.1','COD.1']].rename(columns={'Inicio.1':'Inicio','Fin.1':'Fin','T1.1':'T1','COD.1':'COD'})).append(destiny_attention_df1_Sun[['Inicio.2','Fin.2','T1.2','COD.2']].rename(columns={'Inicio.2':'Inicio','Fin.2':'Fin','T1.2':'T1','COD.2':'COD'})).append(destiny_attention_df1_Sun[['Inicio.3','Fin.3','T1.3','COD.3']].rename(columns={'Inicio.3':'Inicio','Fin.3':'Fin','T1.3':'T1','COD.3':'COD'})).append(destiny_attention_df1_Sun[['Inicio.4','Fin.4','T1.4','COD.4']].rename(columns={'Inicio.4':'Inicio','Fin.4':'Fin','T1.4':'T1','COD.4':'COD'})).append(destiny_attention_df1_Sun[['Inicio.5','Fin.5','T1.5','COD.5']].rename(columns={'Inicio.5':'Inicio','Fin.5':'Fin','T1.5':'T1','COD.5':'COD'})).append(destiny_attention_df1_Sun[['Inicio.6','Fin.6','T1.6','COD.6']].rename(columns={'Inicio.6':'Inicio','Fin.6':'Fin','T1.6':'T1','COD.6':'COD'})).append(destiny_attention_df1_Sun[['Inicio.7','Fin.7','T1.7','COD.7']].rename(columns={'Inicio.7':'Inicio','Fin.7':'Fin','T1.7':'T1','COD.7':'COD'})).append(destiny_attention_df1_Sun[['Inicio.8','Fin.8','T1.8','COD.8']].rename(columns={'Inicio.8':'Inicio','Fin.8':'Fin','T1.8':'T1','COD.8':'COD'})).append(destiny_attention_df1_Sun[['Inicio.9','Fin.9','T1.9','COD.9']].rename(columns={'Inicio.9':'Inicio','Fin.9':'Fin','T1.9':'T1','COD.9':'COD'})).append(destiny_attention_df1_Sun[['Inicio.10','Fin.10','T1.10','COD.10']].rename(columns={'Inicio.10':'Inicio','Fin.10':'Fin','T1.10':'T1','COD.10':'COD'})).append(destiny_attention_df1_Sun[['Inicio.11','Fin.11','T1.11','COD.11']].rename(columns={'Inicio.11':'Inicio','Fin.11':'Fin','T1.11':'T1','COD.11':'COD'})).append(destiny_attention_df1_Sun[['Inicio.12','Fin.12','T1.12','COD.12']].rename(columns={'Inicio.12':'Inicio','Fin.12':'Fin','T1.12':'T1','COD.12':'COD'})).append(destiny_attention_df1_Sun[['Inicio.13','Fin.13','T1.13','COD.13']].rename(columns={'Inicio.13':'Inicio','Fin.13':'Fin','T1.13':'T1','COD.13':'COD'}))\n",
    "destiny_attention_df_Sun['CDD']=destiny_attention_df_Sun['COD'].map(Dest_dict)\n",
    "\n",
    "destiny_attention_df_Sun=destiny_attention_df_Sun.rename(columns={'Inicio':'Attention_Start','Fin':'Attention_End','T1':'Sun_attention'})\n",
    "destiny_attention_df_Sun=destiny_attention_df_Sun.dropna(subset=['Attention_Start'])\n",
    "destiny_attention_df_Sun=destiny_attention_df_Sun.fillna(0)\n",
    "destiny_attention_df_Sun=destiny_attention_df_Sun.reset_index()\n",
    "\n",
    "destiny_attention_df_Sun['Attention_Start']=destiny_attention_df_Sun['Attention_Start'].astype(str).apply(format1)\n",
    "destiny_attention_df_Sun['Attention_End']=destiny_attention_df_Sun['Attention_End'].astype(str).apply(format1)  \n",
    "destiny_attention_df_Sun['Attention_Start'] = pd.to_datetime(destiny_attention_df_Sun['Attention_Start'], format='%H:%M:%S').dt.time\n",
    "destiny_attention_df_Sun['Attention_End'] = pd.to_datetime(destiny_attention_df_Sun['Attention_End'], format='%H:%M:%S').dt.time\n",
    "destiny_attention_df_Sun=destiny_attention_df_Sun[['COD','CDD','Attention_Start','Attention_End','Sun_attention']]"
   ]
  },
  {
   "cell_type": "code",
   "execution_count": 77,
   "id": "08c31035",
   "metadata": {
    "ExecuteTime": {
     "end_time": "2023-10-23T14:19:36.299360Z",
     "start_time": "2023-10-23T14:19:36.280400Z"
    }
   },
   "outputs": [],
   "source": [
    "destiny_attention_df=destiny_attention_df_weekday.merge(destiny_attention_df_Sat, on=['COD','CDD','Attention_Start','Attention_End'],how='left').merge(destiny_attention_df_Sun, on=['COD','CDD','Attention_Start','Attention_End'],how='left')\n",
    "destiny_attention_df=destiny_attention_df.fillna(0)"
   ]
  },
  {
   "cell_type": "markdown",
   "id": "95a0cf5d",
   "metadata": {},
   "source": [
    "#### Time taken"
   ]
  },
  {
   "cell_type": "code",
   "execution_count": 78,
   "id": "e4dbb071",
   "metadata": {
    "ExecuteTime": {
     "end_time": "2023-10-23T14:19:36.840925Z",
     "start_time": "2023-10-23T14:19:36.836990Z"
    }
   },
   "outputs": [],
   "source": [
    "def convert_hr_min_to_minutes(str1):\n",
    "    ## 04:30\t to 270 mins\n",
    "    hour1=str1.split(\":\")[0]\n",
    "    min1=str1.split(\":\")[1]\n",
    "    hour1_min=int(hour1)*60\n",
    "    total_min=hour1_min+int(min1)\n",
    "    return total_min"
   ]
  },
  {
   "cell_type": "code",
   "execution_count": 79,
   "id": "33bfe263",
   "metadata": {
    "ExecuteTime": {
     "end_time": "2023-10-23T14:19:37.125609Z",
     "start_time": "2023-10-23T14:19:37.073585Z"
    }
   },
   "outputs": [],
   "source": [
    "Time_df =pd.read_excel('Data/Inputs - Static.xlsx',sheet_name='Tiempos',skiprows=2)"
   ]
  },
  {
   "cell_type": "code",
   "execution_count": 80,
   "id": "297e1318",
   "metadata": {
    "ExecuteTime": {
     "end_time": "2023-10-23T14:19:39.115278Z",
     "start_time": "2023-10-23T14:19:38.643510Z"
    }
   },
   "outputs": [],
   "source": [
    "### For 12 columns \n",
    "distance_and_time =pd.DataFrame(index=np.arange(1), columns=np.arange(12))\n",
    "distance_and_time=distance_and_time.rename(columns={0: 'Origin',1: 'Origin_Code',2: 'Destiny',3: 'Destiny_Code',4: 'Clave',5:'time_one_way_min',6:'time_two_way_min',7:'Loading_time_origin_min',8:'unloading_loading_time_in_dest_min',9:'row_time_origin_min',10:'waiting_time_origin_min',11:'break_time_min'})\n",
    "\n",
    "##### Put the Individual list in time itself\n",
    "\n",
    "origin_dict={'SH01':'CSD','DH22':'KEYMART','DH20':'POLVORIN','BH01':'BEER','DH19':'ALDESA'}\n",
    "Dest_dict={'DH01':'La Granja','DH09':'Comayagua','DH03':'Choluteca','DH15':'Juticalpa','DH10':'Talanga','DH08':'Danli',\n",
    "          'DH13':'La Entrada','DH05':'Santa Rosa','DH12':'Santa Barbara','DH02':'La Ceiba','DH11':'Saba','DH04':'Puerto Cortes','DH06':'Progreso',\n",
    "          'DH00':'San Pedro Sula','DH07':'Tela','DH14':'Roatan','DH03-I':'Choluteca Individual','DH10-I':'Talanga Individual','DH15-I':'Juticalpa Individual'}\n",
    "\n",
    "distance_and_time1 =pd.DataFrame()\n",
    "for i in list(origin_dict.keys()):\n",
    "    distance_and_time['Origin']=origin_dict[i]\n",
    "    distance_and_time['Origin_Code']=i\n",
    "    for j in list(Dest_dict.keys()):\n",
    "        distance_and_time['Destiny']=Dest_dict[j]\n",
    "        distance_and_time['Destiny_Code']=j\n",
    "        distance_and_time1=distance_and_time1.append(distance_and_time)\n",
    "        \n",
    "distance_and_time1['Clave']= distance_and_time1['Origin'].str.upper()+\"-\"+distance_and_time1['Destiny'].str.upper()\n",
    "distance_and_time1=distance_and_time1.fillna(0)\n",
    "\n",
    "distance_and_time2 =pd.DataFrame()\n",
    "for i in range(Time_df.shape[0]):\n",
    "    #print(i)\n",
    "    time_dest_temp=distance_and_time1[distance_and_time1['Destiny']==Time_df.iloc[i]['Unnamed: 0']]\n",
    "    time_dest_temp['waiting_time_origin_min']=Time_df.iloc[i]['TC']\n",
    "    time_dest_temp['Loading_time_origin_min']=Time_df.iloc[i]['TP']\n",
    "    time_dest_temp['row_time_origin_min']=Time_df.iloc[i]['TF']\n",
    "    time_dest_temp['time_one_way_min']=Time_df.iloc[i]['TT']\n",
    "    time_dest_temp['unloading_loading_time_in_dest_min']=Time_df.iloc[i]['TCD']\n",
    "    time_dest_temp['break_time_min']=Time_df.iloc[i]['TD']\n",
    "    time_dest_temp['time_two_way_min']=Time_df.iloc[i]['TR']\n",
    "    distance_and_time2=distance_and_time2.append(time_dest_temp)\n",
    "    \n",
    "time_cols=['time_one_way_min', 'time_two_way_min', 'Loading_time_origin_min',\n",
    "       'unloading_loading_time_in_dest_min', 'row_time_origin_min',\n",
    "       'waiting_time_origin_min', 'break_time_min']\n",
    "\n",
    "for i in time_cols:\n",
    "    #print(i)\n",
    "    distance_and_time2[i]=distance_and_time2[i].astype(str).apply(format2)\n",
    "    distance_and_time2[i]=distance_and_time2[i].astype(str).apply(convert_hr_min_to_minutes)\n",
    "distance_and_time2['Loading_time_origin_min'] =distance_and_time2['waiting_time_origin_min']+distance_and_time2['Loading_time_origin_min']+distance_and_time2['row_time_origin_min']\n",
    "    \n",
    "distance_and_time=distance_and_time2"
   ]
  },
  {
   "cell_type": "code",
   "execution_count": 81,
   "id": "d112a081",
   "metadata": {
    "ExecuteTime": {
     "end_time": "2023-10-23T14:19:39.297541Z",
     "start_time": "2023-10-23T14:19:39.284607Z"
    }
   },
   "outputs": [],
   "source": [
    "#distance_and_time[distance_and_time['Destiny_Code']=='DH15']"
   ]
  },
  {
   "cell_type": "markdown",
   "id": "979d3bf4",
   "metadata": {},
   "source": [
    "### Distribution Plan"
   ]
  },
  {
   "cell_type": "code",
   "execution_count": 82,
   "id": "ffe6ce17",
   "metadata": {
    "ExecuteTime": {
     "end_time": "2023-10-23T14:20:14.017996Z",
     "start_time": "2023-10-23T14:20:13.995843Z"
    }
   },
   "outputs": [
    {
     "data": {
      "text/plain": [
       "Index(['codigo', 'Description', 'Size', 'Pack', 'Category', 'Brand',\n",
       "       'Box x Hls', 'package_per_pallet', 'Weight x Box', 'Units x Box',\n",
       "       'Active Code', 'pound_weight_per_pallet', 'HLS x Box',\n",
       "       'kg_weight_per_pallet'],\n",
       "      dtype='object')"
      ]
     },
     "execution_count": 82,
     "metadata": {},
     "output_type": "execute_result"
    }
   ],
   "source": [
    "sku_description.columns"
   ]
  },
  {
   "cell_type": "code",
   "execution_count": 83,
   "id": "cfbbfd39",
   "metadata": {
    "ExecuteTime": {
     "end_time": "2023-10-23T14:20:14.619178Z",
     "start_time": "2023-10-23T14:20:14.444398Z"
    }
   },
   "outputs": [
    {
     "name": "stdout",
     "output_type": "stream",
     "text": [
      "(366, 5)\n",
      "   Origin Destination codigo  Prioridad  Total_boxes  kg_weight_per_pallet  \\\n",
      "0    BH01        DH00  13917          1         6468            847.650050   \n",
      "1    BH01        DH00  13919          1         5436            664.584855   \n",
      "2    BH01        DH01  13912          1         1372            856.318193   \n",
      "3    BH01        DH01  13917          1         1813            847.650050   \n",
      "4    BH01        DH01  13919          1         1152            664.584855   \n",
      "5    BH01        DH01  13930          1          972            661.972165   \n",
      "6    BH01        DH01  16139          1          600            688.099064   \n",
      "7    BH01        DH02  18410          1           56            388.492476   \n",
      "8    BH01        DH03  13930          1           72            661.972165   \n",
      "9    BH01        DH04  13912          1         1960            856.318193   \n",
      "10   BH01        DH04  13917          1         1029            847.650050   \n",
      "11   BH01        DH04  13919          1          684            664.584855   \n",
      "12   BH01        DH04  18410          1           56            388.492476   \n",
      "13   BH01        DH05  13930          1          252            661.972165   \n",
      "14   BH01        DH06  13912          1         1470            856.318193   \n",
      "15   BH01        DH06  13917          1          784            847.650050   \n",
      "16   BH01        DH06  13919          1          144            664.584855   \n",
      "17   BH01        DH06  13925          1          288            887.153377   \n",
      "18   BH01        DH06  13930          1           36            661.972165   \n",
      "19   BH01        DH06  18410          1           56            388.492476   \n",
      "20   BH01        DH07  13911          1          216           1010.602976   \n",
      "21   BH01        DH07  13912          1         2352            856.318193   \n",
      "22   BH01        DH07  13917          1          882            847.650050   \n",
      "23   BH01        DH07  13919          1          540            664.584855   \n",
      "24   BH01        DH07  13930          1           36            661.972165   \n",
      "25   BH01        DH09  13930          1          540            661.972165   \n",
      "26   BH01        DH09  18410          1           56            388.492476   \n",
      "27   BH01        DH10  13910          1          432           1010.602976   \n",
      "28   BH01        DH10  13917          1          735            847.650050   \n",
      "29   BH01        DH10  13919          1          756            664.584855   \n",
      "30   BH01        DH10  13930          1          288            661.972165   \n",
      "31   BH01        DH11  13910          1          216           1010.602976   \n",
      "32   BH01        DH11  13912          1         1323            856.318193   \n",
      "33   BH01        DH11  13917          1          392            847.650050   \n",
      "34   BH01        DH11  13919          1          576            664.584855   \n",
      "35   BH01        DH11  13925          1           72            887.153377   \n",
      "36   BH01        DH11  13930          1           72            661.972165   \n",
      "37   BH01        DH13  13910          1          108           1010.602976   \n",
      "38   BH01        DH15  13915          1           72            665.238027   \n",
      "39   BH01        DH15  13919          1         1476            664.584855   \n",
      "52   DH19        DH00  17739          1         3136            789.322655   \n",
      "53   SH01        DH00  13977          1         2160            783.625539   \n",
      "54   SH01        DH00  15760          1         3780            892.895852   \n",
      "55   SH01        DH01  13977          1         2040            783.625539   \n",
      "56   SH01        DH01  15768          1         1302            754.777088   \n",
      "57   SH01        DH01  17365          1         5600           1078.641776   \n",
      "58   SH01        DH02  13977          1          120            783.625539   \n",
      "59   SH01        DH02  14621          1         8300            850.485000   \n",
      "60   SH01        DH02  15760          1          924            892.895852   \n",
      "61   SH01        DH02  16682          1           75            995.634440   \n",
      "\n",
      "    package_per_pallet  Total_pallets org-priority  \n",
      "0                 49.0          132.0       BH01-1  \n",
      "1                 36.0          151.0       BH01-1  \n",
      "2                 49.0           28.0       BH01-1  \n",
      "3                 49.0           37.0       BH01-1  \n",
      "4                 36.0           32.0       BH01-1  \n",
      "5                 36.0           27.0       BH01-1  \n",
      "6                100.0            6.0       BH01-1  \n",
      "7                 56.0            1.0       BH01-1  \n",
      "8                 36.0            2.0       BH01-1  \n",
      "9                 49.0           40.0       BH01-1  \n",
      "10                49.0           21.0       BH01-1  \n",
      "11                36.0           19.0       BH01-1  \n",
      "12                56.0            1.0       BH01-1  \n",
      "13                36.0            7.0       BH01-1  \n",
      "14                49.0           30.0       BH01-1  \n",
      "15                49.0           16.0       BH01-1  \n",
      "16                36.0            4.0       BH01-1  \n",
      "17                72.0            4.0       BH01-1  \n",
      "18                36.0            1.0       BH01-1  \n",
      "19                56.0            1.0       BH01-1  \n",
      "20               108.0            2.0       BH01-1  \n",
      "21                49.0           48.0       BH01-1  \n",
      "22                49.0           18.0       BH01-1  \n",
      "23                36.0           15.0       BH01-1  \n",
      "24                36.0            1.0       BH01-1  \n",
      "25                36.0           15.0       BH01-1  \n",
      "26                56.0            1.0       BH01-1  \n",
      "27               108.0            4.0       BH01-1  \n",
      "28                49.0           15.0       BH01-1  \n",
      "29                36.0           21.0       BH01-1  \n",
      "30                36.0            8.0       BH01-1  \n",
      "31               108.0            2.0       BH01-1  \n",
      "32                49.0           27.0       BH01-1  \n",
      "33                49.0            8.0       BH01-1  \n",
      "34                36.0           16.0       BH01-1  \n",
      "35                72.0            1.0       BH01-1  \n",
      "36                36.0            2.0       BH01-1  \n",
      "37               108.0            1.0       BH01-1  \n",
      "38                36.0            2.0       BH01-1  \n",
      "39                36.0           41.0       BH01-1  \n",
      "52                56.0           56.0       DH19-1  \n",
      "53               120.0           18.0       SH01-1  \n",
      "54                42.0           90.0       SH01-1  \n",
      "55               120.0           17.0       SH01-1  \n",
      "56                42.0           31.0       SH01-1  \n",
      "57                35.0          160.0       SH01-1  \n",
      "58               120.0            1.0       SH01-1  \n",
      "59               100.0           83.0       SH01-1  \n",
      "60                42.0           22.0       SH01-1  \n",
      "61                75.0            1.0       SH01-1  \n",
      "(343, 9)\n",
      "(343, 9)\n",
      "total destiny 15\n"
     ]
    }
   ],
   "source": [
    "Dist_plan =pd.read_excel('Data/Space and Optimus DP.xlsx')\n",
    "Dist_plan['Fecha']=pd.to_datetime(Dist_plan['Fecha'])\n",
    "\n",
    "Dist_plan1=Dist_plan[Dist_plan['Fecha']==pd.to_datetime(fecha_str, format='%d-%m-%Y')]\n",
    "Dist_plan1=Dist_plan1.drop(['Fecha'],axis=1)\n",
    "print(Dist_plan1.shape)\n",
    "Dist_plan1=Dist_plan1.rename(columns={'Origen': 'Origin','Destino': 'Destination','Total': 'Total_boxes','sku_SAP': 'codigo'})\n",
    "Dist_plan1 =Dist_plan1.merge(sku_description[['codigo','kg_weight_per_pallet','package_per_pallet']], on ='codigo', how ='left')\n",
    "Dist_plan1['Total_pallets']=Dist_plan1['Total_boxes']/Dist_plan1['package_per_pallet']\n",
    "Dist_plan1=Dist_plan1[Dist_plan1['Destination']!='DH14']\n",
    "\n",
    "\n",
    "Dist_plan1['org-priority']=Dist_plan1['Origin']+\"-\"+Dist_plan1['Prioridad'].astype(str)\n",
    "print(Dist_plan1.head(50))\n",
    "#code modified by Jitendra as sort is not happening properly as it is happening in excel sheet \n",
    "#commented \n",
    "# Dist_plan1=Dist_plan1.sort_values(['Prioridad'],ascending=[True])\n",
    "#added \n",
    "Dist_plan1_1=Dist_plan1[(Dist_plan1.Prioridad==1)]\n",
    "Dist_plan1_2=Dist_plan1[(Dist_plan1.Prioridad==2)]\n",
    "Dist_plan1_3=Dist_plan1[(Dist_plan1.Prioridad==3)]\n",
    "print(Dist_plan1.shape)\n",
    "Dist_plan1=pd.concat([Dist_plan1_1,Dist_plan1_2,Dist_plan1_3])\n",
    "print(Dist_plan1.shape)\n",
    "#Question for Sejuti what to do if there is no priority for a row \n",
    "# print(Dist_plan1.head(10))\n",
    "Dist_plan2 =Dist_plan1.copy(deep=True)\n",
    "\n",
    "All_sku=list(Dist_plan1['codigo'].unique())\n",
    "\n",
    "All_destiny=list(Dist_plan1['Destination'].unique())\n",
    "print('total destiny',len(All_destiny))"
   ]
  },
  {
   "cell_type": "code",
   "execution_count": 1,
   "id": "2f3fd011",
   "metadata": {
    "ExecuteTime": {
     "end_time": "2023-10-23T14:20:15.912684Z",
     "start_time": "2023-10-23T14:20:15.864446Z"
    }
   },
   "outputs": [],
   "source": [
    "#Dist_plan1.head(50)"
   ]
  },
  {
   "cell_type": "code",
   "execution_count": null,
   "id": "6a13ef29",
   "metadata": {
    "ExecuteTime": {
     "end_time": "2023-10-23T13:19:16.674056Z",
     "start_time": "2023-10-23T13:19:16.641827Z"
    }
   },
   "outputs": [],
   "source": []
  },
  {
   "cell_type": "code",
   "execution_count": 85,
   "id": "67104291",
   "metadata": {
    "ExecuteTime": {
     "end_time": "2023-10-23T14:20:18.369379Z",
     "start_time": "2023-10-23T14:20:18.354530Z"
    }
   },
   "outputs": [],
   "source": [
    "#Dist_plan2.sort_values(['Prioridad','Total_pallets'],ascending=[True,False])"
   ]
  },
  {
   "cell_type": "code",
   "execution_count": 86,
   "id": "a97a362a",
   "metadata": {
    "ExecuteTime": {
     "end_time": "2023-10-23T14:20:18.901015Z",
     "start_time": "2023-10-23T14:20:18.887763Z"
    }
   },
   "outputs": [],
   "source": [
    "#Dist_plan1=Dist_plan1[(Dist_plan1['Origin']=='SH01')&(Dist_plan1['Destination']=='DH06')].reset_index().drop(['index'],axis=1)"
   ]
  },
  {
   "cell_type": "code",
   "execution_count": 87,
   "id": "d24f731c",
   "metadata": {
    "ExecuteTime": {
     "end_time": "2023-10-23T14:20:19.384538Z",
     "start_time": "2023-10-23T14:20:19.370842Z"
    }
   },
   "outputs": [],
   "source": [
    "#Dist_plan1.sort_values(['Prioridad','Total_pallets'],ascending=[True,False])"
   ]
  },
  {
   "cell_type": "code",
   "execution_count": 88,
   "id": "b720ed64",
   "metadata": {
    "ExecuteTime": {
     "end_time": "2023-10-23T14:20:19.852192Z",
     "start_time": "2023-10-23T14:20:19.844271Z"
    }
   },
   "outputs": [],
   "source": [
    "# Dist_plan1=Dist_plan1[Dist_plan1['Prioridad']==1].reset_index().drop(['index'],axis=1)\n",
    "# Dist_plan1['Total_pallets'].sum()"
   ]
  },
  {
   "cell_type": "markdown",
   "id": "37434d73",
   "metadata": {},
   "source": [
    "#### Origin-Dest Before Melt DF for Jitendra"
   ]
  },
  {
   "cell_type": "code",
   "execution_count": 89,
   "id": "e2d5808d",
   "metadata": {
    "ExecuteTime": {
     "end_time": "2023-10-23T14:20:20.979564Z",
     "start_time": "2023-10-23T14:20:20.967425Z"
    }
   },
   "outputs": [
    {
     "data": {
      "text/plain": [
       "Index(['Origin', 'Destination', 'codigo', 'Prioridad', 'Total_boxes',\n",
       "       'kg_weight_per_pallet', 'package_per_pallet', 'Total_pallets',\n",
       "       'org-priority'],\n",
       "      dtype='object')"
      ]
     },
     "execution_count": 89,
     "metadata": {},
     "output_type": "execute_result"
    }
   ],
   "source": [
    "Dist_plan1.columns"
   ]
  },
  {
   "cell_type": "code",
   "execution_count": 90,
   "id": "30759256",
   "metadata": {
    "ExecuteTime": {
     "end_time": "2023-10-23T14:20:21.661339Z",
     "start_time": "2023-10-23T14:20:21.640517Z"
    }
   },
   "outputs": [
    {
     "data": {
      "text/plain": [
       "Index(['codigo', 'Description', 'Size', 'Pack', 'Category', 'Brand',\n",
       "       'Box x Hls', 'package_per_pallet', 'Weight x Box', 'Units x Box',\n",
       "       'Active Code', 'pound_weight_per_pallet', 'HLS x Box',\n",
       "       'kg_weight_per_pallet'],\n",
       "      dtype='object')"
      ]
     },
     "execution_count": 90,
     "metadata": {},
     "output_type": "execute_result"
    }
   ],
   "source": [
    "sku_description.columns"
   ]
  },
  {
   "cell_type": "code",
   "execution_count": 91,
   "id": "0d5ef96c",
   "metadata": {
    "ExecuteTime": {
     "end_time": "2023-10-23T14:20:22.418790Z",
     "start_time": "2023-10-23T14:20:22.362780Z"
    }
   },
   "outputs": [],
   "source": [
    "OrgPr1={}\n",
    "for i in list(Dist_plan1['Origin'].unique()):\n",
    "    #print(i)\n",
    "    temp = Dist_plan1[Dist_plan1['Origin']==i]\n",
    "    OrgPr1[i]=temp\n",
    "    \n",
    "OrgPrBefMelt1={}\n",
    "for i in list(OrgPr1.keys()):\n",
    "    #print(i)\n",
    "    temp1=OrgPr1[i].pivot(index='codigo', columns='Destination', values='Total_pallets').fillna(0).reset_index().rename_axis(None, axis=1)\n",
    "    OrgPrBefMelt1[i]=temp1\n",
    "    #### Ensuring all datasets(all or-dest-priority comb) have the exhaustive list of destinities-total 15.\n",
    "    diff_col=list(set(All_destiny).difference(list(OrgPrBefMelt1[i].columns)))\n",
    "    for l in diff_col:\n",
    "        OrgPrBefMelt1[i][l]=0\n",
    "        \n",
    "# Ensuring all datasets(all or-dest-priority comb) have the exhaustive list of SKUs.\n",
    "for i in OrgPrBefMelt1.keys():\n",
    "    OrgPrBefMelt1[i]=OrgPrBefMelt1[i].append(pd.DataFrame(list(set(All_sku).difference(list(OrgPrBefMelt1[i]['codigo'].unique()))), columns=['codigo'])).fillna(0).reset_index().drop(['index'],axis=1)\n",
    "    OrgPrBefMelt1[i]=OrgPrBefMelt1[i].merge(sku_description[['codigo','kg_weight_per_pallet']])"
   ]
  },
  {
   "cell_type": "code",
   "execution_count": 92,
   "id": "ff71e7e3",
   "metadata": {
    "ExecuteTime": {
     "end_time": "2023-10-23T14:20:23.112045Z",
     "start_time": "2023-10-23T14:20:23.100022Z"
    }
   },
   "outputs": [
    {
     "name": "stdout",
     "output_type": "stream",
     "text": [
      "(43, 17)\n",
      "(43, 17)\n",
      "(43, 17)\n"
     ]
    }
   ],
   "source": [
    "for i in OrgPrBefMelt1.keys():\n",
    "    print(OrgPrBefMelt1[i].shape)"
   ]
  },
  {
   "cell_type": "markdown",
   "id": "d1ac16da",
   "metadata": {},
   "source": [
    "#### Creating Origin Priority dataframe"
   ]
  },
  {
   "cell_type": "code",
   "execution_count": 93,
   "id": "24f982a2",
   "metadata": {
    "ExecuteTime": {
     "end_time": "2023-10-23T14:20:25.033253Z",
     "start_time": "2023-10-23T14:20:24.944702Z"
    }
   },
   "outputs": [],
   "source": [
    "OrgPr={}\n",
    "for i in list(Dist_plan1['org-priority'].unique()):\n",
    "    #print(i)\n",
    "    temp = Dist_plan1[Dist_plan1['org-priority']==i]\n",
    "    OrgPr[i]=temp\n",
    "    \n",
    "OrgPrBefMelt={}\n",
    "for i in list(OrgPr.keys()):\n",
    "    #print(i)\n",
    "    temp1=OrgPr[i].pivot(index='codigo', columns='Destination', values='Total_pallets').fillna(0).reset_index().rename_axis(None, axis=1)\n",
    "    OrgPrBefMelt[i]=temp1\n",
    "    #### Ensuring all datasets(all or-dest-priority comb) have the exhaustive list of destinities-total 15.\n",
    "    diff_col=list(set(All_destiny).difference(list(OrgPrBefMelt[i].columns)))\n",
    "    for l in diff_col:\n",
    "        OrgPrBefMelt[i][l]=0\n",
    "    \n",
    "    \n",
    "    # Ensuring all datasets(all or-dest-priority comb) have the exhaustive list of SKUs.\n",
    "for i in OrgPrBefMelt.keys():\n",
    "    OrgPrBefMelt[i]=OrgPrBefMelt[i].append(pd.DataFrame(list(set(All_sku).difference(list(OrgPrBefMelt[i]['codigo'].unique()))), columns=['codigo'])).fillna(0).reset_index().drop(['index'],axis=1)"
   ]
  },
  {
   "cell_type": "markdown",
   "id": "22914016",
   "metadata": {},
   "source": [
    "### Origin Attention check"
   ]
  },
  {
   "cell_type": "code",
   "execution_count": 94,
   "id": "d1c9c471",
   "metadata": {
    "ExecuteTime": {
     "end_time": "2023-10-23T14:20:25.940098Z",
     "start_time": "2023-10-23T14:20:25.923078Z"
    }
   },
   "outputs": [],
   "source": [
    "def get_attention_hour_list_v1(origin_attention_df,org,start_time_p,attention_list_allowed,attention_dict_allowed): \n",
    "    #get origin attention hour list which is 24 hr or max time time it can start from origin \n",
    "    \n",
    "    origin_attention_df_1=origin_attention_df[origin_attention_df.COD==org]\n",
    "    origin_attention_df_1=origin_attention_df_1.sort_values(by='Attention_Start')\n",
    "    allowed_attention_list=attention_list_allowed\n",
    "    allowed_attention_dict=attention_dict_allowed\n",
    "    attention_hour_list=[]\n",
    "    from itertools import cycle\n",
    "    pool = cycle(origin_attention_df_1['Attention_Start'].values)\n",
    "    start_time=start_time_p\n",
    "    count=0\n",
    "    for ele in pool:\n",
    "        if count==36:\n",
    "            break\n",
    "        count=count+1\n",
    "        attention_hour_list.append(str(ele))\n",
    "    start_index=attention_hour_list.index(start_time)\n",
    "    if start_time_p not in allowed_attention_list:\n",
    "        attention_hour_list=[]\n",
    "    else:\n",
    "        num=allowed_attention_dict[start_time_p]\n",
    "        end_index=start_index+num    \n",
    "\n",
    "        attention_hour_list=attention_hour_list[start_index:end_index+1]\n",
    "\n",
    "\n",
    "    return attention_hour_list"
   ]
  },
  {
   "cell_type": "code",
   "execution_count": 95,
   "id": "5665c521",
   "metadata": {
    "ExecuteTime": {
     "end_time": "2023-10-23T14:20:26.482155Z",
     "start_time": "2023-10-23T14:20:26.471073Z"
    }
   },
   "outputs": [],
   "source": [
    "def get_attention_hour_list(origin_attention_df,org,start_time_p): \n",
    "    #get destination attention hour to check list which is 12 hr from origin attention obtained\n",
    "    origin_attention_df_1=origin_attention_df[origin_attention_df.COD==org]\n",
    "    #print(\"dest_atten\",origin_attention_df_1)\n",
    "    origin_attention_df_1=origin_attention_df_1.sort_values(by='Attention_Start')\n",
    "    attention_hour_list=[]\n",
    "    from itertools import cycle\n",
    "    pool = cycle(origin_attention_df_1['Attention_Start'].values)\n",
    "    #print(origin_attention_df_1['Attention_Start'].values)\n",
    "    #print(\"pool\",pool)\n",
    "    start_time=start_time_p\n",
    "    #print(\"inside get_attnhourlist\",start_time)\n",
    "    count=0\n",
    "    for ele in pool:\n",
    "        #print(ele)\n",
    "        if count==36:\n",
    "            break\n",
    "        count=count+1\n",
    "        attention_hour_list.append(str(ele))\n",
    "    #print(\"attention_hour_list\",attention_hour_list)\n",
    "    start_index=attention_hour_list.index(start_time)\n",
    "    end_index=start_index+12    \n",
    "\n",
    "    attention_hour_list=attention_hour_list[start_index:end_index+1]\n",
    "\n",
    "    return attention_hour_list\t"
   ]
  },
  {
   "cell_type": "code",
   "execution_count": 96,
   "id": "a75e3c05",
   "metadata": {
    "ExecuteTime": {
     "end_time": "2023-10-23T14:20:26.896704Z",
     "start_time": "2023-10-23T14:20:26.872140Z"
    }
   },
   "outputs": [],
   "source": [
    "Max_reach_time_at_destiny_p=str(current_day_fleet_siders.loc[0,'Max_reach_time_at_destiny'].time())[0:5]+\":\"+\"00\"\n",
    "fleet_start_date_time = current_day_fleet_siders.loc[0,'Fleet_start_date_time']\n",
    "fleet_start_time=str(fleet_start_date_time.hour).zfill(2)+\":00:00\""
   ]
  },
  {
   "cell_type": "code",
   "execution_count": 97,
   "id": "eeb5be53",
   "metadata": {
    "ExecuteTime": {
     "end_time": "2023-10-23T14:20:27.380651Z",
     "start_time": "2023-10-23T14:20:27.357075Z"
    }
   },
   "outputs": [],
   "source": [
    "night_time_dict={'00:00:00':23,'01:00:00':22,'02:00:00':21,'03:00:00':20,'04:00:00':19,'05:00:00':18,'06:00:00':17,'07:00:00':16,'08:00:00':15,'09:00:00':14,'10:00:00':13,\n",
    "                '11:00:00':12,'12:00:00':11,'13:00:00':10,'14:00:00':9,'15:00:00':8,'16:00:00':7,'17:00:00':6,'18:00:00':5,'19:00:00':4,'20:00:00':3,'21:00:00':2,'22:00:00':1,'23:00:00':0}\n",
    "night_time_attention_allowed=[]\n",
    "for ele in night_time_dict.keys():\n",
    "    night_time_attention_allowed.append(ele)\n",
    "#night_time_attention_allowed"
   ]
  },
  {
   "cell_type": "code",
   "execution_count": 98,
   "id": "ba1ae4a2",
   "metadata": {
    "ExecuteTime": {
     "end_time": "2023-10-23T14:20:27.829169Z",
     "start_time": "2023-10-23T14:20:27.814171Z"
    }
   },
   "outputs": [],
   "source": [
    "attention_list_allowed=night_time_attention_allowed\n",
    "attention_dict_allowed =night_time_dict"
   ]
  },
  {
   "cell_type": "code",
   "execution_count": 99,
   "id": "65a5b7fb",
   "metadata": {
    "ExecuteTime": {
     "end_time": "2023-10-23T14:20:28.390200Z",
     "start_time": "2023-10-23T14:20:28.377118Z"
    }
   },
   "outputs": [],
   "source": [
    "def check_origin_attention_v1(origin_attention_df,origin,fleet_start_time_p,Max_reach_time_at_destiny_p,day_of_week,attention_list_allowed,attention_dict_allowed):\n",
    "\t#check origin attention and return when can we start the sider \n",
    "\t\n",
    "    origin_attention_df_temp=origin_attention_df[[\"COD\",\"Attention_Start\",\"Attention_End\",day_of_week+\"_attention\"]]\n",
    "    origin_attention_df_temp=origin_attention_df_temp[origin_attention_df_temp.COD==origin]\n",
    "    origin_attention_df_temp['Attention_Start']=origin_attention_df_temp['Attention_Start'].astype(str)\n",
    "    fleet_start_time=fleet_start_time_p\n",
    "    Max_reach_time_at_destiny=Max_reach_time_at_destiny_p\n",
    "    truck_sent =False\n",
    "    attention_start_obtained=\"NA\"\n",
    "#     from itertools import cycle\n",
    "#     pool = cycle(origin_attention_df_temp['Attention_Start'].values).tolist()\n",
    "#     start_index=origin_attention_df_temp.Attention_Start.values.tolist().index(fleet_start_time_p)\n",
    "#     end_index=start_index+iteration_checking\n",
    "    #print(origin,fleet_start_time)\n",
    "    attention_hour_list=get_attention_hour_list_v1(origin_attention_df,origin,fleet_start_time,attention_list_allowed,attention_dict_allowed)\n",
    "    #print(\"origin attention hour list\",attention_hour_list)\n",
    "    if len(attention_hour_list)>0:\n",
    "        for attention_start  in attention_hour_list:\n",
    "            if attention_start==Max_reach_time_at_destiny:\n",
    "                #print(\"max time reached trip can not be planned\")\n",
    "                break\n",
    "            #print(\"currently checking for\",attention_start)\n",
    "            attention_available=origin_attention_df_temp[(origin_attention_df_temp['Attention_Start']==attention_start)][day_of_week+\"_attention\"].values[0]\n",
    "            #print(\"Attention available \",attention_available)\n",
    "            if attention_available>0:\n",
    "                attention_start_obtained=attention_start\n",
    "                truck_sent=True\n",
    "                break\n",
    "#     print(\"attention_start_obtained\",attention_start_obtained)\n",
    "#     print(\"can we send truck \",truck_sent)\n",
    "    return attention_start_obtained,truck_sent\n"
   ]
  },
  {
   "cell_type": "code",
   "execution_count": 100,
   "id": "26167769",
   "metadata": {
    "ExecuteTime": {
     "end_time": "2023-10-23T14:20:28.929702Z",
     "start_time": "2023-10-23T14:20:28.906537Z"
    }
   },
   "outputs": [],
   "source": [
    "# for j in range(current_day_fleet_siders.reset_index(drop=True).shape[0]):\n",
    "#     Max_reach_time_at_destiny_p=str(current_day_fleet_siders.loc[j,'Max_reach_time_at_destiny'].time())[0:5]+\":\"+\"00\"\n",
    "#     fleet_start_date_time = current_day_fleet_siders.loc[j,'Fleet_start_date_time']\n",
    "#     fleet_start_time=str(fleet_start_date_time.hour).zfill(2)+\":00:00\"\n",
    "#     check_origin_attention_v1(origin_attention_df,origin,fleet_start_time,Max_reach_time_at_destiny_p,day_of_week,attention_list_allowed,attention_dict_allowed)"
   ]
  },
  {
   "cell_type": "code",
   "execution_count": 101,
   "id": "62a37a03",
   "metadata": {
    "ExecuteTime": {
     "end_time": "2023-10-23T14:20:31.312468Z",
     "start_time": "2023-10-23T14:20:31.290722Z"
    }
   },
   "outputs": [],
   "source": [
    "# j=0\n",
    "# Max_reach_date_time_at_destiny=current_day_fleet_siders.loc[j,'Max_reach_time_at_destiny']\n",
    "# fleet_start_date_time = current_day_fleet_siders.loc[j,'Fleet_start_date_time']\n",
    "# fleet_start_time=str(fleet_start_date_time.hour).zfill(2)+\":00:00\"\n",
    "# attention_start_obtained,truck_sent=check_origin_attention_v1(origin_attention_df,origin,fleet_start_time,Max_reach_time_at_destiny_p,day_of_week,attention_list_allowed,attention_dict_allowed)"
   ]
  },
  {
   "cell_type": "code",
   "execution_count": 102,
   "id": "c30a527c",
   "metadata": {
    "ExecuteTime": {
     "end_time": "2023-10-23T14:20:31.777165Z",
     "start_time": "2023-10-23T14:20:31.764601Z"
    }
   },
   "outputs": [],
   "source": [
    "# distance_and_time['Destiny_Code'].unique()"
   ]
  },
  {
   "cell_type": "code",
   "execution_count": 103,
   "id": "c2a7873d",
   "metadata": {
    "ExecuteTime": {
     "end_time": "2023-10-23T14:20:32.341149Z",
     "start_time": "2023-10-23T14:20:32.319510Z"
    }
   },
   "outputs": [],
   "source": [
    "# current_day_fleet_siders.shape"
   ]
  },
  {
   "cell_type": "markdown",
   "id": "36103efb",
   "metadata": {},
   "source": [
    "### Destination Attention check"
   ]
  },
  {
   "cell_type": "code",
   "execution_count": 104,
   "id": "75bcc345",
   "metadata": {
    "ExecuteTime": {
     "end_time": "2023-10-23T14:20:43.545840Z",
     "start_time": "2023-10-23T14:20:43.531270Z"
    }
   },
   "outputs": [],
   "source": [
    "# Max_reach_date_time_at_destiny_p=Max_reach_date_time_at_destiny\n",
    "# attention_start_time_obtained=attention_start_obtained"
   ]
  },
  {
   "cell_type": "code",
   "execution_count": 105,
   "id": "2ce55716",
   "metadata": {
    "ExecuteTime": {
     "end_time": "2023-10-23T14:20:44.127271Z",
     "start_time": "2023-10-23T14:20:44.096720Z"
    }
   },
   "outputs": [],
   "source": [
    "def check_destination_attention_v1(destiny_attention_df,distance_and_time,origin,destiny,attention_start_time_obtained,Max_reach_time_at_destiny_p,fecha_str,day_of_week):\n",
    "#check destination attention hour\n",
    "#convert truck_start_time_obtained to date time \n",
    "    import datetime\n",
    "    from datetime import timedelta\n",
    "    fecha_next_str=fecha_str\n",
    "    truck_start_date_time_obtained=pd.to_datetime(fecha_next_str+\" \"+attention_start_time_obtained, format='%d-%m-%Y %H:%M:%S')\n",
    "    Max_reach_date_time_at_destiny_p=Max_reach_time_at_destiny_p\n",
    "    #print(\"inside check_destination_attention_v1\")\n",
    "    #print(\"max reach date time to reach at desyiny \",Max_reach_date_time_at_destiny_p)\n",
    "    #     if plan=='10:30 PM':\n",
    "    # #         if (attention_start_time_obtained==\"22:00:00\" or attention_start_time_obtained==\"23:00:00\"):\n",
    "    #         truck_start_date_time_obtained=pd.to_datetime(fecha_str+attention_start_time_obtained, format='%Y-%m-%d%H:%M:%S')\n",
    "    #     else:\n",
    "    #         truck_start_date_time_obtained=pd.to_datetime(fecha_next_str+attention_start_time_obtained, format='%Y-%m-%d%H:%M:%S')\n",
    "    if \"-I\" in destiny:\n",
    "        destiny1 =destiny[:-2]\n",
    "    else:\n",
    "        destiny1 =destiny\n",
    "    wait_hour=0    \n",
    "    truck_reach_dest_date_time_obtained='NA'\n",
    "    truck_reach_back_date_time_obtained='NA'\n",
    "    #filter destiny attention hour table     \n",
    "    destiny_attention_df_temp=destiny_attention_df[[\"COD\",\"Attention_Start\",\"Attention_End\",day_of_week+\"_attention\"]]\n",
    "    destiny_attention_df_temp=destiny_attention_df_temp[destiny_attention_df_temp.COD==destiny1]\n",
    "    destiny_attention_df_temp['Attention_Start']=destiny_attention_df_temp['Attention_Start'].astype(str)\n",
    "\n",
    "    #filter distance and time and find time to reach destiny \n",
    "    transfer_info =  distance_and_time[(distance_and_time['Origin_Code'] == origin) & (distance_and_time['Destiny_Code'] == destiny)]\n",
    "    #print(transfer_info)\n",
    "    one_way_time_in_min = int(transfer_info['time_one_way_min'].values[0])\n",
    "    two_way_time_in_min = int(transfer_info['time_two_way_min'].values[0])*2\n",
    "    loading_time_origin = int(transfer_info['Loading_time_origin_min'].values[0])\n",
    "    unloading_time_at_dest = int(transfer_info['unloading_loading_time_in_dest_min'].values[0])\n",
    "    break_time_min_dest =int(transfer_info['break_time_min'].values[0])\n",
    "    reach_at_destination_date_time=truck_start_date_time_obtained +datetime.timedelta(minutes=loading_time_origin)+datetime.timedelta(minutes=one_way_time_in_min)\n",
    "    print(\"reach_at_destination_date_time\",reach_at_destination_date_time)\n",
    "    print(\"Max_reach_date_time_at_destiny_p\",Max_reach_date_time_at_destiny_p)\n",
    "    #print(reach_at_destination_date_time>Max_reach_date_time_at_destiny_p)\n",
    "    #print(\"will reach at destiny\",reach_at_destination_date_time)\n",
    "    reach_at_destination_time=reach_at_destination_date_time.time()\n",
    "    reach_at_destination_time_ceil_down=reach_at_destination_time.hour\n",
    "    reach_at_destination_time_ceil_down_time_format=datetime.time(reach_at_destination_time_ceil_down,0,0)\n",
    "    destination_atention_hour_to_check=str(reach_at_destination_time_ceil_down_time_format)\n",
    "    #print(\"destination attention hour  to be checked \",destination_atention_hour_to_check)\n",
    "    #lets check destination attention hour \n",
    "\n",
    "    truck_sent =False\n",
    "    attention_end_obtained=\"NA\"\n",
    "    #send_external_truck=False \n",
    "    duration_of_trip='NA'\n",
    "    #Break time = 0\n",
    "\n",
    "    #STEp0: DIrectly find destination attention hour \n",
    "    \n",
    "    attention_available=destiny_attention_df_temp[(destiny_attention_df_temp['Attention_Start']==destination_atention_hour_to_check)][day_of_week+\"_attention\"].values[0]\n",
    "\n",
    "    #Max_reach_date_time_at_destiny_p = max time at which trip can start from origin\n",
    "    #STEP 1:\n",
    "    if (reach_at_destination_date_time>Max_reach_date_time_at_destiny_p):\n",
    "        #print(\"inside if 1\")\n",
    "        attention_end_obtained=destination_atention_hour_to_check\n",
    "        truck_sent=True\n",
    "        wait_hour=0\n",
    "        truck_reach_dest_date_time_obtained=reach_at_destination_date_time+datetime.timedelta(hours=wait_hour)\n",
    "        truck_reach_back_date_time_obtained=truck_reach_dest_date_time_obtained+\\\n",
    "        datetime.timedelta(minutes=one_way_time_in_min)+datetime.timedelta(minutes=unloading_time_at_dest)\n",
    "        duration_of_trip=(truck_reach_back_date_time_obtained-truck_start_date_time_obtained).seconds/3600\n",
    "\n",
    "    else :\n",
    "        #print(\"inside else 1\")\n",
    "        if attention_available>0:\n",
    "            #print(\"inside if 2\")\n",
    "            attention_end_obtained=destination_atention_hour_to_check\n",
    "            truck_sent=True\n",
    "            #print(\"truck can be send in own truck \")\n",
    "        else :\n",
    "            #print(\"inside else 2\")\n",
    "            #print(\"lets try to find attention hour after waiting \")\n",
    "            attention_hour_list=get_attention_hour_list(destiny_attention_df,destiny1,destination_atention_hour_to_check)\n",
    "            #print(attention_hour_list)\n",
    "            #wait_hour_final=0\n",
    "            #print(attention_hour_list)\n",
    "            for attention_dest  in attention_hour_list:\n",
    "                #### we have to send the truck right??\n",
    "                if attention_dest==Max_reach_time_at_destiny_p:\n",
    "                    #print(\"max time reached to reach at destiny  trip can not be planned\")\n",
    "                    break\n",
    "                #print(\"currently checking for\",attention_dest)\n",
    "                attention_available=destiny_attention_df_temp[(destiny_attention_df_temp['Attention_Start']==attention_dest)][day_of_week+\"_attention\"].values[0]\n",
    "                #print(\"Attention available \",attention_available)\n",
    "                if attention_available>0:\n",
    "                    attention_end_obtained=attention_dest\n",
    "                    truck_sent=True\n",
    "                    break\n",
    "                wait_hour=wait_hour+1\n",
    "        #wait_hour=wait_hour_final\n",
    "        if truck_sent==True :\n",
    "            truck_reach_dest_date_time_obtained=reach_at_destination_date_time+datetime.timedelta(hours=wait_hour)\n",
    "            ##### Include Honduras remolque restrictions here\n",
    "            #### Add the individual restrictions here\n",
    "            truck_reach_back_date_time_obtained=truck_reach_dest_date_time_obtained+\\\n",
    "            datetime.timedelta(minutes=one_way_time_in_min)+datetime.timedelta(minutes=unloading_time_at_dest)+\\\n",
    "            datetime.timedelta(minutes=break_time_min_dest)\n",
    "            duration_of_trip=(truck_reach_back_date_time_obtained - truck_start_date_time_obtained)/pd.Timedelta('1 hour')\n",
    "\n",
    "    #     print(\"destination attention obtained\",attention_end_obtained)\n",
    "    #     print(\"can we send external truck\",send_external_truck)\n",
    "    #     print(\"can we send own truck\",truck_sent)\n",
    "    #     print(\"waiting time \",wait_hour)\n",
    "    #print(truck_reach_back_date_time_obtained,truck_start_date_time_obtained)\n",
    "    #    diff_time=\n",
    "    #     print(\"total duration of trip \",(diff_time).seconds//3600)\n",
    "    #     print(\"total duration of trip2 \",(diff_time.seconds//60)%60)\n",
    "    #    print(\"total duration of trip2 \",(diff_time.seconds/3600))\n",
    "\n",
    "    return truck_start_date_time_obtained,truck_reach_dest_date_time_obtained,truck_reach_back_date_time_obtained,attention_end_obtained,truck_sent,wait_hour,one_way_time_in_min,two_way_time_in_min,unloading_time_at_dest,duration_of_trip\n"
   ]
  },
  {
   "cell_type": "code",
   "execution_count": 106,
   "id": "35780cc6",
   "metadata": {
    "ExecuteTime": {
     "end_time": "2023-10-23T14:20:44.701205Z",
     "start_time": "2023-10-23T14:20:44.686735Z"
    }
   },
   "outputs": [],
   "source": [
    "# truck_start_date_time_obtained,truck_reach_dest_date_time_obtained,truck_reach_back_date_time_obtained,\\\n",
    "#             attention_end_obtained,truck_sent_dest,wait_hour,one_way_time_in_min,\\\n",
    "#             two_way_time_in_min,unloading_time_at_dest,duration_of_trip_hr=check_destination_attention_v1(destiny_attention_df,distance_and_time,origin,destiny,attention_start_time_obtained,Max_reach_date_time_at_destiny_p,fecha_str,day_of_week)"
   ]
  },
  {
   "cell_type": "code",
   "execution_count": 107,
   "id": "db3c206e",
   "metadata": {
    "ExecuteTime": {
     "end_time": "2023-10-23T14:20:45.124438Z",
     "start_time": "2023-10-23T14:20:45.111826Z"
    }
   },
   "outputs": [],
   "source": [
    "#Dist_plan1.columns"
   ]
  },
  {
   "cell_type": "markdown",
   "id": "a871f070",
   "metadata": {},
   "source": [
    "### Filler SKU"
   ]
  },
  {
   "cell_type": "code",
   "execution_count": 108,
   "id": "c7a40542",
   "metadata": {
    "ExecuteTime": {
     "end_time": "2023-10-23T14:20:46.008767Z",
     "start_time": "2023-10-23T14:20:45.988475Z"
    }
   },
   "outputs": [],
   "source": [
    "def check_update_filler_sku_V2(max_pallets,max_weight,result_df,filler_added,Filler_sku,filler_weight):\n",
    "    #find how many pallets of filler SKU required \n",
    "    #but do not add filler SKU if total weight is crossing 40 ton \n",
    "    final_df_azua=result_df   \n",
    "    req_cols=[x for x in final_df_azua.columns  if x.startswith(\"_\")]\n",
    "    final_df_required=final_df_azua[req_cols]\n",
    "    sum_pallets=float(final_df_required.sum(axis=1))\n",
    "    sum_total_weight=float(final_df_azua['Total_weight_in_kg'])\n",
    "    filler_pallets_added=0\n",
    "    filler_added=False\n",
    "    #print(\"###initial \",sum_pallets,filler_pallets_added)\n",
    "    while sum_pallets<max_pallets and sum_total_weight<max_weight:\n",
    "        filler_pallets_added=filler_pallets_added+1\n",
    "        sum_total_weight=sum_total_weight+filler_weight\n",
    "        sum_pallets=sum_pallets+1\n",
    "        ##print(\"###inside while \",sum_pallets,filler_pallets_added)\n",
    "        filler_added=True\n",
    "    pallets_required=filler_pallets_added\n",
    "    #print(\"###\",sum_pallets,pallets_required)\n",
    "    final_df_azua[\"_\"+str(Filler_sku)]=final_df_azua[\"_\"+str(Filler_sku)]+pallets_required\n",
    "    final_df_azua['Total_weight_in_kg']=sum_total_weight\n",
    "    final_df_azua['total_pallets_sent']=sum_pallets\n",
    "    return pallets_required,filler_added"
   ]
  },
  {
   "cell_type": "code",
   "execution_count": 109,
   "id": "c3309cd2",
   "metadata": {
    "ExecuteTime": {
     "end_time": "2023-10-23T14:20:46.539925Z",
     "start_time": "2023-10-23T14:20:46.511704Z"
    }
   },
   "outputs": [],
   "source": [
    "def update_priority(result_df_row,df_priority_CND):\n",
    "    #df_priority_CND['codigo']=df_priority_CND['codigo'].map('-{}'.format)\n",
    "    #update priority\n",
    "    final_df_x=result_df_row\n",
    "    temp_dest=final_df_x['Destination'].values[0]\n",
    "    temp_org=final_df_x['origin'].values[0]\n",
    "    final_df_x=final_df_x.loc[:, (final_df_x != 0).any(axis=0)]\n",
    "    req_col=[x for x in final_df_x.columns  if x.startswith(\"_\")]\n",
    "    final_df_x=final_df_x[req_col]\n",
    "    dict_temp={}\n",
    "    for k in final_df_x.columns:\n",
    "        dict_temp[int(k.split(\"_\")[1])]=final_df_x[k].values[0]\n",
    "    df_priority_CND_required=df_priority_CND[(df_priority_CND.Destination==temp_dest)&((df_priority_CND.Origin==temp_org))]\n",
    "    #print(df_priority_CND_required)\n",
    "   # df_priority_CND_required['codigo']=df_priority_CND_required['codigo'].map('-{}'.format)\n",
    "    for sku, pallet_sider in dict_temp.items():\n",
    "        #print(sku, pallet_sider)\n",
    "        if sku in df_priority_CND_required['codigo'].to_list():\n",
    "            #print(\"sku updated \",sku)\n",
    "            pallet_to_be_updated=df_priority_CND_required[df_priority_CND_required.codigo==sku]['Total_pallets'].values[0]\n",
    "            #print(\"pallet_to_be_updated\",pallet_to_be_updated)\n",
    "            #print(\"pallet_sider\",pallet_sider)\n",
    "            #print(temp_dest)\n",
    "            \n",
    "            if pallet_to_be_updated<pallet_sider:\n",
    "                pallet_to_be_updated=0\n",
    "            else:\n",
    "                pallet_to_be_updated=pallet_to_be_updated-pallet_sider\n",
    "            #print(\"pallet_to_be_updated modified\",pallet_to_be_updated)\n",
    "            df_priority_CND.loc[(df_priority_CND.Destination==temp_dest) & (df_priority_CND.Origin==temp_org)&(df_priority_CND.codigo==sku),'Total_pallets']=pallet_to_be_updated\n",
    "    return df_priority_CND"
   ]
  },
  {
   "cell_type": "code",
   "execution_count": 110,
   "id": "8b7fdc04",
   "metadata": {
    "ExecuteTime": {
     "end_time": "2023-10-23T14:20:47.149032Z",
     "start_time": "2023-10-23T14:20:47.127316Z"
    }
   },
   "outputs": [],
   "source": [
    "def update_origin_attention(origin_attention_df,origin,attention_start_hour_obtained,Day_of_week):\n",
    "\t#update origin attention \n",
    "    attention=origin_attention_df.loc[((origin_attention_df.CDD==origin) &(origin_attention_df.Attention_Start.astype(str)==attention_start_hour_obtained))][Day_of_week+\"_attention\"]\n",
    "    attention=attention.values[0]\n",
    "\n",
    "    if attention>0:\n",
    "        origin_attention_df.loc[((origin_attention_df.CDD==origin) &(origin_attention_df.Attention_Start.astype(str)==attention_start_hour_obtained)),[Day_of_week+\"_attention\"]]=attention-1\n",
    "\n",
    "def update_destination_attention(destiny_attention_df,destiny,attention_end_obtained,Day_of_week):\n",
    "\t#update destination attention \n",
    "    attention=destiny_attention_df.loc[((destiny_attention_df.CDD==destiny) &(destiny_attention_df.Attention_Start.astype(str)==attention_end_obtained))][Day_of_week+\"_attention\"]\n",
    "    attention=attention.values[0]\n",
    "    print(attention)\n",
    "\n",
    "    if attention>0:\n",
    "        destiny_attention_df.loc[((destiny_attention_df.CDD==destiny) &(destiny_attention_df.Attention_Start.astype(str)==attention_end_obtained)),[Day_of_week+\"_attention\"]]=attention-1\n"
   ]
  },
  {
   "cell_type": "code",
   "execution_count": 111,
   "id": "efd290f7",
   "metadata": {
    "ExecuteTime": {
     "end_time": "2023-10-23T14:20:47.676830Z",
     "start_time": "2023-10-23T14:20:47.653753Z"
    }
   },
   "outputs": [],
   "source": [
    "def rearrange_sider(current_day_fleet_siders_CND,ficha):\n",
    "    #move the sider which is allocated to buttom \n",
    "    if ficha != 'NA':\n",
    "        row=current_day_fleet_siders_CND.loc[current_day_fleet_siders_CND.Ficha==ficha]\n",
    "        current_day_fleet_siders_CND=current_day_fleet_siders_CND[current_day_fleet_siders_CND.Ficha!=ficha]\n",
    "        current_day_fleet_siders_CND=pd.concat([current_day_fleet_siders_CND,row])\n",
    "        current_day_fleet_siders_CND=current_day_fleet_siders_CND.reset_index(drop=True)\n",
    "    return current_day_fleet_siders_CND"
   ]
  },
  {
   "cell_type": "code",
   "execution_count": 112,
   "id": "eb8381f7",
   "metadata": {
    "ExecuteTime": {
     "end_time": "2023-10-23T14:20:48.235625Z",
     "start_time": "2023-10-23T14:20:48.200076Z"
    }
   },
   "outputs": [
    {
     "data": {
      "text/html": [
       "<div>\n",
       "<style scoped>\n",
       "    .dataframe tbody tr th:only-of-type {\n",
       "        vertical-align: middle;\n",
       "    }\n",
       "\n",
       "    .dataframe tbody tr th {\n",
       "        vertical-align: top;\n",
       "    }\n",
       "\n",
       "    .dataframe thead th {\n",
       "        text-align: right;\n",
       "    }\n",
       "</style>\n",
       "<table border=\"1\" class=\"dataframe\">\n",
       "  <thead>\n",
       "    <tr style=\"text-align: right;\">\n",
       "      <th></th>\n",
       "      <th>index</th>\n",
       "      <th>Attention_Start</th>\n",
       "      <th>Attention_End</th>\n",
       "      <th>Weekday_attention</th>\n",
       "      <th>COD</th>\n",
       "      <th>CDD</th>\n",
       "      <th>Saturday_attention</th>\n",
       "      <th>Sunday_attention</th>\n",
       "    </tr>\n",
       "  </thead>\n",
       "  <tbody>\n",
       "    <tr>\n",
       "      <th>0</th>\n",
       "      <td>0</td>\n",
       "      <td>06:00:00</td>\n",
       "      <td>07:00:00</td>\n",
       "      <td>0.0</td>\n",
       "      <td>SH01</td>\n",
       "      <td>CSD</td>\n",
       "      <td>0</td>\n",
       "      <td>0</td>\n",
       "    </tr>\n",
       "    <tr>\n",
       "      <th>1</th>\n",
       "      <td>1</td>\n",
       "      <td>07:00:00</td>\n",
       "      <td>08:00:00</td>\n",
       "      <td>0.0</td>\n",
       "      <td>SH01</td>\n",
       "      <td>CSD</td>\n",
       "      <td>0</td>\n",
       "      <td>0</td>\n",
       "    </tr>\n",
       "    <tr>\n",
       "      <th>2</th>\n",
       "      <td>2</td>\n",
       "      <td>08:00:00</td>\n",
       "      <td>09:00:00</td>\n",
       "      <td>6.0</td>\n",
       "      <td>SH01</td>\n",
       "      <td>CSD</td>\n",
       "      <td>0</td>\n",
       "      <td>0</td>\n",
       "    </tr>\n",
       "    <tr>\n",
       "      <th>3</th>\n",
       "      <td>3</td>\n",
       "      <td>09:00:00</td>\n",
       "      <td>10:00:00</td>\n",
       "      <td>6.0</td>\n",
       "      <td>SH01</td>\n",
       "      <td>CSD</td>\n",
       "      <td>0</td>\n",
       "      <td>0</td>\n",
       "    </tr>\n",
       "    <tr>\n",
       "      <th>4</th>\n",
       "      <td>4</td>\n",
       "      <td>10:00:00</td>\n",
       "      <td>11:00:00</td>\n",
       "      <td>6.0</td>\n",
       "      <td>SH01</td>\n",
       "      <td>CSD</td>\n",
       "      <td>0</td>\n",
       "      <td>0</td>\n",
       "    </tr>\n",
       "    <tr>\n",
       "      <th>...</th>\n",
       "      <td>...</td>\n",
       "      <td>...</td>\n",
       "      <td>...</td>\n",
       "      <td>...</td>\n",
       "      <td>...</td>\n",
       "      <td>...</td>\n",
       "      <td>...</td>\n",
       "      <td>...</td>\n",
       "    </tr>\n",
       "    <tr>\n",
       "      <th>115</th>\n",
       "      <td>19</td>\n",
       "      <td>01:00:00</td>\n",
       "      <td>02:00:00</td>\n",
       "      <td>0.0</td>\n",
       "      <td>DH19</td>\n",
       "      <td>ALDESA</td>\n",
       "      <td>0</td>\n",
       "      <td>0</td>\n",
       "    </tr>\n",
       "    <tr>\n",
       "      <th>116</th>\n",
       "      <td>20</td>\n",
       "      <td>02:00:00</td>\n",
       "      <td>03:00:00</td>\n",
       "      <td>0.0</td>\n",
       "      <td>DH19</td>\n",
       "      <td>ALDESA</td>\n",
       "      <td>0</td>\n",
       "      <td>0</td>\n",
       "    </tr>\n",
       "    <tr>\n",
       "      <th>117</th>\n",
       "      <td>21</td>\n",
       "      <td>03:00:00</td>\n",
       "      <td>04:00:00</td>\n",
       "      <td>0.0</td>\n",
       "      <td>DH19</td>\n",
       "      <td>ALDESA</td>\n",
       "      <td>0</td>\n",
       "      <td>0</td>\n",
       "    </tr>\n",
       "    <tr>\n",
       "      <th>118</th>\n",
       "      <td>22</td>\n",
       "      <td>04:00:00</td>\n",
       "      <td>05:00:00</td>\n",
       "      <td>0.0</td>\n",
       "      <td>DH19</td>\n",
       "      <td>ALDESA</td>\n",
       "      <td>0</td>\n",
       "      <td>0</td>\n",
       "    </tr>\n",
       "    <tr>\n",
       "      <th>119</th>\n",
       "      <td>23</td>\n",
       "      <td>05:00:00</td>\n",
       "      <td>06:00:00</td>\n",
       "      <td>0.0</td>\n",
       "      <td>DH19</td>\n",
       "      <td>ALDESA</td>\n",
       "      <td>0</td>\n",
       "      <td>0</td>\n",
       "    </tr>\n",
       "  </tbody>\n",
       "</table>\n",
       "<p>120 rows × 8 columns</p>\n",
       "</div>"
      ],
      "text/plain": [
       "     index Attention_Start Attention_End  Weekday_attention   COD     CDD  \\\n",
       "0        0        06:00:00      07:00:00                0.0  SH01     CSD   \n",
       "1        1        07:00:00      08:00:00                0.0  SH01     CSD   \n",
       "2        2        08:00:00      09:00:00                6.0  SH01     CSD   \n",
       "3        3        09:00:00      10:00:00                6.0  SH01     CSD   \n",
       "4        4        10:00:00      11:00:00                6.0  SH01     CSD   \n",
       "..     ...             ...           ...                ...   ...     ...   \n",
       "115     19        01:00:00      02:00:00                0.0  DH19  ALDESA   \n",
       "116     20        02:00:00      03:00:00                0.0  DH19  ALDESA   \n",
       "117     21        03:00:00      04:00:00                0.0  DH19  ALDESA   \n",
       "118     22        04:00:00      05:00:00                0.0  DH19  ALDESA   \n",
       "119     23        05:00:00      06:00:00                0.0  DH19  ALDESA   \n",
       "\n",
       "     Saturday_attention  Sunday_attention  \n",
       "0                     0                 0  \n",
       "1                     0                 0  \n",
       "2                     0                 0  \n",
       "3                     0                 0  \n",
       "4                     0                 0  \n",
       "..                  ...               ...  \n",
       "115                   0                 0  \n",
       "116                   0                 0  \n",
       "117                   0                 0  \n",
       "118                   0                 0  \n",
       "119                   0                 0  \n",
       "\n",
       "[120 rows x 8 columns]"
      ]
     },
     "execution_count": 112,
     "metadata": {},
     "output_type": "execute_result"
    }
   ],
   "source": [
    "origin_attention_df"
   ]
  },
  {
   "cell_type": "code",
   "execution_count": 113,
   "id": "a706c7c7",
   "metadata": {
    "ExecuteTime": {
     "end_time": "2023-10-23T14:20:48.927180Z",
     "start_time": "2023-10-23T14:20:48.907990Z"
    }
   },
   "outputs": [],
   "source": [
    "### why arent we returning anything\n",
    "\n",
    "def update_origin_attention(origin_attention_df,origin,attention_start_hour_obtained,Day_of_week):\n",
    "\t#update origin attention \n",
    "    attention=origin_attention_df.loc[((origin_attention_df.COD==origin) &(origin_attention_df.Attention_Start.astype(str)==attention_start_hour_obtained))][Day_of_week+\"_attention\"]\n",
    "    attention=attention.values[0]\n",
    "\n",
    "    if attention>0:\n",
    "        origin_attention_df.loc[((origin_attention_df.COD==origin) &(origin_attention_df.Attention_Start.astype(str)==attention_start_hour_obtained)),[Day_of_week+\"_attention\"]]=attention-1\n",
    "\n",
    "def update_destination_attention(destiny_attention_df,destiny,attention_end_obtained,Day_of_week):\n",
    "\t#update destination attention \n",
    "    attention=destiny_attention_df.loc[((destiny_attention_df.COD==destiny) &(destiny_attention_df.Attention_Start.astype(str)==attention_end_obtained))][Day_of_week+\"_attention\"]\n",
    "    attention=attention.values[0]\n",
    "    print(attention)\n",
    "\n",
    "    if attention>0:\n",
    "        destiny_attention_df.loc[((destiny_attention_df.COD==destiny) &(destiny_attention_df.Attention_Start.astype(str)==attention_end_obtained)),[Day_of_week+\"_attention\"]]=attention-1\n"
   ]
  },
  {
   "cell_type": "code",
   "execution_count": 114,
   "id": "99e2f65f",
   "metadata": {
    "ExecuteTime": {
     "end_time": "2023-10-23T14:20:49.491887Z",
     "start_time": "2023-10-23T14:20:49.469919Z"
    }
   },
   "outputs": [],
   "source": [
    "def create_codigo_values(codigo_list,  total_pallets_list, weight_per_pallet_list):\n",
    "    codigo_values = []\n",
    "    #print(codigo_list)\n",
    "    for i in range(len(codigo_list)):\n",
    "        codigo_info = {\n",
    "            \"codigo\": codigo_list[i],\n",
    "            \"Total_pallets\": total_pallets_list[i],\n",
    "            \"kg_weight_per_pallet\": weight_per_pallet_list[i]\n",
    "        }\n",
    "        codigo_values.append(codigo_info)\n",
    "    return codigo_values"
   ]
  },
  {
   "cell_type": "code",
   "execution_count": 115,
   "id": "22567678",
   "metadata": {
    "ExecuteTime": {
     "end_time": "2023-10-23T14:20:50.273921Z",
     "start_time": "2023-10-23T14:20:50.242727Z"
    }
   },
   "outputs": [],
   "source": [
    "def generate_recommendation_v2(vm,dest,max_pallets,max_weight):\n",
    "    import numpy as np \n",
    "    df = pd.DataFrame()\n",
    "    i=0\n",
    "    dict1 = {}\n",
    "    vm['kg_weight_per_pallet']=vm['kg_weight_per_pallet'].astype(float)\n",
    "    while (vm[dest].sum()>0):\n",
    "        #print(\"Start of while\")\n",
    "        if vm[dest].sum()>=max_pallets:\n",
    "            print(i,vm[dest].sum())\n",
    "\n",
    "\n",
    "            codigo_values = create_codigo_values(vm['codigo'],vm[dest],vm['kg_weight_per_pallet'])\n",
    "            #print(codigo_values)\n",
    "\n",
    "            from pulp import LpVariable, LpProblem, LpMinimize, lpSum, LpStatus ,LpMaximize,PULP_CBC_CMD\n",
    "            problem = LpProblem(\"PalletShippingProblem\", LpMaximize)\n",
    "            max_pallets = max_pallets\n",
    "            max_weight = max_weight\n",
    "\n",
    "            x = {codigo[\"codigo\"]: LpVariable(f\"{codigo['codigo']}\", lowBound=0, cat=\"Integer\") for codigo in codigo_values}\n",
    "\n",
    "            problem += lpSum(codigo[\"kg_weight_per_pallet\"] * x[codigo[\"codigo\"]] for codigo in codigo_values)\n",
    "            # # # Set the constraints\n",
    "            problem += lpSum(x.values()) <= max_pallets\n",
    "            #problem += lpSum(codigo[\"kg_weight_per_pallet\"] * x[codigo[\"codigo\"]] for codigo in codigo_values) >= min_weight\n",
    "            problem += lpSum(codigo[\"kg_weight_per_pallet\"] * x[codigo[\"codigo\"]] for codigo in codigo_values) <= max_weight\n",
    "\n",
    "            for codigo in codigo_values:\n",
    "                problem +=x[codigo[\"codigo\"]]<=codigo['Total_pallets']\n",
    "\n",
    "\t\t\t\n",
    "            #problem.solve(PULP_CBC_CMD(msg=0))\n",
    "            problem.solve()\n",
    "            import numpy as np\n",
    "            #print(problem)\n",
    "            for var in problem.variables():\n",
    "                dict1['Truck']=i\n",
    "                dict1[var.name]=var.value()\n",
    "                vm[dest] = np.where(vm[\"codigo\"] == \"-\"+var.name.split(\"_\")[1], vm[dest]-var.value(), vm[dest])\n",
    "            dict1[\"Total_weight_in_kg\"]=problem.objective.value()\n",
    "\n",
    "            i=i+1\n",
    "\n",
    "            df_temp = pd.DataFrame(dict1,index=[i])\n",
    "\n",
    "            df_temp['Destination'] = dest\n",
    "\n",
    "            df=df.append(df_temp)\n",
    "        else:\n",
    "            #print(\"inside else \")\n",
    "            #print(i,vm[dest].sum())\n",
    "            dict2={}\n",
    "            dict2['Truck']=i\n",
    "            \n",
    "            total_kg=0\n",
    "            #vm=vm.sort_values(by=['codigo'], ascending=True)\n",
    "            #vm=vm.reset_index(drop=True )\n",
    "            for j in range(vm.shape[0]):\n",
    "                sku=\"_\"+(vm.loc[j,'codigo']).split(\"-\")[1]\n",
    "                pallet=vm.loc[j,dest]\n",
    "                sku_kg=pallet*vm.loc[j,'kg_weight_per_pallet']\n",
    "                total_kg=total_kg+sku_kg\n",
    "                dict2[sku]=pallet\n",
    "                vm[dest] = np.where(vm[\"codigo\"] == \"-\"+sku.split(\"_\")[1], vm[dest]-pallet, vm[dest])\n",
    "\n",
    "                \n",
    "            \n",
    "            dict2[\"Total_weight_in_kg\"]=total_kg\n",
    "            df_temp = pd.DataFrame(dict2,index=[i])\n",
    "            df_temp['Destination'] = dest\n",
    "            df=df.append(df_temp)\n",
    "\n",
    "            \n",
    "\n",
    "    return df\n"
   ]
  },
  {
   "cell_type": "markdown",
   "id": "abe6459b",
   "metadata": {},
   "source": [
    "## Planning"
   ]
  },
  {
   "cell_type": "code",
   "execution_count": 116,
   "id": "21957991",
   "metadata": {
    "ExecuteTime": {
     "end_time": "2023-10-23T14:20:51.388412Z",
     "start_time": "2023-10-23T14:20:51.376527Z"
    }
   },
   "outputs": [],
   "source": [
    "#req_org_list=Dist_plan1['Origin'].unique()\n",
    "req_org_list=Dist_plan1['org-priority'].unique()\n",
    "req_dest_list=Dist_plan1['Destination'].unique()\n",
    "\n",
    "#### Leave out DH14 because Roatan wil be in MVP2\n",
    "req_dest_list =[x for x in req_dest_list if x != 'DH14']"
   ]
  },
  {
   "cell_type": "code",
   "execution_count": 117,
   "id": "37caaee5",
   "metadata": {
    "ExecuteTime": {
     "end_time": "2023-10-23T14:20:51.869872Z",
     "start_time": "2023-10-23T14:20:51.844989Z"
    }
   },
   "outputs": [],
   "source": [
    "Propia=list(current_day_fleet_siders[current_day_fleet_siders['Tipo de Vehículo']=='Propia']['Ficha'].unique())\n",
    "Hibrid =list(current_day_fleet_siders[current_day_fleet_siders['Tipo de Vehículo']=='Hibrida']['Ficha'].unique())\n",
    "Terceros=list(current_day_fleet_siders[current_day_fleet_siders['Tipo de Vehículo']=='Terceros']['Ficha'].unique())\n",
    "\n",
    "propia_dest= ['DH00','DH01','DH03','DH15','DH11','DH10']\n",
    "hibrid_dest= ['DH04','DH02','DH05','DH06','DH07','DH08','DH09','DH12','DH13']"
   ]
  },
  {
   "cell_type": "code",
   "execution_count": 118,
   "id": "c59207a9",
   "metadata": {
    "ExecuteTime": {
     "end_time": "2023-10-23T14:20:52.337825Z",
     "start_time": "2023-10-23T14:20:52.325310Z"
    }
   },
   "outputs": [
    {
     "data": {
      "text/plain": [
       "5160.0"
      ]
     },
     "execution_count": 118,
     "metadata": {},
     "output_type": "execute_result"
    }
   ],
   "source": [
    "Dist_plan1['Total_pallets'].sum()"
   ]
  },
  {
   "cell_type": "code",
   "execution_count": 119,
   "id": "33d22004",
   "metadata": {
    "ExecuteTime": {
     "end_time": "2023-10-23T14:20:52.852859Z",
     "start_time": "2023-10-23T14:20:52.831976Z"
    }
   },
   "outputs": [],
   "source": [
    "destiny = 'DH06'"
   ]
  },
  {
   "cell_type": "code",
   "execution_count": 120,
   "id": "8405e77d",
   "metadata": {
    "ExecuteTime": {
     "end_time": "2023-10-23T14:20:53.467031Z",
     "start_time": "2023-10-23T14:20:53.441945Z"
    }
   },
   "outputs": [],
   "source": [
    "if destiny in propia_dest:\n",
    "    #### Sort in a way so that 1st propia and then hybrid and lastly thrid party fleet comes\n",
    "    current_day_fleet_temp = current_day_fleet_siders[current_day_fleet_siders['Ficha'].isin(Propia)].append(current_day_fleet_siders[current_day_fleet_siders['Ficha'].isin(Hibrid)]).append(current_day_fleet_siders[current_day_fleet_siders['Ficha'].isin(Terceros)]).reset_index().drop(['index'],axis=1)\n",
    "else:\n",
    "    current_day_fleet_temp = current_day_fleet_siders[current_day_fleet_siders['Ficha'].isin(Hibrid)].append(current_day_fleet_siders[current_day_fleet_siders['Ficha'].isin(Terceros)]).reset_index().drop(['index'],axis=1)\n"
   ]
  },
  {
   "cell_type": "code",
   "execution_count": 121,
   "id": "8b1da21f",
   "metadata": {
    "ExecuteTime": {
     "end_time": "2023-10-23T14:20:53.960673Z",
     "start_time": "2023-10-23T14:20:53.937116Z"
    }
   },
   "outputs": [
    {
     "data": {
      "text/html": [
       "<div>\n",
       "<style scoped>\n",
       "    .dataframe tbody tr th:only-of-type {\n",
       "        vertical-align: middle;\n",
       "    }\n",
       "\n",
       "    .dataframe tbody tr th {\n",
       "        vertical-align: top;\n",
       "    }\n",
       "\n",
       "    .dataframe thead th {\n",
       "        text-align: right;\n",
       "    }\n",
       "</style>\n",
       "<table border=\"1\" class=\"dataframe\">\n",
       "  <thead>\n",
       "    <tr style=\"text-align: right;\">\n",
       "      <th></th>\n",
       "      <th>Ficha</th>\n",
       "      <th>Tipo de Vehículo</th>\n",
       "      <th>Modelo</th>\n",
       "      <th>Capacidad KG</th>\n",
       "      <th>Capacidad Ton</th>\n",
       "      <th>Capacidad Pallets</th>\n",
       "      <th>Horas de utilidad</th>\n",
       "      <th>BREWERY</th>\n",
       "      <th>Tipo</th>\n",
       "      <th>Fleet_start_time</th>\n",
       "      <th>Fleet_start_date_time</th>\n",
       "      <th>Fleet_start_date_time_org</th>\n",
       "      <th>Max_reach_time_at_destiny</th>\n",
       "      <th>Ficha_Restriction_destiny</th>\n",
       "      <th>Ficha_Restriction_origin</th>\n",
       "      <th>Ficha_Restriction_sku</th>\n",
       "    </tr>\n",
       "  </thead>\n",
       "  <tbody>\n",
       "    <tr>\n",
       "      <th>0</th>\n",
       "      <td>HN-MR88</td>\n",
       "      <td>Hibrida</td>\n",
       "      <td>NUÑEZ</td>\n",
       "      <td>37194.585</td>\n",
       "      <td>41</td>\n",
       "      <td>28</td>\n",
       "      <td>24 Hr</td>\n",
       "      <td>all</td>\n",
       "      <td>Hibrida</td>\n",
       "      <td>00:00:01</td>\n",
       "      <td>2023-09-14 00:00:01</td>\n",
       "      <td>2023-09-14 00:00:01</td>\n",
       "      <td>2023-09-14 23:00:01</td>\n",
       "      <td>No restriction</td>\n",
       "      <td>No restriction</td>\n",
       "      <td>No restriction</td>\n",
       "    </tr>\n",
       "  </tbody>\n",
       "</table>\n",
       "</div>"
      ],
      "text/plain": [
       "     Ficha Tipo de Vehículo Modelo  Capacidad KG  Capacidad Ton  \\\n",
       "0  HN-MR88          Hibrida  NUÑEZ     37194.585             41   \n",
       "\n",
       "  Capacidad Pallets Horas de utilidad BREWERY     Tipo Fleet_start_time  \\\n",
       "0                28             24 Hr     all  Hibrida         00:00:01   \n",
       "\n",
       "  Fleet_start_date_time Fleet_start_date_time_org Max_reach_time_at_destiny  \\\n",
       "0   2023-09-14 00:00:01       2023-09-14 00:00:01       2023-09-14 23:00:01   \n",
       "\n",
       "  Ficha_Restriction_destiny Ficha_Restriction_origin Ficha_Restriction_sku  \n",
       "0            No restriction           No restriction        No restriction  "
      ]
     },
     "execution_count": 121,
     "metadata": {},
     "output_type": "execute_result"
    }
   ],
   "source": [
    "current_day_fleet_temp.head(n=1)"
   ]
  },
  {
   "cell_type": "code",
   "execution_count": 122,
   "id": "8c68416e",
   "metadata": {
    "ExecuteTime": {
     "end_time": "2023-10-23T14:20:54.370809Z",
     "start_time": "2023-10-23T14:20:54.357616Z"
    }
   },
   "outputs": [],
   "source": [
    "#current_day_fleet_temp.append(current_day_fleet_siders_rest).reset_index().drop(['index'],axis=1)"
   ]
  },
  {
   "cell_type": "code",
   "execution_count": 123,
   "id": "fdda228f",
   "metadata": {
    "ExecuteTime": {
     "end_time": "2023-10-23T14:20:55.205709Z",
     "start_time": "2023-10-23T14:20:55.060029Z"
    }
   },
   "outputs": [],
   "source": [
    "Dist_plan1.to_excel('Data/Distplan1.xlsx')"
   ]
  },
  {
   "cell_type": "code",
   "execution_count": 129,
   "id": "7c62c26b",
   "metadata": {
    "ExecuteTime": {
     "end_time": "2023-10-23T14:25:57.178671Z",
     "start_time": "2023-10-23T14:25:35.161424Z"
    },
    "scrolled": false
   },
   "outputs": [
    {
     "name": "stdout",
     "output_type": "stream",
     "text": [
      "Current combination 0 BH01 DH00 13917 84.0\n",
      "  Origin Destination codigo  Prioridad  Total_boxes  kg_weight_per_pallet  \\\n",
      "0   BH01        DH00  13917          1         6468             847.65005   \n",
      "\n",
      "   package_per_pallet  Total_pallets org-priority  \n",
      "0                49.0           84.0       BH01-1  \n",
      "origin is BH01\n",
      "j started 0\n",
      "destiny is DH00\n",
      "pallets left 512.0\n",
      "origin is BH01\n",
      "j started 1\n",
      "destiny is DH00\n",
      "pallets left 512.0\n",
      "origin is BH01\n",
      "j started 2\n",
      "destiny is DH00\n",
      "pallets left 512.0\n",
      "origin is BH01\n",
      "j started 3\n",
      "destiny is DH00\n",
      "pallets left 512.0\n",
      "origin is BH01\n",
      "j started 4\n",
      "destiny is DH00\n",
      "pallets left 512.0\n",
      "reach_at_destination_date_time 2023-09-14 03:00:00\n",
      "Max_reach_date_time_at_destiny_p 2023-09-14 23:00:01\n",
      "truck_sent_dest True\n",
      "can_send_in_own_sider False\n",
      "can_send_in_rented_sider False\n",
      "(43, 3)\n",
      "   codigo  DH00  kg_weight_per_pallet\n",
      "0  -13908   0.0           1010.602976\n",
      "1  -13910   2.0           1010.602976\n",
      "0 512.0\n",
      "1 484.0\n",
      "2 456.0\n",
      "3 428.0\n",
      "4 400.0\n",
      "5 372.0\n",
      "6 344.0\n",
      "7 316.0\n",
      "8 288.0\n",
      "9 260.0\n",
      "10 232.0\n",
      "11 204.0\n",
      "12 176.0\n",
      "13 148.0\n",
      "14 120.0\n",
      "15 92.0\n",
      "16 64.0\n",
      "17 36.0\n",
      "1\n",
      "SH01 4\n",
      "origin is BH01\n",
      "j started 5\n",
      "destiny is DH00\n",
      "pallets left 484.0\n",
      "origin is BH01\n",
      "j started 6\n",
      "destiny is DH00\n",
      "pallets left 484.0\n",
      "origin is BH01\n",
      "j started 7\n",
      "destiny is DH00\n",
      "pallets left 484.0\n",
      "origin is BH01\n",
      "j started 8\n",
      "destiny is DH00\n",
      "pallets left 484.0\n",
      "origin is BH01\n",
      "j started 9\n",
      "destiny is DH00\n",
      "pallets left 484.0\n",
      "reach_at_destination_date_time 2023-09-14 04:00:00\n",
      "Max_reach_date_time_at_destiny_p 2023-09-14 23:00:01\n",
      "truck_sent_dest True\n",
      "can_send_in_own_sider False\n",
      "can_send_in_rented_sider False\n",
      "(43, 3)\n",
      "   codigo  DH00  kg_weight_per_pallet\n",
      "0  -13908   0.0           1010.602976\n",
      "1  -13910   2.0           1010.602976\n",
      "0 484.0\n",
      "1 456.0\n",
      "2 428.0\n",
      "3 400.0\n",
      "4 372.0\n",
      "5 344.0\n",
      "6 316.0\n",
      "7 288.0\n",
      "8 260.0\n",
      "9 232.0\n",
      "10 204.0\n",
      "11 176.0\n",
      "12 148.0\n",
      "13 120.0\n",
      "14 92.0\n",
      "15 64.0\n",
      "16 36.0\n",
      "3\n",
      "SH01 9\n",
      "origin is BH01\n",
      "j started 10\n",
      "destiny is DH00\n",
      "pallets left 456.0\n",
      "origin is BH01\n",
      "j started 11\n",
      "destiny is DH00\n",
      "pallets left 456.0\n",
      "origin is BH01\n",
      "j started 12\n",
      "destiny is DH00\n",
      "pallets left 456.0\n",
      "origin is BH01\n",
      "j started 13\n",
      "destiny is DH00\n",
      "pallets left 456.0\n",
      "origin is BH01\n",
      "j started 14\n",
      "destiny is DH00\n",
      "pallets left 456.0\n",
      "origin is BH01\n",
      "j started 15\n",
      "destiny is DH00\n",
      "pallets left 456.0\n",
      "origin is BH01\n",
      "j started 16\n",
      "destiny is DH00\n",
      "pallets left 456.0\n",
      "origin is BH01\n",
      "j started 17\n",
      "destiny is DH00\n",
      "pallets left 456.0\n",
      "origin is BH01\n",
      "j started 18\n",
      "destiny is DH00\n",
      "pallets left 456.0\n",
      "origin is BH01\n",
      "j started 19\n",
      "destiny is DH00\n",
      "pallets left 456.0\n",
      "origin is BH01\n",
      "j started 20\n",
      "destiny is DH00\n",
      "pallets left 456.0\n",
      "origin is BH01\n",
      "j started 21\n",
      "destiny is DH00\n",
      "pallets left 456.0\n",
      "origin is BH01\n",
      "j started 22\n",
      "destiny is DH00\n",
      "pallets left 456.0\n",
      "origin is BH01\n",
      "j started 23\n",
      "destiny is DH00\n",
      "pallets left 456.0\n",
      "origin is BH01\n",
      "j started 24\n",
      "destiny is DH00\n",
      "pallets left 456.0\n",
      "origin is BH01\n",
      "j started 25\n",
      "destiny is DH00\n",
      "pallets left 456.0\n",
      "origin is BH01\n",
      "j started 26\n",
      "destiny is DH00\n",
      "pallets left 456.0\n",
      "origin is BH01\n",
      "j started 27\n",
      "destiny is DH00\n",
      "pallets left 456.0\n",
      "origin is BH01\n",
      "j started 28\n",
      "destiny is DH00\n",
      "pallets left 456.0\n",
      "origin is BH01\n",
      "j started 29\n",
      "destiny is DH00\n",
      "pallets left 456.0\n",
      "origin is BH01\n",
      "j started 30\n",
      "destiny is DH00\n",
      "pallets left 456.0\n",
      "reach_at_destination_date_time 2023-09-14 04:00:00\n",
      "Max_reach_date_time_at_destiny_p 2023-09-14 23:00:01\n",
      "truck_sent_dest True\n",
      "can_send_in_own_sider False\n",
      "can_send_in_rented_sider False\n",
      "(43, 3)\n",
      "   codigo  DH00  kg_weight_per_pallet\n",
      "0  -13908   0.0           1010.602976\n",
      "1  -13910   2.0           1010.602976\n",
      "0 456.0\n",
      "1 432.0\n",
      "2 408.0\n",
      "3 384.0\n",
      "4 360.0\n",
      "5 336.0\n",
      "6 312.0\n",
      "7 288.0\n",
      "8 264.0\n",
      "9 240.0\n",
      "10 216.0\n",
      "11 192.0\n",
      "12 168.0\n",
      "13 144.0\n",
      "14 120.0\n",
      "15 96.0\n",
      "16 72.0\n",
      "17 48.0\n",
      "18 24.0\n",
      "2\n",
      "SH01 30\n",
      "origin is BH01\n",
      "j started 31\n",
      "destiny is DH00\n",
      "pallets left 432.0\n",
      "origin is BH01\n",
      "j started 32\n",
      "destiny is DH00\n",
      "pallets left 432.0\n",
      "origin is BH01\n",
      "j started 33\n",
      "destiny is DH00\n",
      "pallets left 432.0\n",
      "origin is BH01\n",
      "j started 34\n",
      "destiny is DH00\n",
      "pallets left 432.0\n",
      "origin is BH01\n",
      "j started 35\n",
      "destiny is DH00\n",
      "pallets left 432.0\n",
      "origin is BH01\n",
      "j started 36\n",
      "destiny is DH00\n",
      "pallets left 432.0\n",
      "origin is BH01\n",
      "j started 37\n",
      "destiny is DH00\n",
      "pallets left 432.0\n",
      "origin is BH01\n",
      "j started 38\n",
      "destiny is DH00\n",
      "pallets left 432.0\n",
      "origin is BH01\n",
      "j started 39\n",
      "destiny is DH00\n",
      "pallets left 432.0\n",
      "origin is BH01\n",
      "j started 40\n",
      "destiny is DH00\n",
      "pallets left 432.0\n",
      "origin is BH01\n",
      "j started 41\n",
      "destiny is DH00\n",
      "pallets left 432.0\n",
      "origin is BH01\n",
      "j started 42\n",
      "destiny is DH00\n",
      "pallets left 432.0\n",
      "origin is BH01\n",
      "j started 43\n",
      "destiny is DH00\n",
      "pallets left 432.0\n",
      "origin is BH01\n",
      "j started 44\n",
      "destiny is DH00\n",
      "pallets left 432.0\n",
      "origin is BH01\n",
      "j started 45\n",
      "destiny is DH00\n",
      "pallets left 432.0\n",
      "reach_at_destination_date_time 2023-09-14 04:00:00\n",
      "Max_reach_date_time_at_destiny_p 2023-09-14 23:00:01\n",
      "truck_sent_dest True\n",
      "can_send_in_own_sider False\n",
      "can_send_in_rented_sider False\n",
      "(43, 3)\n",
      "   codigo  DH00  kg_weight_per_pallet\n",
      "0  -13908   0.0           1010.602976\n",
      "1  -13910   2.0           1010.602976\n",
      "0 432.0\n",
      "1 404.0\n",
      "2 376.0\n",
      "3 348.0\n",
      "4 320.0\n",
      "5 292.0\n",
      "6 264.0\n",
      "7 236.0\n",
      "8 208.0\n",
      "9 180.0\n",
      "10 152.0\n",
      "11 124.0\n",
      "12 96.0\n",
      "13 68.0\n",
      "14 40.0\n",
      "1\n",
      "SH01 45\n",
      "origin is BH01\n",
      "j started 46\n",
      "destiny is DH00\n",
      "pallets left 404.0\n",
      "origin is BH01\n",
      "j started 47\n",
      "destiny is DH00\n",
      "pallets left 404.0\n",
      "origin is BH01\n",
      "j started 48\n",
      "destiny is DH00\n",
      "pallets left 404.0\n",
      "origin is BH01\n",
      "j started 49\n",
      "destiny is DH00\n",
      "pallets left 404.0\n",
      "origin is BH01\n",
      "j started 50\n",
      "destiny is DH00\n",
      "pallets left 404.0\n",
      "origin is BH01\n",
      "j started 51\n",
      "destiny is DH00\n",
      "pallets left 404.0\n",
      "origin is BH01\n",
      "j started 52\n",
      "destiny is DH00\n",
      "pallets left 404.0\n",
      "origin is BH01\n",
      "j started 53\n",
      "destiny is DH00\n",
      "pallets left 404.0\n",
      "origin is BH01\n",
      "j started 54\n",
      "destiny is DH00\n",
      "pallets left 404.0\n",
      "reach_at_destination_date_time 2023-09-14 05:00:00\n",
      "Max_reach_date_time_at_destiny_p 2023-09-14 23:00:01\n",
      "truck_sent_dest True\n",
      "can_send_in_own_sider False\n",
      "can_send_in_rented_sider False\n",
      "(43, 3)\n",
      "   codigo  DH00  kg_weight_per_pallet\n",
      "0  -13908   0.0           1010.602976\n",
      "1  -13910   2.0           1010.602976\n",
      "0 404.0\n",
      "1 380.0\n",
      "2 356.0\n",
      "3 332.0\n",
      "4 308.0\n",
      "5 284.0\n",
      "6 260.0\n",
      "7 236.0\n",
      "8 212.0\n",
      "9 188.0\n",
      "10 164.0\n",
      "11 140.0\n",
      "12 116.0\n",
      "13 92.0\n",
      "14 68.0\n",
      "15 44.0\n",
      "3\n",
      "SH01 54\n",
      "origin is BH01\n",
      "j started 55\n",
      "destiny is DH00\n",
      "pallets left 380.0\n",
      "origin is BH01\n",
      "j started 56\n",
      "destiny is DH00\n",
      "pallets left 380.0\n",
      "reach_at_destination_date_time 2023-09-14 05:00:00\n",
      "Max_reach_date_time_at_destiny_p 2023-09-14 23:00:01\n",
      "truck_sent_dest True\n",
      "can_send_in_own_sider False\n",
      "can_send_in_rented_sider False\n",
      "(43, 3)\n",
      "   codigo  DH00  kg_weight_per_pallet\n",
      "0  -13908   0.0           1010.602976\n",
      "1  -13910   2.0           1010.602976\n",
      "0 380.0\n",
      "1 350.0\n",
      "2 320.0\n",
      "3 290.0\n",
      "4 260.0\n",
      "5 230.0\n",
      "6 200.0\n",
      "7 170.0\n",
      "8 140.0\n",
      "9 110.0\n",
      "10 80.0\n",
      "11 50.0\n",
      "2\n",
      "SH01 56\n",
      "origin is BH01\n",
      "j started 57\n",
      "destiny is DH00\n",
      "pallets left 350.0\n",
      "reach_at_destination_date_time 2023-09-14 05:00:00\n",
      "Max_reach_date_time_at_destiny_p 2023-09-14 23:00:01\n",
      "truck_sent_dest True\n",
      "can_send_in_own_sider False\n",
      "can_send_in_rented_sider False\n",
      "(43, 3)\n",
      "   codigo  DH00  kg_weight_per_pallet\n",
      "0  -13908   0.0           1010.602976\n",
      "1  -13910   0.0           1010.602976\n",
      "0 350.0\n",
      "1 322.0\n",
      "2 294.0\n",
      "3 266.0\n",
      "4 238.0\n",
      "5 210.0\n",
      "6 182.0\n",
      "7 154.0\n",
      "8 126.0\n",
      "9 98.0\n",
      "10 70.0\n",
      "11 42.0\n",
      "1\n",
      "SH01 57\n",
      "origin is BH01\n",
      "j started 58\n",
      "destiny is DH00\n",
      "pallets left 322.0\n",
      "origin is BH01\n",
      "j started 59\n",
      "destiny is DH00\n",
      "pallets left 322.0\n",
      "reach_at_destination_date_time 2023-09-14 06:00:00\n",
      "Max_reach_date_time_at_destiny_p 2023-09-14 23:00:01\n",
      "truck_sent_dest True\n",
      "can_send_in_own_sider False\n",
      "can_send_in_rented_sider False\n",
      "(43, 3)\n",
      "   codigo  DH00  kg_weight_per_pallet\n",
      "0  -13908   0.0           1010.602976\n",
      "1  -13910   0.0           1010.602976\n",
      "0 322.0\n",
      "1 292.0\n",
      "2 262.0\n",
      "3 232.0\n",
      "4 202.0\n",
      "5 172.0\n",
      "6 142.0\n",
      "7 112.0\n",
      "8 82.0\n",
      "9 52.0\n",
      "3\n",
      "SH01 59\n",
      "origin is BH01\n",
      "j started 60\n",
      "destiny is DH00\n",
      "pallets left 292.0\n",
      "origin is BH01\n",
      "j started 61\n",
      "destiny is DH00\n",
      "pallets left 292.0\n",
      "origin is BH01\n",
      "j started 62\n",
      "destiny is DH00\n",
      "pallets left 292.0\n",
      "origin is BH01\n",
      "j started 63\n",
      "destiny is DH00\n",
      "pallets left 292.0\n",
      "origin is BH01\n",
      "j started 64\n",
      "destiny is DH00\n",
      "pallets left 292.0\n",
      "origin is BH01\n",
      "j started 65\n",
      "destiny is DH00\n",
      "pallets left 292.0\n",
      "origin is BH01\n",
      "j started 66\n",
      "destiny is DH00\n",
      "pallets left 292.0\n",
      "origin is BH01\n",
      "j started 67\n",
      "destiny is DH00\n",
      "pallets left 292.0\n",
      "origin is BH01\n",
      "j started 68\n",
      "destiny is DH00\n",
      "pallets left 292.0\n",
      "origin is BH01\n",
      "j started 69\n",
      "destiny is DH00\n",
      "pallets left 292.0\n",
      "origin is BH01\n",
      "j started 70\n",
      "destiny is DH00\n",
      "pallets left 292.0\n",
      "origin is BH01\n",
      "j started 71\n",
      "destiny is DH00\n",
      "pallets left 292.0\n",
      "origin is BH01\n",
      "j started 72\n",
      "destiny is DH00\n",
      "pallets left 292.0\n",
      "origin is BH01\n",
      "j started 73\n",
      "destiny is DH00\n",
      "pallets left 292.0\n",
      "origin is BH01\n",
      "j started 74\n",
      "destiny is DH00\n",
      "pallets left 292.0\n",
      "origin is BH01\n",
      "j started 75\n",
      "destiny is DH00\n",
      "pallets left 292.0\n",
      "origin is BH01\n",
      "j started 76\n",
      "destiny is DH00\n",
      "pallets left 292.0\n",
      "reach_at_destination_date_time 2023-09-14 06:00:00\n",
      "Max_reach_date_time_at_destiny_p 2023-09-14 23:00:01\n",
      "truck_sent_dest True\n",
      "can_send_in_own_sider False\n",
      "can_send_in_rented_sider False\n",
      "(43, 3)\n",
      "   codigo  DH00  kg_weight_per_pallet\n",
      "0  -13908   0.0           1010.602976\n",
      "1  -13910   0.0           1010.602976\n",
      "0 292.0\n",
      "1 264.0\n"
     ]
    },
    {
     "name": "stdout",
     "output_type": "stream",
     "text": [
      "2 236.0\n",
      "3 208.0\n",
      "4 180.0\n",
      "5 152.0\n",
      "6 124.0\n",
      "7 96.0\n"
     ]
    },
    {
     "ename": "KeyboardInterrupt",
     "evalue": "",
     "output_type": "error",
     "traceback": [
      "\u001b[1;31m---------------------------------------------------------------------------\u001b[0m",
      "\u001b[1;31mKeyboardInterrupt\u001b[0m                         Traceback (most recent call last)",
      "Cell \u001b[1;32mIn [129], line 146\u001b[0m\n\u001b[0;32m    144\u001b[0m \u001b[38;5;28mprint\u001b[39m(vm\u001b[38;5;241m.\u001b[39mhead(\u001b[38;5;241m2\u001b[39m))\n\u001b[0;32m    145\u001b[0m \u001b[38;5;28;01mfrom\u001b[39;00m \u001b[38;5;21;01mpulp\u001b[39;00m \u001b[38;5;28;01mimport\u001b[39;00m LpVariable, LpProblem, LpMinimize, lpSum, LpStatus ,LpMaximize\n\u001b[1;32m--> 146\u001b[0m df1\u001b[38;5;241m=\u001b[39m\u001b[43mgenerate_recommendation_v2\u001b[49m\u001b[43m(\u001b[49m\u001b[43mvm\u001b[49m\u001b[43m,\u001b[49m\u001b[43mdest\u001b[49m\u001b[43m,\u001b[49m\u001b[43mmax_pallets\u001b[49m\u001b[43m,\u001b[49m\u001b[43mmax_weight\u001b[49m\u001b[43m)\u001b[49m\n\u001b[0;32m    147\u001b[0m df1\u001b[38;5;241m=\u001b[39mdf1\u001b[38;5;241m.\u001b[39msort_values(by \u001b[38;5;241m=\u001b[39m\u001b[38;5;124m\"\u001b[39m\u001b[38;5;124m_\u001b[39m\u001b[38;5;124m\"\u001b[39m\u001b[38;5;241m+\u001b[39m\u001b[38;5;28mstr\u001b[39m(sku),ascending \u001b[38;5;241m=\u001b[39m \u001b[38;5;28;01mFalse\u001b[39;00m)\u001b[38;5;241m.\u001b[39mhead(n\u001b[38;5;241m=\u001b[39m\u001b[38;5;241m1\u001b[39m)\n\u001b[0;32m    148\u001b[0m result_df\u001b[38;5;241m=\u001b[39mdf1\u001b[38;5;241m.\u001b[39mhead(\u001b[38;5;241m1\u001b[39m)\n",
      "Cell \u001b[1;32mIn [115], line 34\u001b[0m, in \u001b[0;36mgenerate_recommendation_v2\u001b[1;34m(vm, dest, max_pallets, max_weight)\u001b[0m\n\u001b[0;32m     30\u001b[0m     problem \u001b[38;5;241m+\u001b[39m\u001b[38;5;241m=\u001b[39mx[codigo[\u001b[38;5;124m\"\u001b[39m\u001b[38;5;124mcodigo\u001b[39m\u001b[38;5;124m\"\u001b[39m]]\u001b[38;5;241m<\u001b[39m\u001b[38;5;241m=\u001b[39mcodigo[\u001b[38;5;124m'\u001b[39m\u001b[38;5;124mTotal_pallets\u001b[39m\u001b[38;5;124m'\u001b[39m]\n\u001b[0;32m     33\u001b[0m \u001b[38;5;66;03m#problem.solve(PULP_CBC_CMD(msg=0))\u001b[39;00m\n\u001b[1;32m---> 34\u001b[0m \u001b[43mproblem\u001b[49m\u001b[38;5;241;43m.\u001b[39;49m\u001b[43msolve\u001b[49m\u001b[43m(\u001b[49m\u001b[43m)\u001b[49m\n\u001b[0;32m     35\u001b[0m \u001b[38;5;28;01mimport\u001b[39;00m \u001b[38;5;21;01mnumpy\u001b[39;00m \u001b[38;5;28;01mas\u001b[39;00m \u001b[38;5;21;01mnp\u001b[39;00m\n\u001b[0;32m     36\u001b[0m \u001b[38;5;66;03m#print(problem)\u001b[39;00m\n",
      "File \u001b[1;32m~\\.conda\\envs\\inventory\\lib\\site-packages\\pulp\\pulp.py:1913\u001b[0m, in \u001b[0;36mLpProblem.solve\u001b[1;34m(self, solver, **kwargs)\u001b[0m\n\u001b[0;32m   1911\u001b[0m \u001b[38;5;66;03m# time it\u001b[39;00m\n\u001b[0;32m   1912\u001b[0m \u001b[38;5;28mself\u001b[39m\u001b[38;5;241m.\u001b[39mstartClock()\n\u001b[1;32m-> 1913\u001b[0m status \u001b[38;5;241m=\u001b[39m solver\u001b[38;5;241m.\u001b[39mactualSolve(\u001b[38;5;28mself\u001b[39m, \u001b[38;5;241m*\u001b[39m\u001b[38;5;241m*\u001b[39mkwargs)\n\u001b[0;32m   1914\u001b[0m \u001b[38;5;28mself\u001b[39m\u001b[38;5;241m.\u001b[39mstopClock()\n\u001b[0;32m   1915\u001b[0m \u001b[38;5;28mself\u001b[39m\u001b[38;5;241m.\u001b[39mrestoreObjective(wasNone, dummyVar)\n",
      "File \u001b[1;32m~\\.conda\\envs\\inventory\\lib\\site-packages\\pulp\\apis\\coin_api.py:137\u001b[0m, in \u001b[0;36mCOIN_CMD.actualSolve\u001b[1;34m(self, lp, **kwargs)\u001b[0m\n\u001b[0;32m    135\u001b[0m \u001b[38;5;28;01mdef\u001b[39;00m \u001b[38;5;21mactualSolve\u001b[39m(\u001b[38;5;28mself\u001b[39m, lp, \u001b[38;5;241m*\u001b[39m\u001b[38;5;241m*\u001b[39mkwargs):\n\u001b[0;32m    136\u001b[0m     \u001b[38;5;124;03m\"\"\"Solve a well formulated lp problem\"\"\"\u001b[39;00m\n\u001b[1;32m--> 137\u001b[0m     \u001b[38;5;28;01mreturn\u001b[39;00m \u001b[38;5;28mself\u001b[39m\u001b[38;5;241m.\u001b[39msolve_CBC(lp, \u001b[38;5;241m*\u001b[39m\u001b[38;5;241m*\u001b[39mkwargs)\n",
      "File \u001b[1;32m~\\.conda\\envs\\inventory\\lib\\site-packages\\pulp\\apis\\coin_api.py:195\u001b[0m, in \u001b[0;36mCOIN_CMD.solve_CBC\u001b[1;34m(self, lp, use_mps)\u001b[0m\n\u001b[0;32m    193\u001b[0m args\u001b[38;5;241m.\u001b[39mextend(cmds[\u001b[38;5;241m1\u001b[39m:]\u001b[38;5;241m.\u001b[39msplit())\n\u001b[0;32m    194\u001b[0m cbc \u001b[38;5;241m=\u001b[39m subprocess\u001b[38;5;241m.\u001b[39mPopen(args, stdout\u001b[38;5;241m=\u001b[39mpipe, stderr\u001b[38;5;241m=\u001b[39mpipe, stdin\u001b[38;5;241m=\u001b[39mdevnull)\n\u001b[1;32m--> 195\u001b[0m \u001b[38;5;28;01mif\u001b[39;00m \u001b[43mcbc\u001b[49m\u001b[38;5;241;43m.\u001b[39;49m\u001b[43mwait\u001b[49m\u001b[43m(\u001b[49m\u001b[43m)\u001b[49m \u001b[38;5;241m!=\u001b[39m \u001b[38;5;241m0\u001b[39m:\n\u001b[0;32m    196\u001b[0m     \u001b[38;5;28;01mif\u001b[39;00m pipe:\n\u001b[0;32m    197\u001b[0m         pipe\u001b[38;5;241m.\u001b[39mclose()\n",
      "File \u001b[1;32m~\\.conda\\envs\\inventory\\lib\\subprocess.py:1204\u001b[0m, in \u001b[0;36mPopen.wait\u001b[1;34m(self, timeout)\u001b[0m\n\u001b[0;32m   1202\u001b[0m     endtime \u001b[38;5;241m=\u001b[39m _time() \u001b[38;5;241m+\u001b[39m timeout\n\u001b[0;32m   1203\u001b[0m \u001b[38;5;28;01mtry\u001b[39;00m:\n\u001b[1;32m-> 1204\u001b[0m     \u001b[38;5;28;01mreturn\u001b[39;00m \u001b[38;5;28;43mself\u001b[39;49m\u001b[38;5;241;43m.\u001b[39;49m\u001b[43m_wait\u001b[49m\u001b[43m(\u001b[49m\u001b[43mtimeout\u001b[49m\u001b[38;5;241;43m=\u001b[39;49m\u001b[43mtimeout\u001b[49m\u001b[43m)\u001b[49m\n\u001b[0;32m   1205\u001b[0m \u001b[38;5;28;01mexcept\u001b[39;00m \u001b[38;5;167;01mKeyboardInterrupt\u001b[39;00m:\n\u001b[0;32m   1206\u001b[0m     \u001b[38;5;66;03m# https://bugs.python.org/issue25942\u001b[39;00m\n\u001b[0;32m   1207\u001b[0m     \u001b[38;5;66;03m# The first keyboard interrupt waits briefly for the child to\u001b[39;00m\n\u001b[0;32m   1208\u001b[0m     \u001b[38;5;66;03m# exit under the common assumption that it also received the ^C\u001b[39;00m\n\u001b[0;32m   1209\u001b[0m     \u001b[38;5;66;03m# generated SIGINT and will exit rapidly.\u001b[39;00m\n\u001b[0;32m   1210\u001b[0m     \u001b[38;5;28;01mif\u001b[39;00m timeout \u001b[38;5;129;01mis\u001b[39;00m \u001b[38;5;129;01mnot\u001b[39;00m \u001b[38;5;28;01mNone\u001b[39;00m:\n",
      "File \u001b[1;32m~\\.conda\\envs\\inventory\\lib\\subprocess.py:1485\u001b[0m, in \u001b[0;36mPopen._wait\u001b[1;34m(self, timeout)\u001b[0m\n\u001b[0;32m   1482\u001b[0m     timeout_millis \u001b[38;5;241m=\u001b[39m \u001b[38;5;28mint\u001b[39m(timeout \u001b[38;5;241m*\u001b[39m \u001b[38;5;241m1000\u001b[39m)\n\u001b[0;32m   1483\u001b[0m \u001b[38;5;28;01mif\u001b[39;00m \u001b[38;5;28mself\u001b[39m\u001b[38;5;241m.\u001b[39mreturncode \u001b[38;5;129;01mis\u001b[39;00m \u001b[38;5;28;01mNone\u001b[39;00m:\n\u001b[0;32m   1484\u001b[0m     \u001b[38;5;66;03m# API note: Returns immediately if timeout_millis == 0.\u001b[39;00m\n\u001b[1;32m-> 1485\u001b[0m     result \u001b[38;5;241m=\u001b[39m \u001b[43m_winapi\u001b[49m\u001b[38;5;241;43m.\u001b[39;49m\u001b[43mWaitForSingleObject\u001b[49m\u001b[43m(\u001b[49m\u001b[38;5;28;43mself\u001b[39;49m\u001b[38;5;241;43m.\u001b[39;49m\u001b[43m_handle\u001b[49m\u001b[43m,\u001b[49m\n\u001b[0;32m   1486\u001b[0m \u001b[43m                                         \u001b[49m\u001b[43mtimeout_millis\u001b[49m\u001b[43m)\u001b[49m\n\u001b[0;32m   1487\u001b[0m     \u001b[38;5;28;01mif\u001b[39;00m result \u001b[38;5;241m==\u001b[39m _winapi\u001b[38;5;241m.\u001b[39mWAIT_TIMEOUT:\n\u001b[0;32m   1488\u001b[0m         \u001b[38;5;28;01mraise\u001b[39;00m TimeoutExpired(\u001b[38;5;28mself\u001b[39m\u001b[38;5;241m.\u001b[39margs, timeout)\n",
      "\u001b[1;31mKeyboardInterrupt\u001b[0m: "
     ]
    }
   ],
   "source": [
    "#dist_plan=dist_plan.reset_index(drop=True)\n",
    "current_day_fleet_siders=current_day_fleet_siders.reset_index(drop=True)\n",
    "pallets_max=0\n",
    "weight_max=0\n",
    "weight_max_kg=0\n",
    "final_df=pd.DataFrame()\n",
    "#origin='CND'\n",
    "Day_of_week=day_of_week\n",
    "last_assigned_ficha='NA'\n",
    "iteration=0\n",
    "#Dist_plan1['codigo']=Dist_plan1['codigo'].map('-{}'.format)\n",
    "Filler_sku=Dist_plan1[(Dist_plan1['Prioridad']==1)&(Dist_plan1['Total_pallets']==Dist_plan1[Dist_plan1['Prioridad']==1]['Total_pallets'].max())].reset_index()['codigo'][0]\n",
    "filler_weight=sku_description[sku_description['codigo']==Filler_sku].reset_index()['kg_weight_per_pallet'][0]\n",
    "#commented by Jitendra \n",
    "#Dist_plan1=Dist_plan1.sort_values(['Prioridad','Total_pallets'],ascending=[True,False]).reset_index(drop=True)\n",
    "\n",
    "while Dist_plan1.Total_pallets.sum()>0:\n",
    "    if iteration==2:\n",
    "        break \n",
    "    #restriction \n",
    "    \n",
    "    \n",
    "        \n",
    "    for i in range(Dist_plan1.reset_index(drop=True).shape[0]):\n",
    "        #print(Dist_plan1.loc[i])\n",
    "        origin= Dist_plan1.loc[i,'Origin']\n",
    "        destiny= Dist_plan1.loc[i,'Destination']\n",
    "        sku= Dist_plan1.loc[i,'codigo']\n",
    "        pallets=Dist_plan1.loc[i,'Total_pallets']\n",
    "        #code added by Jitendra \n",
    "        print(\"Current combination\",i,origin,destiny,sku,pallets)\n",
    "        if pallets ==0:\n",
    "            print(\"we have already covered this priority lets try next one \")\n",
    "            continue \n",
    "        print(Dist_plan1[(Dist_plan1['Origin']==origin)&(Dist_plan1['Destination']==destiny)&(Dist_plan1['codigo']==sku)])\n",
    "        #print(Dist_plan1)\n",
    "        \n",
    "        if pallets ==0.0:\n",
    "            #print(\"skipping destination sku Pallets needs to sent for this destination is 0\",destiny,sku,i)\n",
    "            continue \n",
    "\n",
    "        #if OrgPrBefMelt1[origin][destiny].sum()==0:\n",
    "            #print(origin,destiny,\"skipping dest\")\n",
    "        list1= Propia+Hibrid+Terceros\n",
    "        list2 =Hibrid+Terceros\n",
    "        if destiny in propia_dest:\n",
    "            #### Sort in a way so that 1st propia and then hybrid and lastly thrid party fleet comes\n",
    "            current_day_fleet_temp = current_day_fleet_siders[current_day_fleet_siders['Ficha'].isin(Propia)].append(current_day_fleet_siders[current_day_fleet_siders['Ficha'].isin(Hibrid)]).append(current_day_fleet_siders[current_day_fleet_siders['Ficha'].isin(Terceros)]).reset_index().drop(['index'],axis=1)\n",
    "        else:\n",
    "            current_day_fleet_temp = current_day_fleet_siders[current_day_fleet_siders['Ficha'].isin(Hibrid)].append(current_day_fleet_siders[current_day_fleet_siders['Ficha'].isin(Terceros)]).reset_index().drop(['index'],axis=1)\n",
    "\n",
    "        ### Storing rest fleet in another df    \n",
    "        current_day_fleet_siders_rest=current_day_fleet_siders[current_day_fleet_siders['Ficha'].isin(list(set(list(current_day_fleet_siders['Ficha'].unique())).difference(list(current_day_fleet_temp['Ficha'].unique()))))].reset_index().drop(['index'],axis=1)\n",
    "\n",
    "        for j in range(current_day_fleet_temp.shape[0]):\n",
    "            print(\"origin is\",origin)\n",
    "            print(\"j started\",j)\n",
    "            print(\"destiny is\",destiny)\n",
    "            print(\"pallets left\",OrgPrBefMelt1[origin][destiny].sum())\n",
    "            restr=current_day_fleet_temp.loc[j]['Ficha_Restriction_destiny']\n",
    "            Type =current_day_fleet_temp.loc[j]['Tipo de Vehículo']\n",
    "            if \"-I\" in restr:\n",
    "                restr_1 =restr[:-2]\n",
    "                dest1 =restr\n",
    "            else:\n",
    "                restr_1=restr\n",
    "                dest1 =destiny\n",
    "            #origin = org[:4]\n",
    "            #destiny1 =dest1\n",
    "            if (restr_1!='No restriction') and (destiny != restr_1):\n",
    "                continue   \n",
    "            if OrgPrBefMelt1[origin][destiny].sum()<1:\n",
    "                #print(\"Skipping this sider as sum of pallets found zero or less than 1\",dest)\n",
    "                break\n",
    "            own_rented='company_owned'\n",
    "            update_origin_attention_flag=False\n",
    "            update_dest_attention_flag=False\n",
    "            update_dist_plan=False\n",
    "            update_sider=False\n",
    "            filler_sku_added=False\n",
    "            filler_added=False\n",
    "            update_sider_start_time=False \n",
    "            can_send_in_own_sider=False \n",
    "            can_send_in_rented_sider=False\n",
    "#             print(\"j is \",j)\n",
    "#             print(current_day_fleet_temp.shape)\n",
    "            ficha=current_day_fleet_temp.loc[j,'Ficha']\n",
    "            fleet_start_date_time=current_day_fleet_temp.loc[j,'Fleet_start_date_time']\n",
    "            fleet_start_date_time_org=current_day_fleet_temp.loc[j,'Fleet_start_date_time_org']\n",
    "            fleet_start_time=str(fleet_start_date_time.hour).zfill(2)+\":00:00\"\n",
    "            Max_reach_time_at_destiny=str(current_day_fleet_temp.loc[j,'Max_reach_time_at_destiny'].time())[0:5]+\":\"+\"00\"\n",
    "            Max_reach_date_time_at_destiny=current_day_fleet_temp.loc[j,'Max_reach_time_at_destiny']\n",
    "\n",
    "            #print(\"currently_checking_for_ficha\", ficha)\n",
    "            if (fleet_start_date_time>Max_reach_date_time_at_destiny):\n",
    "                #print(\"This sider can not go  as start time at origin is > maximum time it should start from origin   \",fleet_start_date_time,Max_reach_date_time_at_destiny)\n",
    "                continue\n",
    "\n",
    "            #print(\"*****&&&\",origin,fleet_start_time,Max_reach_time_at_destiny)\n",
    "            #attention_start_time_obtained,truck_sent_origin=check_origin_attention_v1(origin_attention_df,origin,fleet_start_time,Max_reach_time_at_destiny,12,\"Weekday\") \n",
    "            attention_start_time_obtained,truck_sent_origin=check_origin_attention_v1\\\n",
    "            (origin_attention_df,origin,fleet_start_time,Max_reach_time_at_destiny,day_of_week,\\\n",
    "            attention_list_allowed,attention_dict_allowed) \n",
    "            if truck_sent_origin==False:\n",
    "                #print(\"This sider can not go  as we are not getting origin attention lets look for other sider  \",ficha)\n",
    "                continue\n",
    "            #print(\"can start\",attention_start_time_obtained)\n",
    "\n",
    "            #check destination attention \n",
    "            truck_start_date_time_obtained,truck_reach_dest_date_time_obtained,truck_reach_back_date_time_obtained,\\\n",
    "            attention_end_obtained,truck_sent_dest,wait_hour,one_way_time_in_min,\\\n",
    "            two_way_time_in_min,unloading_time_at_dest,duration_of_trip_hr=check_destination_attention_v1(destiny_attention_df,distance_and_time,origin,dest1,attention_start_time_obtained,Max_reach_date_time_at_destiny,fecha_str,day_of_week)\n",
    "\n",
    "            if truck_sent_dest==False:\n",
    "                #print(\"This sider can not go to destination even after waiting  \",ficha)\n",
    "                continue\n",
    "            print(\"truck_sent_dest\",truck_sent_dest)\n",
    "            print(\"can_send_in_own_sider\",can_send_in_own_sider)\n",
    "            print(\"can_send_in_rented_sider\",can_send_in_rented_sider)\n",
    "            if truck_sent_dest==True:\n",
    "                #print(\"company owned sider will be used \")\n",
    "                can_send_in_own_sider=True\n",
    "                update_origin_attention_flag=True\n",
    "                update_dest_attention_flag=True\n",
    "                update_sider_start_time=True\n",
    "\n",
    "            if can_send_in_own_sider==True:\n",
    "                pallets_max=current_day_fleet_temp.loc[j,'Capacidad Pallets']\n",
    "                weight_max=current_day_fleet_temp.loc[j,'Capacidad Ton']\n",
    "                weight_max_kg=weight_max*1000\n",
    "\n",
    "            max_pallets=pallets_max\n",
    "            max_weight=weight_max_kg\n",
    "#             print(\"can_send_in_own_sider\",can_send_in_own_sider)\n",
    "#             print(\"can_send_in_rented_sider\",can_send_in_rented_sider)\n",
    "#             print(\"MAximum\",max_pallets, max_weight)\n",
    "\n",
    "            dest=destiny\n",
    "\n",
    "            OrgPrBefMelt1[origin]['codigo']=OrgPrBefMelt1[origin]['codigo'].map('-{}'.format)\n",
    "            vm = OrgPrBefMelt1[origin][['codigo',dest,'kg_weight_per_pallet']].copy()\n",
    "            print(vm.shape)\n",
    "            vm=vm.reset_index(drop=True)\n",
    "            print(vm.head(2))\n",
    "            from pulp import LpVariable, LpProblem, LpMinimize, lpSum, LpStatus ,LpMaximize\n",
    "            df1=generate_recommendation_v2(vm,dest,max_pallets,max_weight)\n",
    "            df1=df1.sort_values(by =\"_\"+str(sku),ascending = False).head(n=1)\n",
    "            result_df=df1.head(1)\n",
    "            result_df['origin']=origin\n",
    "            result_df['Remolque']=ficha\n",
    "            result_df['Type']=Type\n",
    "            result_df['Rest-Individual']=dest1\n",
    "            result_df['Rest-Individual'].fillna('no rest')\n",
    "            #print(result_df)\n",
    "\n",
    "            Dist_plan1=update_priority(result_df,Dist_plan1)\n",
    "            Dist_plan1=Dist_plan1.reset_index().drop(['index'],axis=1)\n",
    "#             Dist_plan1=Dist_plan1.sort_values(['Prioridad'],ascending=[True])\n",
    "            OrgPr1={}\n",
    "            for i in list(Dist_plan1['Origin'].unique()):\n",
    "                #print(i)\n",
    "                temp = Dist_plan1[Dist_plan1['Origin']==i]\n",
    "                OrgPr1[i]=temp\n",
    "\n",
    "            OrgPrBefMelt1={}\n",
    "            for i in list(OrgPr1.keys()):\n",
    "                #print(i)\n",
    "                temp1=OrgPr1[i].pivot(index='codigo', columns='Destination', values='Total_pallets').fillna(0).reset_index().rename_axis(None, axis=1)\n",
    "                OrgPrBefMelt1[i]=temp1\n",
    "                #### Ensuring all datasets(all or-dest-priority comb) have the exhaustive list of destinities-total 15.\n",
    "                diff_col=list(set(All_destiny).difference(list(OrgPrBefMelt1[i].columns)))\n",
    "                for l in diff_col:\n",
    "                    OrgPrBefMelt1[i][l]=0\n",
    "\n",
    "            # Ensuring all datasets(all or-dest-priority comb) have the exhaustive list of SKUs.\n",
    "            for i in OrgPrBefMelt1.keys():\n",
    "                OrgPrBefMelt1[i]=OrgPrBefMelt1[i].append(pd.DataFrame(list(set(All_sku).difference(list(OrgPrBefMelt1[i]['codigo'].unique()))), columns=['codigo'])).fillna(0).reset_index().drop(['index'],axis=1)\n",
    "                OrgPrBefMelt1[i]=OrgPrBefMelt1[i].merge(sku_description[['codigo','kg_weight_per_pallet']])\n",
    "\n",
    "            total_pallets_sent=result_df[[x for x in result_df.columns  if x.startswith(\"_\")]].sum(axis=1)\n",
    "\n",
    "            result_df[\"total_pallets_sent\"]=total_pallets_sent\n",
    "            #result_df[\"own_rented\"]=own_rented\n",
    "            result_df[\"Original_sider_start_date_time\"]=fleet_start_date_time_org\n",
    "            result_df[\"Origin_attention_obtained_sider\"]=truck_start_date_time_obtained\n",
    "            result_df[\"one_way_time_in_min\"]=one_way_time_in_min\n",
    "            #result_df[\"two_way_time_in_min\"]=two_way_time_in_min\n",
    "            result_df[\"unloading_time_at_dest\"]=unloading_time_at_dest\n",
    "\n",
    "            result_df[\"sider_reach_dest_date_time_obtained\"]=truck_reach_dest_date_time_obtained\n",
    "            result_df[\"Sider_wait_time_at_destiny\"]=wait_hour\n",
    "            result_df[\"sider_reach_back_date_time_obtained\"]=truck_reach_back_date_time_obtained\n",
    "            result_df[\"total_trip_time_hr\"]=duration_of_trip_hr\n",
    "\n",
    "            pallets_required_filler,filler_added= check_update_filler_sku_V2(max_pallets,max_weight,result_df,filler_added,Filler_sku,filler_weight)\n",
    "\n",
    "            result_df[\"filler_added\"]=filler_added\n",
    "            result_df[\"filler_added_pallets\"]=pallets_required_filler\n",
    "            result_df[\"priority\"]=\"Priority\"\n",
    "            #result_df[\"ficha_sider\"]=ficha\n",
    "\n",
    "            #UPDATE ORIGIN ATTENTION\n",
    "            if update_origin_attention_flag==True:\n",
    "\n",
    "                #print(origin,attention_start_time_obtained,Day_of_week)\n",
    "                update_origin_attention(origin_attention_df,origin,attention_start_time_obtained,Day_of_week)\n",
    "\n",
    "            #UPDATE DESTINATION ATTENTION\n",
    "            if update_dest_attention_flag==True:\n",
    "                update_destination_attention(destiny_attention_df,destiny,attention_end_obtained,Day_of_week)\n",
    "\n",
    "            #UPDATE SIDER START DATE TIME AS ORIGIN ATTENTION OBTAINED \n",
    "            if update_sider_start_time==True :\n",
    "                current_day_fleet_temp.loc[current_day_fleet_temp.Ficha==ficha,'Fleet_start_date_time']=truck_reach_back_date_time_obtained\n",
    "\n",
    "            final_df=pd.concat([final_df,result_df])\n",
    "            last_assigned_ficha=ficha\n",
    "\n",
    "            current_day_fleet_siders=current_day_fleet_temp.append(current_day_fleet_siders_rest).reset_index().drop(['index'],axis=1)\n",
    "            current_day_fleet_siders=rearrange_sider(current_day_fleet_siders,last_assigned_ficha)\n",
    "            #code added by Jitendra \n",
    "            #print(\"$$$$$\",Dist_plan1.loc[i,'Total_pallets'] )\n",
    "            print(i,j)\n",
    "    iteration=iteration+1\n"
   ]
  },
  {
   "cell_type": "code",
   "execution_count": 128,
   "id": "9d099784",
   "metadata": {
    "ExecuteTime": {
     "end_time": "2023-10-23T14:23:36.564027Z",
     "start_time": "2023-10-23T14:23:36.547031Z"
    }
   },
   "outputs": [
    {
     "data": {
      "text/plain": [
       "84.0"
      ]
     },
     "execution_count": 128,
     "metadata": {},
     "output_type": "execute_result"
    }
   ],
   "source": [
    "Dist_plan1.loc[0,'Total_pallets'] "
   ]
  },
  {
   "cell_type": "code",
   "execution_count": 190,
   "id": "f3d2f280",
   "metadata": {
    "ExecuteTime": {
     "end_time": "2023-10-23T13:39:22.985443Z",
     "start_time": "2023-10-23T13:39:22.955630Z"
    }
   },
   "outputs": [
    {
     "data": {
      "text/html": [
       "<div>\n",
       "<style scoped>\n",
       "    .dataframe tbody tr th:only-of-type {\n",
       "        vertical-align: middle;\n",
       "    }\n",
       "\n",
       "    .dataframe tbody tr th {\n",
       "        vertical-align: top;\n",
       "    }\n",
       "\n",
       "    .dataframe thead th {\n",
       "        text-align: right;\n",
       "    }\n",
       "</style>\n",
       "<table border=\"1\" class=\"dataframe\">\n",
       "  <thead>\n",
       "    <tr style=\"text-align: right;\">\n",
       "      <th></th>\n",
       "      <th>Origin</th>\n",
       "      <th>Destination</th>\n",
       "      <th>codigo</th>\n",
       "      <th>Prioridad</th>\n",
       "      <th>Total_boxes</th>\n",
       "      <th>kg_weight_per_pallet</th>\n",
       "      <th>package_per_pallet</th>\n",
       "      <th>Total_pallets</th>\n",
       "      <th>org-priority</th>\n",
       "    </tr>\n",
       "  </thead>\n",
       "  <tbody>\n",
       "    <tr>\n",
       "      <th>152</th>\n",
       "      <td>SH01</td>\n",
       "      <td>DH13</td>\n",
       "      <td>14623</td>\n",
       "      <td>1</td>\n",
       "      <td>1392</td>\n",
       "      <td>953.994694</td>\n",
       "      <td>48.0</td>\n",
       "      <td>29.0</td>\n",
       "      <td>SH01-1</td>\n",
       "    </tr>\n",
       "  </tbody>\n",
       "</table>\n",
       "</div>"
      ],
      "text/plain": [
       "    Origin Destination codigo  Prioridad  Total_boxes  kg_weight_per_pallet  \\\n",
       "152   SH01        DH13  14623          1         1392            953.994694   \n",
       "\n",
       "     package_per_pallet  Total_pallets org-priority  \n",
       "152                48.0           29.0       SH01-1  "
      ]
     },
     "execution_count": 190,
     "metadata": {},
     "output_type": "execute_result"
    }
   ],
   "source": [
    "Dist_plan2[(Dist_plan2['Origin']=='SH01')&(Dist_plan2['Destination']=='DH13')&(Dist_plan2['codigo']==14623)]"
   ]
  },
  {
   "cell_type": "code",
   "execution_count": 191,
   "id": "75de3e30",
   "metadata": {
    "ExecuteTime": {
     "end_time": "2023-10-23T13:39:23.205452Z",
     "start_time": "2023-10-23T13:39:22.991430Z"
    }
   },
   "outputs": [],
   "source": [
    "Dist_plan2.to_excel('Data/Dist_plan1.xlsx')"
   ]
  },
  {
   "cell_type": "code",
   "execution_count": 192,
   "id": "c30ff58a",
   "metadata": {
    "ExecuteTime": {
     "end_time": "2023-10-23T13:39:23.219352Z",
     "start_time": "2023-10-23T13:39:23.209647Z"
    }
   },
   "outputs": [
    {
     "data": {
      "text/plain": [
       "1    17\n",
       "3    14\n",
       "2     2\n",
       "Name: Prioridad, dtype: int64"
      ]
     },
     "execution_count": 192,
     "metadata": {},
     "output_type": "execute_result"
    }
   ],
   "source": [
    "Dist_plan1['Prioridad'][Dist_plan1['Total_pallets']>0].value_counts()"
   ]
  },
  {
   "cell_type": "code",
   "execution_count": 193,
   "id": "63131dcb",
   "metadata": {
    "ExecuteTime": {
     "end_time": "2023-10-23T13:39:23.282349Z",
     "start_time": "2023-10-23T13:39:23.223051Z"
    }
   },
   "outputs": [
    {
     "data": {
      "text/plain": [
       "168.0"
      ]
     },
     "execution_count": 193,
     "metadata": {},
     "output_type": "execute_result"
    }
   ],
   "source": [
    "Dist_plan2[(Dist_plan2['Origin']=='SH01')&(Dist_plan2['Destination']=='DH06')]['Total_pallets'].sum()"
   ]
  },
  {
   "cell_type": "code",
   "execution_count": 194,
   "id": "73f3c701",
   "metadata": {
    "ExecuteTime": {
     "end_time": "2023-10-23T13:39:23.297871Z",
     "start_time": "2023-10-23T13:39:23.288313Z"
    }
   },
   "outputs": [],
   "source": [
    "#Dist_plan1[Dist_plan1['Total_pallets']>0]"
   ]
  },
  {
   "cell_type": "code",
   "execution_count": 195,
   "id": "bdd3eb1a",
   "metadata": {
    "ExecuteTime": {
     "end_time": "2023-10-23T13:39:23.987481Z",
     "start_time": "2023-10-23T13:39:23.301693Z"
    }
   },
   "outputs": [],
   "source": [
    "final_df.to_excel('Data/Result_Honduras_14thSep_final_V2.xlsx')"
   ]
  },
  {
   "cell_type": "code",
   "execution_count": null,
   "id": "31cadc9e",
   "metadata": {},
   "outputs": [],
   "source": []
  },
  {
   "cell_type": "code",
   "execution_count": null,
   "id": "8ae60cb8",
   "metadata": {},
   "outputs": [],
   "source": []
  },
  {
   "cell_type": "code",
   "execution_count": null,
   "id": "e0696e07",
   "metadata": {},
   "outputs": [],
   "source": []
  },
  {
   "cell_type": "code",
   "execution_count": 89,
   "id": "c31a8d58",
   "metadata": {},
   "outputs": [],
   "source": [
    "# import datetime\n",
    "# from datetime import timedelta\n",
    "# fecha_next_str=fecha_str\n",
    "# truck_start_date_time_obtained=pd.to_datetime(fecha_next_str+\" \"+attention_start_time_obtained, format='%d-%m-%Y %H:%M:%S')\n",
    "# Max_reach_date_time_at_destiny_p=Max_reach_date_time_at_destiny\n",
    "# #print(\"inside check_destination_attention_v1\")\n",
    "# #print(\"max reach date time to reach at desyiny \",Max_reach_date_time_at_destiny_p)\n",
    "# #     if plan=='10:30 PM':\n",
    "# # #         if (attention_start_time_obtained==\"22:00:00\" or attention_start_time_obtained==\"23:00:00\"):\n",
    "# #         truck_start_date_time_obtained=pd.to_datetime(fecha_str+attention_start_time_obtained, format='%Y-%m-%d%H:%M:%S')\n",
    "# #     else:\n",
    "# #         truck_start_date_time_obtained=pd.to_datetime(fecha_next_str+attention_start_time_obtained, format='%Y-%m-%d%H:%M:%S')\n",
    "# if \"-I\" in destiny:\n",
    "#     destiny1 =destiny[:-2]\n",
    "# else:\n",
    "#     destiny1 =destiny\n",
    "# wait_hour=0    \n",
    "# truck_reach_dest_date_time_obtained='NA'\n",
    "# truck_reach_back_date_time_obtained='NA'\n",
    "# #filter destiny attention hour table     \n",
    "# destiny_attention_df_temp=destiny_attention_df[[\"COD\",\"Attention_Start\",\"Attention_End\",day_of_week+\"_attention\"]]\n",
    "# destiny_attention_df_temp=destiny_attention_df_temp[destiny_attention_df_temp.COD==destiny1]\n",
    "# destiny_attention_df_temp['Attention_Start']=destiny_attention_df_temp['Attention_Start'].astype(str)\n",
    "\n",
    "# #filter distance and time and find time to reach destiny \n",
    "# transfer_info =  distance_and_time[(distance_and_time['Origin_Code'] == origin) & (distance_and_time['Destiny_Code'] == destiny)]\n",
    "# #print(transfer_info)\n",
    "# one_way_time_in_min = int(transfer_info['time_one_way_min'].values[0])\n",
    "# two_way_time_in_min = int(transfer_info['time_two_way_min'].values[0])*2\n",
    "# loading_time_origin = int(transfer_info['Loading_time_origin_min'].values[0])\n",
    "# unloading_time_at_dest = int(transfer_info['unloading_loading_time_in_dest_min'].values[0])\n",
    "# break_time_min_dest =int(transfer_info['break_time_min'].values[0])\n",
    "# reach_at_destination_date_time=truck_start_date_time_obtained +datetime.timedelta(minutes=loading_time_origin)+datetime.timedelta(minutes=one_way_time_in_min)\n",
    "# print(\"reach_at_destination_date_time\",reach_at_destination_date_time)\n",
    "# print(\"Max_reach_date_time_at_destiny_p\",Max_reach_date_time_at_destiny_p)\n",
    "# #print(reach_at_destination_date_time>Max_reach_date_time_at_destiny_p)\n",
    "# #print(\"will reach at destiny\",reach_at_destination_date_time)\n",
    "# reach_at_destination_time=reach_at_destination_date_time.time()\n",
    "# reach_at_destination_time_ceil_down=reach_at_destination_time.hour\n",
    "# reach_at_destination_time_ceil_down_time_format=datetime.time(reach_at_destination_time_ceil_down,0,0)\n",
    "# destination_atention_hour_to_check=str(reach_at_destination_time_ceil_down_time_format)\n",
    "# #print(\"destination attention hour  to be checked \",destination_atention_hour_to_check)\n",
    "# #lets check destination attention hour \n",
    "\n",
    "# truck_sent =False\n",
    "# attention_end_obtained=\"NA\"\n",
    "# #send_external_truck=False \n",
    "# duration_of_trip='NA'\n",
    "# #Break time = 0\n",
    "\n",
    "# #STEp0: DIrectly find destination attention hour \n",
    "\n",
    "# attention_available=destiny_attention_df_temp[(destiny_attention_df_temp['Attention_Start']==destination_atention_hour_to_check)][day_of_week+\"_attention\"].values[0]\n",
    "\n",
    "# #Max_reach_date_time_at_destiny_p = max time at which trip can start from origin\n",
    "# #STEP 1:\n",
    "# if (reach_at_destination_date_time>Max_reach_date_time_at_destiny_p):\n",
    "#     attention_end_obtained=destination_atention_hour_to_check\n",
    "#     truck_sent=True\n",
    "#     wait_hour=0\n",
    "#     truck_reach_dest_date_time_obtained=reach_at_destination_date_time+datetime.timedelta(hours=wait_hour)\n",
    "#     truck_reach_back_date_time_obtained=truck_reach_dest_date_time_obtained+\\\n",
    "#     datetime.timedelta(minutes=one_way_time_in_min)+datetime.timedelta(minutes=unloading_time_at_dest)\n",
    "#     duration_of_trip=(truck_reach_back_date_time_obtained-truck_start_date_time_obtained).seconds/3600\n",
    "\n",
    "# else :\n",
    "#     if attention_available>0:\n",
    "#         attention_end_obtained=destination_atention_hour_to_check\n",
    "#         truck_sent=True\n",
    "#         #print(\"truck can be send in own truck \")\n",
    "#     else :\n",
    "#         #print(\"lets try to find attention hour after waiting \")\n",
    "#         attention_hour_list=get_attention_hour_list(destiny_attention_df,destiny,destination_atention_hour_to_check)\n",
    "#         #wait_hour_final=0\n",
    "#         #print(attention_hour_list)\n",
    "#         for attention_dest  in attention_hour_list:\n",
    "#             #### we have to send the truck right??\n",
    "#             if attention_dest==Max_reach_time_at_destiny_p:\n",
    "#                 print(\"max time reached to reach at destiny  trip can not be planned\")\n",
    "#                 break\n",
    "#             #print(\"currently checking for\",attention_dest)\n",
    "#             attention_available=destiny_attention_df_temp[(destiny_attention_df_temp['Attention_Start']==attention_dest)][day_of_week+\"_attention\"].values[0]\n",
    "#             #print(\"Attention available \",attention_available)\n",
    "#             if attention_available>0:\n",
    "#                 attention_end_obtained=attention_dest\n",
    "#                 truck_sent=True\n",
    "#                 break\n",
    "#             wait_hour=wait_hour+1\n",
    "#     #wait_hour=wait_hour_final\n",
    "#     if truck_sent==True :\n",
    "#         truck_reach_dest_date_time_obtained=reach_at_destination_date_time+datetime.timedelta(hours=wait_hour)\n",
    "#         ##### Include Honduras remolque restrictions here\n",
    "#         #### Add the individual restrictions here\n",
    "#         truck_reach_back_date_time_obtained=truck_reach_dest_date_time_obtained+\\\n",
    "#         datetime.timedelta(minutes=one_way_time_in_min)+datetime.timedelta(minutes=unloading_time_at_dest)+\\\n",
    "#         datetime.timedelta(minutes=break_time_min_dest)\n",
    "#         duration_of_trip=(truck_reach_back_date_time_obtained - truck_start_date_time_obtained)/pd.Timedelta('1 hour')\n",
    "\n",
    "# #     print(\"destination attention obtained\",attention_end_obtained)\n",
    "# #     print(\"can we send external truck\",send_external_truck)\n",
    "# #     print(\"can we send own truck\",truck_sent)\n",
    "# #     print(\"waiting time \",wait_hour)\n",
    "# print(truck_reach_back_date_time_obtained,truck_start_date_time_obtained)"
   ]
  },
  {
   "cell_type": "code",
   "execution_count": 90,
   "id": "84685eef",
   "metadata": {},
   "outputs": [
    {
     "ename": "NameError",
     "evalue": "name 'Max_reach_date_time_at_destiny_p' is not defined",
     "output_type": "error",
     "traceback": [
      "\u001b[1;31m---------------------------------------------------------------------------\u001b[0m",
      "\u001b[1;31mNameError\u001b[0m                                 Traceback (most recent call last)",
      "Cell \u001b[1;32mIn[90], line 1\u001b[0m\n\u001b[1;32m----> 1\u001b[0m two_way_time_in_min,unloading_time_at_dest,duration_of_trip_hr\u001b[38;5;241m=\u001b[39mcheck_destination_attention_v1(destiny_attention_df,distance_and_time,origin,dest1,attention_start_time_obtained,Max_reach_date_time_at_destiny_p,fecha_str,day_of_week)\n",
      "\u001b[1;31mNameError\u001b[0m: name 'Max_reach_date_time_at_destiny_p' is not defined"
     ]
    }
   ],
   "source": [
    "two_way_time_in_min,unloading_time_at_dest,duration_of_trip_hr=check_destination_attention_v1(destiny_attention_df,distance_and_time,origin,dest1,attention_start_time_obtained,Max_reach_date_time_at_destiny_p,fecha_str,day_of_week)"
   ]
  },
  {
   "cell_type": "code",
   "execution_count": null,
   "id": "d7464a36",
   "metadata": {},
   "outputs": [],
   "source": [
    "truck_start_date_time_obtained"
   ]
  },
  {
   "cell_type": "code",
   "execution_count": null,
   "id": "05b4a584",
   "metadata": {},
   "outputs": [],
   "source": [
    "destiny_attention_df[destiny_attention_df['COD']=='DH03']"
   ]
  },
  {
   "cell_type": "code",
   "execution_count": null,
   "id": "24d7bc9c",
   "metadata": {},
   "outputs": [],
   "source": [
    "if (restr_1!='No restriction') and (dest != restr_1):\n",
    "    print('True')\n",
    "else:\n",
    "    print('False')"
   ]
  },
  {
   "cell_type": "code",
   "execution_count": null,
   "id": "759bbab3",
   "metadata": {},
   "outputs": [],
   "source": [
    "distance_and_time[(distance_and_time['Origin_Code'] == origin) & (distance_and_time['Destiny_Code'] == destiny)]"
   ]
  }
 ],
 "metadata": {
  "kernelspec": {
   "display_name": "venv",
   "language": "python",
   "name": "venv"
  },
  "language_info": {
   "codemirror_mode": {
    "name": "ipython",
    "version": 3
   },
   "file_extension": ".py",
   "mimetype": "text/x-python",
   "name": "python",
   "nbconvert_exporter": "python",
   "pygments_lexer": "ipython3",
   "version": "3.11.3"
  }
 },
 "nbformat": 4,
 "nbformat_minor": 5
}
